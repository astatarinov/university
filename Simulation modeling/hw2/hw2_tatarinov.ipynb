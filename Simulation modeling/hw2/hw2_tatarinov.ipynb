{
 "cells": [
  {
   "cell_type": "code",
   "execution_count": 2,
   "id": "f45684da-8a7a-4798-8e47-d01c092626fe",
   "metadata": {},
   "outputs": [],
   "source": [
    "# !pip install pysd\n",
    "# %pylab inline\n",
    "import pysd\n",
    "model = pysd.read_vensim('./bass.mdl')"
   ]
  },
  {
   "cell_type": "code",
   "execution_count": null,
   "id": "e72405c6-a7c4-42e6-9132-f84ea5a918cc",
   "metadata": {},
   "outputs": [],
   "source": [
    "model.doc"
   ]
  },
  {
   "cell_type": "code",
   "execution_count": null,
   "id": "a0771196-34a8-4382-82ef-c88e124d22ba",
   "metadata": {},
   "outputs": [],
   "source": []
  }
 ],
 "metadata": {
  "kernelspec": {
   "display_name": "Python 3 (ipykernel)",
   "language": "python",
   "name": "python3"
  },
  "language_info": {
   "codemirror_mode": {
    "name": "ipython",
    "version": 3
   },
   "file_extension": ".py",
   "mimetype": "text/x-python",
   "name": "python",
   "nbconvert_exporter": "python",
   "pygments_lexer": "ipython3",
   "version": "3.10.11"
  }
 },
 "nbformat": 4,
 "nbformat_minor": 5
}
