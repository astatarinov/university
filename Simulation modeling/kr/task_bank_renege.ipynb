{
 "cells": [
  {
   "cell_type": "code",
   "execution_count": 5,
   "id": "4fc236c5",
   "metadata": {},
   "outputs": [],
   "source": [
    "import random\n",
    "import simpy"
   ]
  },
  {
   "cell_type": "markdown",
   "id": "7576ece6",
   "metadata": {},
   "source": [
    "## Модель банка с отказами"
   ]
  },
  {
   "cell_type": "markdown",
   "id": "4f910942",
   "metadata": {},
   "source": [
    "### Инициализация стартовой модели"
   ]
  },
  {
   "cell_type": "code",
   "execution_count": 6,
   "id": "70e2e3f2",
   "metadata": {},
   "outputs": [],
   "source": [
    "RANDOM_SEED = 42\n",
    "NEW_CUSTOMERS = 5  # Total number of customers\n",
    "INTERVAL_CUSTOMERS = 10.0  # Generate new customers roughly every x seconds\n",
    "MIN_PATIENCE = 1  # Min. customer patience\n",
    "MAX_PATIENCE = 3  # Max. customer patience"
   ]
  },
  {
   "cell_type": "code",
   "execution_count": 7,
   "id": "b58f71e9",
   "metadata": {},
   "outputs": [],
   "source": [
    "def source(env, number, interval, counter):\n",
    "    \"\"\"Source generates customers randomly\"\"\"\n",
    "    for i in range(number):\n",
    "        c = customer(env, 'Customer%02d' % i, counter, time_in_bank=12.0)\n",
    "        env.process(c)\n",
    "        t = random.expovariate(1.0 / interval)\n",
    "        yield env.timeout(t)"
   ]
  },
  {
   "cell_type": "code",
   "execution_count": 8,
   "id": "77e6821b",
   "metadata": {},
   "outputs": [],
   "source": [
    "def customer(env, name, counter, time_in_bank):\n",
    "    \"\"\"Customer arrives, is served and leaves.\"\"\"\n",
    "    arrive = env.now\n",
    "    print('%7.4f %s: Here I am' % (arrive, name))\n",
    "\n",
    "    with counter.request() as req:\n",
    "        patience = random.uniform(MIN_PATIENCE, MAX_PATIENCE)\n",
    "        # Wait for the counter or abort at the end of our tether\n",
    "        results = yield req | env.timeout(patience)\n",
    "\n",
    "        wait = env.now - arrive\n",
    "\n",
    "        if req in results:\n",
    "            # We got to the counter\n",
    "            print('%7.4f %s: Waited %6.3f' % (env.now, name, wait))\n",
    "\n",
    "            tib = random.expovariate(1.0 / time_in_bank)\n",
    "            yield env.timeout(tib)\n",
    "            print('%7.4f %s: Finished' % (env.now, name))\n",
    "\n",
    "        else:\n",
    "            # We reneged\n",
    "            print('%7.4f %s: RENEGED after %6.3f' % (env.now, name, wait))"
   ]
  },
  {
   "cell_type": "code",
   "execution_count": 9,
   "id": "bb7ebf88",
   "metadata": {},
   "outputs": [
    {
     "name": "stdout",
     "output_type": "stream",
     "text": [
      "Bank renege\n",
      " 0.0000 Customer00: Here I am\n",
      " 0.0000 Customer00: Waited  0.000\n",
      " 3.8595 Customer00: Finished\n",
      "10.2006 Customer01: Here I am\n",
      "10.2006 Customer01: Waited  0.000\n",
      "12.7265 Customer02: Here I am\n",
      "13.9003 Customer02: RENEGED after  1.174\n",
      "23.7507 Customer01: Finished\n",
      "34.9993 Customer03: Here I am\n",
      "34.9993 Customer03: Waited  0.000\n",
      "37.9599 Customer03: Finished\n",
      "40.4798 Customer04: Here I am\n",
      "40.4798 Customer04: Waited  0.000\n",
      "43.1401 Customer04: Finished\n"
     ]
    }
   ],
   "source": [
    "# Setup and start the simulation\n",
    "print('Bank renege')\n",
    "random.seed(RANDOM_SEED)\n",
    "env = simpy.Environment()\n",
    "\n",
    "# Start processes and run\n",
    "counter = simpy.Resource(env, capacity=1)\n",
    "env.process(source(env, NEW_CUSTOMERS, INTERVAL_CUSTOMERS, counter))\n",
    "env.run()"
   ]
  },
  {
   "cell_type": "markdown",
   "id": "bbd8d63e",
   "metadata": {},
   "source": [
    "### В этом примере моделируется окно обслуживания банка и клиенты, прибывающие в случайное время. У каждого клиента есть ограниченное время в очереди (отказы). Обслуживание длится некоторое время."
   ]
  },
  {
   "cell_type": "markdown",
   "id": "607a4c9c",
   "metadata": {},
   "source": [
    "### Задание (выполнять в отдельном .py и .ipynb файлах)\n",
    "\n",
    "Реализовать дополнительно следующую логику:\n",
    "\n",
    "1. Сделать модель ограниченной по времени, а не по количеству клиентов. Клиентов сделать с двумя разными типами задач (отношение $3:1$). Задача первого типа с параметром $time\\_in\\_bank=9.0$, второго - $time\\_in\\_bank=15.0$.\n",
    "2. Количество окон обслуживания сделать параметром модели. Приоритетов и выталкивания в модели нет.\n",
    "3. Ввести экономическую функцию: за каждого обслуженно клиента с задачей первого типа прибыль $3$, второго типа - $6$, за потерянного клиента первого типа издержки $1.1$, второго типа - $2.5$, фиксированные издержки за сотрудников составляют $0.03$ в единицу времени на человека, а также бонус за задачу первого типа $0.3$, второго типа - $0.5$.\n",
    "\n",
    "Максимизировать чистую прибыль по параметру числа окон на горизонте 5000 временых шагов."
   ]
  }
 ],
 "metadata": {
  "kernelspec": {
   "display_name": "Python 3 (ipykernel)",
   "language": "python",
   "name": "python3"
  },
  "language_info": {
   "codemirror_mode": {
    "name": "ipython",
    "version": 3
   },
   "file_extension": ".py",
   "mimetype": "text/x-python",
   "name": "python",
   "nbconvert_exporter": "python",
   "pygments_lexer": "ipython3",
   "version": "3.9.15"
  }
 },
 "nbformat": 4,
 "nbformat_minor": 5
}
