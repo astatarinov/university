{
  "cells": [
    {
      "cell_type": "markdown",
      "metadata": {
        "cellId": "k1gpzj4guo8e1riwj3om1k",
        "id": "91BdxqUX-tvf"
      },
      "source": [
        "### N-gram language models or how to write scientific papers (4 pts)\n",
        "\n",
        "We shall train our language model on a corpora of [ArXiv](http://arxiv.org/) articles and see if we can generate a new one!\n",
        "\n",
        "![img](https://media.npr.org/assets/img/2013/12/10/istock-18586699-monkey-computer_brick-16e5064d3378a14e0e4c2da08857efe03c04695e-s800-c85.jpg)\n",
        "\n",
        "_data by neelshah18 from [here](https://www.kaggle.com/neelshah18/arxivdataset/)_\n",
        "\n",
        "_Disclaimer: this has nothing to do with actual science. But it's fun, so who cares?!_"
      ]
    },
    {
      "cell_type": "code",
      "execution_count": 1,
      "metadata": {
        "cellId": "u8jdaiy68oib3jvr4k01",
        "id": "lO1Q84F6-tvj"
      },
      "outputs": [],
      "source": [
        "import numpy as np\n",
        "import pandas as pd\n",
        "import matplotlib.pyplot as plt\n",
        "%matplotlib inline"
      ]
    },
    {
      "cell_type": "code",
      "execution_count": 2,
      "metadata": {
        "cellId": "0c76vnyl3zui9yhtkodgrlf",
        "colab": {
          "base_uri": "https://localhost:8080/",
          "height": 747
        },
        "id": "QifBcxOv-tvk",
        "outputId": "fc6ef5ec-6c1b-4ba7-ec84-0bda48e055fb"
      },
      "outputs": [
        {
          "output_type": "stream",
          "name": "stdout",
          "text": [
            "--2024-10-09 13:14:39--  https://www.dropbox.com/s/99az9n1b57qkd9j/arxivData.json.tar.gz?dl=1\n",
            "Resolving www.dropbox.com (www.dropbox.com)... 162.125.85.18, 2620:100:601b:18::a27d:812\n",
            "Connecting to www.dropbox.com (www.dropbox.com)|162.125.85.18|:443... connected.\n",
            "HTTP request sent, awaiting response... 302 Found\n",
            "Location: https://www.dropbox.com/scl/fi/0mulrothty5o8i8ud9gz2/arxivData.json.tar.gz?rlkey=n759u5qx2xpxxglmrl390vwvk&dl=1 [following]\n",
            "--2024-10-09 13:14:40--  https://www.dropbox.com/scl/fi/0mulrothty5o8i8ud9gz2/arxivData.json.tar.gz?rlkey=n759u5qx2xpxxglmrl390vwvk&dl=1\n",
            "Reusing existing connection to www.dropbox.com:443.\n",
            "HTTP request sent, awaiting response... 302 Found\n",
            "Location: https://uceb2913a0211dfed1aed4128c21.dl.dropboxusercontent.com/cd/0/inline/CcFRs69JrkJNOgdl7g9Ydm9NxgGHPUzzAcb1cSyMedNPZf4CzSssIpX76fsjVdtQErFWh1cjP8uGrCjQgVAKQIZOGNotPs4O_BTZFnFrZ8RnMoJ54DV22Dr48jxfItz4biA/file?dl=1# [following]\n",
            "--2024-10-09 13:14:40--  https://uceb2913a0211dfed1aed4128c21.dl.dropboxusercontent.com/cd/0/inline/CcFRs69JrkJNOgdl7g9Ydm9NxgGHPUzzAcb1cSyMedNPZf4CzSssIpX76fsjVdtQErFWh1cjP8uGrCjQgVAKQIZOGNotPs4O_BTZFnFrZ8RnMoJ54DV22Dr48jxfItz4biA/file?dl=1\n",
            "Resolving uceb2913a0211dfed1aed4128c21.dl.dropboxusercontent.com (uceb2913a0211dfed1aed4128c21.dl.dropboxusercontent.com)... 162.125.85.15, 2620:100:6031:15::a27d:510f\n",
            "Connecting to uceb2913a0211dfed1aed4128c21.dl.dropboxusercontent.com (uceb2913a0211dfed1aed4128c21.dl.dropboxusercontent.com)|162.125.85.15|:443... connected.\n",
            "HTTP request sent, awaiting response... 302 Found\n",
            "Location: /cd/0/inline2/CcGktIwCGrk4W4rmyyObt4Uz82z14oBVsRFhi3DqQeO4K4qUYlgR0-ur7xnsW7QnHW32ptAFqex-CCKQcezG-xIFUhrRr5Iz3IOhuur-xbbnggEzrChB3eU0GP5wTKW3wWTGHVp4gBqaZ9BE4Vy4unkzoMiO0Qk5uw7QWqhMwtCICL5vcrgjVBbSf-ZIi3G2QlgoYWzinHhbF49f4dQ3W4PfDDqEHZlF7xaVKxEWFOt7HqlVg0gR2qcUHuFER3hIRyJ8Z3CR_-97tOHZHts0G1RN0HPsQNOQWxo9bPfojiTEDR0FzU5047O0yi3WyTKg4F0_YQV4QDBD-Q7CJLVQFzPD-j55ED2JfhSs4mKoofzeIA/file?dl=1 [following]\n",
            "--2024-10-09 13:14:41--  https://uceb2913a0211dfed1aed4128c21.dl.dropboxusercontent.com/cd/0/inline2/CcGktIwCGrk4W4rmyyObt4Uz82z14oBVsRFhi3DqQeO4K4qUYlgR0-ur7xnsW7QnHW32ptAFqex-CCKQcezG-xIFUhrRr5Iz3IOhuur-xbbnggEzrChB3eU0GP5wTKW3wWTGHVp4gBqaZ9BE4Vy4unkzoMiO0Qk5uw7QWqhMwtCICL5vcrgjVBbSf-ZIi3G2QlgoYWzinHhbF49f4dQ3W4PfDDqEHZlF7xaVKxEWFOt7HqlVg0gR2qcUHuFER3hIRyJ8Z3CR_-97tOHZHts0G1RN0HPsQNOQWxo9bPfojiTEDR0FzU5047O0yi3WyTKg4F0_YQV4QDBD-Q7CJLVQFzPD-j55ED2JfhSs4mKoofzeIA/file?dl=1\n",
            "Reusing existing connection to uceb2913a0211dfed1aed4128c21.dl.dropboxusercontent.com:443.\n",
            "HTTP request sent, awaiting response... 200 OK\n",
            "Length: 18933283 (18M) [application/binary]\n",
            "Saving to: ‘arxivData.json.tar.gz’\n",
            "\n",
            "arxivData.json.tar. 100%[===================>]  18.06M  20.1MB/s    in 0.9s    \n",
            "\n",
            "2024-10-09 13:14:43 (20.1 MB/s) - ‘arxivData.json.tar.gz’ saved [18933283/18933283]\n",
            "\n",
            "arxivData.json\n"
          ]
        },
        {
          "output_type": "execute_result",
          "data": {
            "text/plain": [
              "                                                  author  day            id  \\\n",
              "16514  [{'name': 'Yuya Sakaizawa'}, {'name': 'Mamoru ...   17  1703.05916v2   \n",
              "12882  [{'name': 'Fuxun Yu'}, {'name': 'Qide Dong'}, ...   15  1802.05763v2   \n",
              "37328  [{'name': 'Li-Chia Yang'}, {'name': 'Szu-Yu Ch...   31  1703.10847v2   \n",
              "6580   [{'name': 'Prasoon Goyal'}, {'name': 'Zhiting ...   21  1703.07027v2   \n",
              "15868  [{'name': 'Saeid Parvandeh'}, {'name': 'Shibam...    9  1606.03143v1   \n",
              "\n",
              "                                                    link  month  \\\n",
              "16514  [{'rel': 'alternate', 'href': 'http://arxiv.or...      3   \n",
              "12882  [{'rel': 'alternate', 'href': 'http://arxiv.or...      2   \n",
              "37328  [{'rel': 'alternate', 'href': 'http://arxiv.or...      3   \n",
              "6580   [{'rel': 'alternate', 'href': 'http://arxiv.or...      3   \n",
              "15868  [{'rel': 'alternate', 'href': 'http://arxiv.or...      6   \n",
              "\n",
              "                                                 summary  \\\n",
              "16514  An evaluation of distributed word representati...   \n",
              "12882  With the excellent accuracy and feasibility, t...   \n",
              "37328  Most existing neural network models for music ...   \n",
              "6580   The recently developed variational autoencoder...   \n",
              "15868  In this paper we explore the problem of docume...   \n",
              "\n",
              "                                                     tag  \\\n",
              "16514  [{'term': 'cs.CL', 'scheme': 'http://arxiv.org...   \n",
              "12882  [{'term': 'cs.CV', 'scheme': 'http://arxiv.org...   \n",
              "37328  [{'term': 'cs.SD', 'scheme': 'http://arxiv.org...   \n",
              "6580   [{'term': 'cs.LG', 'scheme': 'http://arxiv.org...   \n",
              "15868  [{'term': 'cs.CL', 'scheme': 'http://arxiv.org...   \n",
              "\n",
              "                                                   title  year  \n",
              "16514  Construction of a Japanese Word Similarity Dat...  2017  \n",
              "12882  ASP:A Fast Adversarial Attack Example Generati...  2018  \n",
              "37328  MidiNet: A Convolutional Generative Adversaria...  2017  \n",
              "6580   Nonparametric Variational Auto-encoders for Hi...  2017  \n",
              "15868  PerSum: Novel Systems for Document Summarizati...  2016  "
            ],
            "text/html": [
              "\n",
              "  <div id=\"df-6df79a1e-8b34-4cc4-b170-4f1c178d4a4f\" class=\"colab-df-container\">\n",
              "    <div>\n",
              "<style scoped>\n",
              "    .dataframe tbody tr th:only-of-type {\n",
              "        vertical-align: middle;\n",
              "    }\n",
              "\n",
              "    .dataframe tbody tr th {\n",
              "        vertical-align: top;\n",
              "    }\n",
              "\n",
              "    .dataframe thead th {\n",
              "        text-align: right;\n",
              "    }\n",
              "</style>\n",
              "<table border=\"1\" class=\"dataframe\">\n",
              "  <thead>\n",
              "    <tr style=\"text-align: right;\">\n",
              "      <th></th>\n",
              "      <th>author</th>\n",
              "      <th>day</th>\n",
              "      <th>id</th>\n",
              "      <th>link</th>\n",
              "      <th>month</th>\n",
              "      <th>summary</th>\n",
              "      <th>tag</th>\n",
              "      <th>title</th>\n",
              "      <th>year</th>\n",
              "    </tr>\n",
              "  </thead>\n",
              "  <tbody>\n",
              "    <tr>\n",
              "      <th>16514</th>\n",
              "      <td>[{'name': 'Yuya Sakaizawa'}, {'name': 'Mamoru ...</td>\n",
              "      <td>17</td>\n",
              "      <td>1703.05916v2</td>\n",
              "      <td>[{'rel': 'alternate', 'href': 'http://arxiv.or...</td>\n",
              "      <td>3</td>\n",
              "      <td>An evaluation of distributed word representati...</td>\n",
              "      <td>[{'term': 'cs.CL', 'scheme': 'http://arxiv.org...</td>\n",
              "      <td>Construction of a Japanese Word Similarity Dat...</td>\n",
              "      <td>2017</td>\n",
              "    </tr>\n",
              "    <tr>\n",
              "      <th>12882</th>\n",
              "      <td>[{'name': 'Fuxun Yu'}, {'name': 'Qide Dong'}, ...</td>\n",
              "      <td>15</td>\n",
              "      <td>1802.05763v2</td>\n",
              "      <td>[{'rel': 'alternate', 'href': 'http://arxiv.or...</td>\n",
              "      <td>2</td>\n",
              "      <td>With the excellent accuracy and feasibility, t...</td>\n",
              "      <td>[{'term': 'cs.CV', 'scheme': 'http://arxiv.org...</td>\n",
              "      <td>ASP:A Fast Adversarial Attack Example Generati...</td>\n",
              "      <td>2018</td>\n",
              "    </tr>\n",
              "    <tr>\n",
              "      <th>37328</th>\n",
              "      <td>[{'name': 'Li-Chia Yang'}, {'name': 'Szu-Yu Ch...</td>\n",
              "      <td>31</td>\n",
              "      <td>1703.10847v2</td>\n",
              "      <td>[{'rel': 'alternate', 'href': 'http://arxiv.or...</td>\n",
              "      <td>3</td>\n",
              "      <td>Most existing neural network models for music ...</td>\n",
              "      <td>[{'term': 'cs.SD', 'scheme': 'http://arxiv.org...</td>\n",
              "      <td>MidiNet: A Convolutional Generative Adversaria...</td>\n",
              "      <td>2017</td>\n",
              "    </tr>\n",
              "    <tr>\n",
              "      <th>6580</th>\n",
              "      <td>[{'name': 'Prasoon Goyal'}, {'name': 'Zhiting ...</td>\n",
              "      <td>21</td>\n",
              "      <td>1703.07027v2</td>\n",
              "      <td>[{'rel': 'alternate', 'href': 'http://arxiv.or...</td>\n",
              "      <td>3</td>\n",
              "      <td>The recently developed variational autoencoder...</td>\n",
              "      <td>[{'term': 'cs.LG', 'scheme': 'http://arxiv.org...</td>\n",
              "      <td>Nonparametric Variational Auto-encoders for Hi...</td>\n",
              "      <td>2017</td>\n",
              "    </tr>\n",
              "    <tr>\n",
              "      <th>15868</th>\n",
              "      <td>[{'name': 'Saeid Parvandeh'}, {'name': 'Shibam...</td>\n",
              "      <td>9</td>\n",
              "      <td>1606.03143v1</td>\n",
              "      <td>[{'rel': 'alternate', 'href': 'http://arxiv.or...</td>\n",
              "      <td>6</td>\n",
              "      <td>In this paper we explore the problem of docume...</td>\n",
              "      <td>[{'term': 'cs.CL', 'scheme': 'http://arxiv.org...</td>\n",
              "      <td>PerSum: Novel Systems for Document Summarizati...</td>\n",
              "      <td>2016</td>\n",
              "    </tr>\n",
              "  </tbody>\n",
              "</table>\n",
              "</div>\n",
              "    <div class=\"colab-df-buttons\">\n",
              "\n",
              "  <div class=\"colab-df-container\">\n",
              "    <button class=\"colab-df-convert\" onclick=\"convertToInteractive('df-6df79a1e-8b34-4cc4-b170-4f1c178d4a4f')\"\n",
              "            title=\"Convert this dataframe to an interactive table.\"\n",
              "            style=\"display:none;\">\n",
              "\n",
              "  <svg xmlns=\"http://www.w3.org/2000/svg\" height=\"24px\" viewBox=\"0 -960 960 960\">\n",
              "    <path d=\"M120-120v-720h720v720H120Zm60-500h600v-160H180v160Zm220 220h160v-160H400v160Zm0 220h160v-160H400v160ZM180-400h160v-160H180v160Zm440 0h160v-160H620v160ZM180-180h160v-160H180v160Zm440 0h160v-160H620v160Z\"/>\n",
              "  </svg>\n",
              "    </button>\n",
              "\n",
              "  <style>\n",
              "    .colab-df-container {\n",
              "      display:flex;\n",
              "      gap: 12px;\n",
              "    }\n",
              "\n",
              "    .colab-df-convert {\n",
              "      background-color: #E8F0FE;\n",
              "      border: none;\n",
              "      border-radius: 50%;\n",
              "      cursor: pointer;\n",
              "      display: none;\n",
              "      fill: #1967D2;\n",
              "      height: 32px;\n",
              "      padding: 0 0 0 0;\n",
              "      width: 32px;\n",
              "    }\n",
              "\n",
              "    .colab-df-convert:hover {\n",
              "      background-color: #E2EBFA;\n",
              "      box-shadow: 0px 1px 2px rgba(60, 64, 67, 0.3), 0px 1px 3px 1px rgba(60, 64, 67, 0.15);\n",
              "      fill: #174EA6;\n",
              "    }\n",
              "\n",
              "    .colab-df-buttons div {\n",
              "      margin-bottom: 4px;\n",
              "    }\n",
              "\n",
              "    [theme=dark] .colab-df-convert {\n",
              "      background-color: #3B4455;\n",
              "      fill: #D2E3FC;\n",
              "    }\n",
              "\n",
              "    [theme=dark] .colab-df-convert:hover {\n",
              "      background-color: #434B5C;\n",
              "      box-shadow: 0px 1px 3px 1px rgba(0, 0, 0, 0.15);\n",
              "      filter: drop-shadow(0px 1px 2px rgba(0, 0, 0, 0.3));\n",
              "      fill: #FFFFFF;\n",
              "    }\n",
              "  </style>\n",
              "\n",
              "    <script>\n",
              "      const buttonEl =\n",
              "        document.querySelector('#df-6df79a1e-8b34-4cc4-b170-4f1c178d4a4f button.colab-df-convert');\n",
              "      buttonEl.style.display =\n",
              "        google.colab.kernel.accessAllowed ? 'block' : 'none';\n",
              "\n",
              "      async function convertToInteractive(key) {\n",
              "        const element = document.querySelector('#df-6df79a1e-8b34-4cc4-b170-4f1c178d4a4f');\n",
              "        const dataTable =\n",
              "          await google.colab.kernel.invokeFunction('convertToInteractive',\n",
              "                                                    [key], {});\n",
              "        if (!dataTable) return;\n",
              "\n",
              "        const docLinkHtml = 'Like what you see? Visit the ' +\n",
              "          '<a target=\"_blank\" href=https://colab.research.google.com/notebooks/data_table.ipynb>data table notebook</a>'\n",
              "          + ' to learn more about interactive tables.';\n",
              "        element.innerHTML = '';\n",
              "        dataTable['output_type'] = 'display_data';\n",
              "        await google.colab.output.renderOutput(dataTable, element);\n",
              "        const docLink = document.createElement('div');\n",
              "        docLink.innerHTML = docLinkHtml;\n",
              "        element.appendChild(docLink);\n",
              "      }\n",
              "    </script>\n",
              "  </div>\n",
              "\n",
              "\n",
              "<div id=\"df-8625bb65-9344-4970-880f-af27c67c33f6\">\n",
              "  <button class=\"colab-df-quickchart\" onclick=\"quickchart('df-8625bb65-9344-4970-880f-af27c67c33f6')\"\n",
              "            title=\"Suggest charts\"\n",
              "            style=\"display:none;\">\n",
              "\n",
              "<svg xmlns=\"http://www.w3.org/2000/svg\" height=\"24px\"viewBox=\"0 0 24 24\"\n",
              "     width=\"24px\">\n",
              "    <g>\n",
              "        <path d=\"M19 3H5c-1.1 0-2 .9-2 2v14c0 1.1.9 2 2 2h14c1.1 0 2-.9 2-2V5c0-1.1-.9-2-2-2zM9 17H7v-7h2v7zm4 0h-2V7h2v10zm4 0h-2v-4h2v4z\"/>\n",
              "    </g>\n",
              "</svg>\n",
              "  </button>\n",
              "\n",
              "<style>\n",
              "  .colab-df-quickchart {\n",
              "      --bg-color: #E8F0FE;\n",
              "      --fill-color: #1967D2;\n",
              "      --hover-bg-color: #E2EBFA;\n",
              "      --hover-fill-color: #174EA6;\n",
              "      --disabled-fill-color: #AAA;\n",
              "      --disabled-bg-color: #DDD;\n",
              "  }\n",
              "\n",
              "  [theme=dark] .colab-df-quickchart {\n",
              "      --bg-color: #3B4455;\n",
              "      --fill-color: #D2E3FC;\n",
              "      --hover-bg-color: #434B5C;\n",
              "      --hover-fill-color: #FFFFFF;\n",
              "      --disabled-bg-color: #3B4455;\n",
              "      --disabled-fill-color: #666;\n",
              "  }\n",
              "\n",
              "  .colab-df-quickchart {\n",
              "    background-color: var(--bg-color);\n",
              "    border: none;\n",
              "    border-radius: 50%;\n",
              "    cursor: pointer;\n",
              "    display: none;\n",
              "    fill: var(--fill-color);\n",
              "    height: 32px;\n",
              "    padding: 0;\n",
              "    width: 32px;\n",
              "  }\n",
              "\n",
              "  .colab-df-quickchart:hover {\n",
              "    background-color: var(--hover-bg-color);\n",
              "    box-shadow: 0 1px 2px rgba(60, 64, 67, 0.3), 0 1px 3px 1px rgba(60, 64, 67, 0.15);\n",
              "    fill: var(--button-hover-fill-color);\n",
              "  }\n",
              "\n",
              "  .colab-df-quickchart-complete:disabled,\n",
              "  .colab-df-quickchart-complete:disabled:hover {\n",
              "    background-color: var(--disabled-bg-color);\n",
              "    fill: var(--disabled-fill-color);\n",
              "    box-shadow: none;\n",
              "  }\n",
              "\n",
              "  .colab-df-spinner {\n",
              "    border: 2px solid var(--fill-color);\n",
              "    border-color: transparent;\n",
              "    border-bottom-color: var(--fill-color);\n",
              "    animation:\n",
              "      spin 1s steps(1) infinite;\n",
              "  }\n",
              "\n",
              "  @keyframes spin {\n",
              "    0% {\n",
              "      border-color: transparent;\n",
              "      border-bottom-color: var(--fill-color);\n",
              "      border-left-color: var(--fill-color);\n",
              "    }\n",
              "    20% {\n",
              "      border-color: transparent;\n",
              "      border-left-color: var(--fill-color);\n",
              "      border-top-color: var(--fill-color);\n",
              "    }\n",
              "    30% {\n",
              "      border-color: transparent;\n",
              "      border-left-color: var(--fill-color);\n",
              "      border-top-color: var(--fill-color);\n",
              "      border-right-color: var(--fill-color);\n",
              "    }\n",
              "    40% {\n",
              "      border-color: transparent;\n",
              "      border-right-color: var(--fill-color);\n",
              "      border-top-color: var(--fill-color);\n",
              "    }\n",
              "    60% {\n",
              "      border-color: transparent;\n",
              "      border-right-color: var(--fill-color);\n",
              "    }\n",
              "    80% {\n",
              "      border-color: transparent;\n",
              "      border-right-color: var(--fill-color);\n",
              "      border-bottom-color: var(--fill-color);\n",
              "    }\n",
              "    90% {\n",
              "      border-color: transparent;\n",
              "      border-bottom-color: var(--fill-color);\n",
              "    }\n",
              "  }\n",
              "</style>\n",
              "\n",
              "  <script>\n",
              "    async function quickchart(key) {\n",
              "      const quickchartButtonEl =\n",
              "        document.querySelector('#' + key + ' button');\n",
              "      quickchartButtonEl.disabled = true;  // To prevent multiple clicks.\n",
              "      quickchartButtonEl.classList.add('colab-df-spinner');\n",
              "      try {\n",
              "        const charts = await google.colab.kernel.invokeFunction(\n",
              "            'suggestCharts', [key], {});\n",
              "      } catch (error) {\n",
              "        console.error('Error during call to suggestCharts:', error);\n",
              "      }\n",
              "      quickchartButtonEl.classList.remove('colab-df-spinner');\n",
              "      quickchartButtonEl.classList.add('colab-df-quickchart-complete');\n",
              "    }\n",
              "    (() => {\n",
              "      let quickchartButtonEl =\n",
              "        document.querySelector('#df-8625bb65-9344-4970-880f-af27c67c33f6 button');\n",
              "      quickchartButtonEl.style.display =\n",
              "        google.colab.kernel.accessAllowed ? 'block' : 'none';\n",
              "    })();\n",
              "  </script>\n",
              "</div>\n",
              "    </div>\n",
              "  </div>\n"
            ],
            "application/vnd.google.colaboratory.intrinsic+json": {
              "type": "dataframe",
              "summary": "{\n  \"name\": \"data\",\n  \"rows\": 5,\n  \"fields\": [\n    {\n      \"column\": \"author\",\n      \"properties\": {\n        \"dtype\": \"string\",\n        \"num_unique_values\": 5,\n        \"samples\": [\n          \"[{'name': 'Fuxun Yu'}, {'name': 'Qide Dong'}, {'name': 'Xiang Chen'}]\",\n          \"[{'name': 'Saeid Parvandeh'}, {'name': 'Shibamouli Lahiri'}, {'name': 'Fahimeh Boroumand'}]\",\n          \"[{'name': 'Li-Chia Yang'}, {'name': 'Szu-Yu Chou'}, {'name': 'Yi-Hsuan Yang'}]\"\n        ],\n        \"semantic_type\": \"\",\n        \"description\": \"\"\n      }\n    },\n    {\n      \"column\": \"day\",\n      \"properties\": {\n        \"dtype\": \"number\",\n        \"std\": 8,\n        \"min\": 9,\n        \"max\": 31,\n        \"num_unique_values\": 5,\n        \"samples\": [\n          15,\n          9,\n          31\n        ],\n        \"semantic_type\": \"\",\n        \"description\": \"\"\n      }\n    },\n    {\n      \"column\": \"id\",\n      \"properties\": {\n        \"dtype\": \"string\",\n        \"num_unique_values\": 5,\n        \"samples\": [\n          \"1802.05763v2\",\n          \"1606.03143v1\",\n          \"1703.10847v2\"\n        ],\n        \"semantic_type\": \"\",\n        \"description\": \"\"\n      }\n    },\n    {\n      \"column\": \"link\",\n      \"properties\": {\n        \"dtype\": \"string\",\n        \"num_unique_values\": 5,\n        \"samples\": [\n          \"[{'rel': 'alternate', 'href': 'http://arxiv.org/abs/1802.05763v2', 'type': 'text/html'}, {'rel': 'related', 'href': 'http://arxiv.org/pdf/1802.05763v2', 'type': 'application/pdf', 'title': 'pdf'}]\",\n          \"[{'rel': 'alternate', 'href': 'http://arxiv.org/abs/1606.03143v1', 'type': 'text/html'}, {'rel': 'related', 'href': 'http://arxiv.org/pdf/1606.03143v1', 'type': 'application/pdf', 'title': 'pdf'}]\",\n          \"[{'rel': 'alternate', 'href': 'http://arxiv.org/abs/1703.10847v2', 'type': 'text/html'}, {'rel': 'related', 'href': 'http://arxiv.org/pdf/1703.10847v2', 'type': 'application/pdf', 'title': 'pdf'}]\"\n        ],\n        \"semantic_type\": \"\",\n        \"description\": \"\"\n      }\n    },\n    {\n      \"column\": \"month\",\n      \"properties\": {\n        \"dtype\": \"number\",\n        \"std\": 1,\n        \"min\": 2,\n        \"max\": 6,\n        \"num_unique_values\": 3,\n        \"samples\": [\n          3,\n          2,\n          6\n        ],\n        \"semantic_type\": \"\",\n        \"description\": \"\"\n      }\n    },\n    {\n      \"column\": \"summary\",\n      \"properties\": {\n        \"dtype\": \"string\",\n        \"num_unique_values\": 5,\n        \"samples\": [\n          \"With the excellent accuracy and feasibility, the Neural Networks have been\\nwidely applied into the novel intelligent applications and systems. However,\\nwith the appearance of the Adversarial Attack, the NN based system performance\\nbecomes extremely vulnerable:the image classification results can be\\narbitrarily misled by the adversarial examples, which are crafted images with\\nhuman unperceivable pixel-level perturbation. As this raised a significant\\nsystem security issue, we implemented a series of investigations on the\\nadversarial attack in this work: We first identify an image's pixel\\nvulnerability to the adversarial attack based on the adversarial saliency\\nanalysis. By comparing the analyzed saliency map and the adversarial\\nperturbation distribution, we proposed a new evaluation scheme to\\ncomprehensively assess the adversarial attack precision and efficiency. Then,\\nwith a novel adversarial saliency prediction method, a fast adversarial example\\ngeneration framework, namely \\\"ASP\\\", is proposed with significant attack\\nefficiency improvement and dramatic computation cost reduction. Compared to the\\nprevious methods, experiments show that ASP has at most 12 times speed-up for\\nadversarial example generation, 2 times lower perturbation rate, and high\\nattack success rate of 87% on both MNIST and Cifar10. ASP can be also well\\nutilized to support the data-hungry NN adversarial training. By reducing the\\nattack success rate as much as 90%, ASP can quickly and effectively enhance the\\ndefense capability of NN based system to the adversarial attacks.\",\n          \"In this paper we explore the problem of document summarization in Persian\\nlanguage from two distinct angles. In our first approach, we modify a popular\\nand widely cited Persian document summarization framework to see how it works\\non a realistic corpus of news articles. Human evaluation on generated summaries\\nshows that graph-based methods perform better than the modified systems. We\\ncarry this intuition forward in our second approach, and probe deeper into the\\nnature of graph-based systems by designing several summarizers based on\\ncentrality measures. Ad hoc evaluation using ROUGE score on these summarizers\\nsuggests that there is a small class of centrality measures that perform better\\nthan three strong unsupervised baselines.\",\n          \"Most existing neural network models for music generation use recurrent neural\\nnetworks. However, the recent WaveNet model proposed by DeepMind shows that\\nconvolutional neural networks (CNNs) can also generate realistic musical\\nwaveforms in the audio domain. Following this light, we investigate using CNNs\\nfor generating melody (a series of MIDI notes) one bar after another in the\\nsymbolic domain. In addition to the generator, we use a discriminator to learn\\nthe distributions of melodies, making it a generative adversarial network\\n(GAN). Moreover, we propose a novel conditional mechanism to exploit available\\nprior knowledge, so that the model can generate melodies either from scratch,\\nby following a chord sequence, or by conditioning on the melody of previous\\nbars (e.g. a priming melody), among other possibilities. The resulting model,\\nnamed MidiNet, can be expanded to generate music with multiple MIDI channels\\n(i.e. tracks). We conduct a user study to compare the melody of eight-bar long\\ngenerated by MidiNet and by Google's MelodyRNN models, each time using the same\\npriming melody. Result shows that MidiNet performs comparably with MelodyRNN\\nmodels in being realistic and pleasant to listen to, yet MidiNet's melodies are\\nreported to be much more interesting.\"\n        ],\n        \"semantic_type\": \"\",\n        \"description\": \"\"\n      }\n    },\n    {\n      \"column\": \"tag\",\n      \"properties\": {\n        \"dtype\": \"string\",\n        \"num_unique_values\": 4,\n        \"samples\": [\n          \"[{'term': 'cs.CV', 'scheme': 'http://arxiv.org/schemas/atom', 'label': None}, {'term': 'cs.CR', 'scheme': 'http://arxiv.org/schemas/atom', 'label': None}, {'term': 'cs.LG', 'scheme': 'http://arxiv.org/schemas/atom', 'label': None}]\",\n          \"[{'term': 'cs.LG', 'scheme': 'http://arxiv.org/schemas/atom', 'label': None}, {'term': 'stat.ML', 'scheme': 'http://arxiv.org/schemas/atom', 'label': None}]\",\n          \"[{'term': 'cs.CL', 'scheme': 'http://arxiv.org/schemas/atom', 'label': None}]\"\n        ],\n        \"semantic_type\": \"\",\n        \"description\": \"\"\n      }\n    },\n    {\n      \"column\": \"title\",\n      \"properties\": {\n        \"dtype\": \"string\",\n        \"num_unique_values\": 5,\n        \"samples\": [\n          \"ASP:A Fast Adversarial Attack Example Generation Framework based on\\n  Adversarial Saliency Prediction\",\n          \"PerSum: Novel Systems for Document Summarization in Persian\",\n          \"MidiNet: A Convolutional Generative Adversarial Network for\\n  Symbolic-domain Music Generation\"\n        ],\n        \"semantic_type\": \"\",\n        \"description\": \"\"\n      }\n    },\n    {\n      \"column\": \"year\",\n      \"properties\": {\n        \"dtype\": \"number\",\n        \"std\": 0,\n        \"min\": 2016,\n        \"max\": 2018,\n        \"num_unique_values\": 3,\n        \"samples\": [\n          2017,\n          2018,\n          2016\n        ],\n        \"semantic_type\": \"\",\n        \"description\": \"\"\n      }\n    }\n  ]\n}"
            }
          },
          "metadata": {},
          "execution_count": 2
        }
      ],
      "source": [
        "# Alternative manual download link: https://yadi.sk/d/_nGyU2IajjR9-w\n",
        "!wget \"https://www.dropbox.com/s/99az9n1b57qkd9j/arxivData.json.tar.gz?dl=1\" -O arxivData.json.tar.gz\n",
        "!tar -xvzf arxivData.json.tar.gz\n",
        "data = pd.read_json(\"./arxivData.json\")\n",
        "data.sample(n=5)"
      ]
    },
    {
      "cell_type": "code",
      "execution_count": 3,
      "metadata": {
        "cellId": "lbyqb5rx7j8jpo591r06ak",
        "colab": {
          "base_uri": "https://localhost:8080/"
        },
        "id": "YGt6ZU4b-tvk",
        "outputId": "f521f897-1d37-4fb3-f7aa-9923a44b0631"
      },
      "outputs": [
        {
          "output_type": "execute_result",
          "data": {
            "text/plain": [
              "['Differential Contrastive Divergence ; This paper has been retracted.',\n",
              " 'What Does Artificial Life Tell Us About Death? ; Short philosophical essay',\n",
              " 'P=NP ; We claim to resolve the P=?NP problem via a formal argument for P=NP.']"
            ]
          },
          "metadata": {},
          "execution_count": 3
        }
      ],
      "source": [
        "# assemble lines: concatenate title and description\n",
        "lines = data.apply(lambda row: row['title'] + ' ; ' + row['summary'].replace(\"\\n\", ' '), axis=1).tolist()\n",
        "\n",
        "sorted(lines, key=len)[:3]"
      ]
    },
    {
      "cell_type": "markdown",
      "metadata": {
        "cellId": "7u97m5s8ekl5zd5a43a1yc",
        "id": "i8DT1DvJ-tvl"
      },
      "source": [
        "### Tokenization\n",
        "\n",
        "You know the dril. The data is messy. Go clean the data. Use WordPunctTokenizer or something.\n"
      ]
    },
    {
      "cell_type": "code",
      "execution_count": 6,
      "metadata": {
        "cellId": "u8rvfk719iek97t3rarwr",
        "id": "nd5UD9Ub-tvl"
      },
      "outputs": [],
      "source": [
        "# Task: convert lines (in-place) into strings of space-separated tokens. Import & use WordPunctTokenizer\n",
        "\n",
        "from nltk import WordPunctTokenizer\n",
        "\n",
        "tokenizer = WordPunctTokenizer()\n",
        "for index in range(len(lines)):\n",
        "    lines[index] = \" \".join(tokenizer.tokenize(lines[index])).lower()\n",
        "\n",
        "# lines = <...>"
      ]
    },
    {
      "cell_type": "code",
      "execution_count": 7,
      "metadata": {
        "cellId": "w88nddpp2k8edoeyyyjh0l",
        "id": "-NyTJgKS-tvl"
      },
      "outputs": [],
      "source": [
        "assert sorted(lines, key=len)[0] == \\\n",
        "    'differential contrastive divergence ; this paper has been retracted .'\n",
        "assert sorted(lines, key=len)[2] == \\\n",
        "    'p = np ; we claim to resolve the p =? np problem via a formal argument for p = np .'"
      ]
    },
    {
      "cell_type": "markdown",
      "metadata": {
        "cellId": "qb6h3hxmr095egzv8rlzul",
        "id": "f4DBkxOE-tvl"
      },
      "source": [
        "### N-Gram Language Model (1point)\n",
        "\n",
        "A language model is a probabilistic model that estimates text probability: the joint probability of all tokens $w_t$ in text $X$: $P(X) = P(w_1, \\dots, w_T)$.\n",
        "\n",
        "It can do so by following the chain rule:\n",
        "$$P(w_1, \\dots, w_T) = P(w_1)P(w_2 \\mid w_1)\\dots P(w_T \\mid w_1, \\dots, w_{T-1}).$$\n",
        "\n",
        "The problem with such approach is that the final term $P(w_T \\mid w_1, \\dots, w_{T-1})$ depends on $n-1$ previous words. This probability is impractical to estimate for long texts, e.g. $T = 1000$.\n",
        "\n",
        "One popular approximation is to assume that next word only depends on a finite amount of previous words:\n",
        "\n",
        "$$P(w_t \\mid w_1, \\dots, w_{t - 1}) = P(w_t \\mid w_{t - n + 1}, \\dots, w_{t - 1})$$\n",
        "\n",
        "Such model is called __n-gram language model__ where n is a parameter. For example, in 3-gram language model, each word only depends on 2 previous words.\n",
        "\n",
        "$$\n",
        "    P(w_1, \\dots, w_n) = \\prod_t P(w_t \\mid w_{t - n + 1}, \\dots, w_{t - 1}).\n",
        "$$\n",
        "\n",
        "You can also sometimes see such approximation under the name of _n-th order markov assumption_."
      ]
    },
    {
      "cell_type": "markdown",
      "metadata": {
        "cellId": "u68wydbiioqlp5gl96mhd",
        "id": "qDVffQO9-tvm"
      },
      "source": [
        "The first stage to building such a model is counting all word occurences given N-1 previous words"
      ]
    },
    {
      "cell_type": "code",
      "execution_count": 13,
      "metadata": {
        "cellId": "og84gjipnumsakhiiu9ap",
        "id": "D6SvcRnt-tvm"
      },
      "outputs": [],
      "source": [
        "from tqdm import tqdm\n",
        "from collections import defaultdict, Counter\n",
        "\n",
        "# special tokens:\n",
        "# - `UNK` represents absent tokens,\n",
        "# - `EOS` is a special token after the end of sequence\n",
        "\n",
        "UNK, EOS = \"_UNK_\", \"_EOS_\"\n",
        "\n",
        "def count_ngrams(lines, n):\n",
        "    \"\"\"\n",
        "    Count how many times each word occured after (n - 1) previous words\n",
        "    :param lines: an iterable of strings with space-separated tokens\n",
        "    :returns: a dictionary { tuple(prefix_tokens): {next_token_1: count_1, next_token_2: count_2}}\n",
        "\n",
        "    When building counts, please consider the following two edge cases:\n",
        "    - if prefix is shorter than (n - 1) tokens, it should be padded with UNK. For n=3,\n",
        "      empty prefix: \"\" -> (UNK, UNK)\n",
        "      short prefix: \"the\" -> (UNK, the)\n",
        "      long prefix: \"the new approach\" -> (new, approach)\n",
        "    - you should add a special token, EOS, at the end of each sequence\n",
        "      \"... with deep neural networks .\" -> (..., with, deep, neural, networks, ., EOS)\n",
        "      count the probability of this token just like all others.\n",
        "    \"\"\"\n",
        "    counts = defaultdict(Counter)\n",
        "    # counts[(word1, word2)][word3] = how many times word3 occured after (word1, word2)\n",
        "\n",
        "    for line in tqdm(lines):\n",
        "        tokens = line.split()\n",
        "        tokens.append(EOS)\n",
        "\n",
        "        padded_tokens = [UNK] * (n - 1) + tokens\n",
        "\n",
        "        for i in range(len(tokens)):\n",
        "            prefix = tuple(padded_tokens[i:i+n-1])\n",
        "            next_token = tokens[i]\n",
        "            counts[prefix][next_token] += 1\n",
        "\n",
        "    return counts"
      ]
    },
    {
      "cell_type": "code",
      "execution_count": 9,
      "metadata": {
        "cellId": "xyf2he6lak9mmqarl3nck",
        "colab": {
          "base_uri": "https://localhost:8080/"
        },
        "id": "8L2KNyxq-tvm",
        "outputId": "79b0bcf8-a69a-400d-fb95-0f88e28dff73"
      },
      "outputs": [
        {
          "output_type": "stream",
          "name": "stderr",
          "text": [
            "100%|██████████| 100/100 [00:00<00:00, 3506.94it/s]\n"
          ]
        }
      ],
      "source": [
        "# let's test it\n",
        "dummy_lines = sorted(lines, key=len)[:100]\n",
        "dummy_counts = count_ngrams(dummy_lines, n=3)\n",
        "assert set(map(len, dummy_counts.keys())) == {2}, \"please only count {n-1}-grams\"\n",
        "assert len(dummy_counts[('_UNK_', '_UNK_')]) == 78\n",
        "assert dummy_counts['_UNK_', 'a']['note'] == 3\n",
        "assert dummy_counts['p', '=']['np'] == 2\n",
        "assert dummy_counts['author', '.']['_EOS_'] == 1"
      ]
    },
    {
      "cell_type": "markdown",
      "metadata": {
        "cellId": "4j620npeqvj0k8ak8xqx8xk",
        "id": "mcSA67iE-tvn"
      },
      "source": [
        "Once we can count N-grams, we can build a probabilistic language model.\n",
        "The simplest way to compute probabilities is in proporiton to counts:\n",
        "\n",
        "$$ P(w_t | prefix) = { Count(prefix, w_t) \\over \\sum_{\\hat w} Count(prefix, \\hat w) } $$"
      ]
    },
    {
      "cell_type": "code",
      "execution_count": 10,
      "metadata": {
        "cellId": "c7cm76wmzlaa12bctznzei",
        "id": "BpMOQQE4-tvn"
      },
      "outputs": [],
      "source": [
        "class NGramLanguageModel:\n",
        "    def __init__(self, lines, n):\n",
        "        \"\"\"\n",
        "        Train a simple count-based language model:\n",
        "        compute probabilities P(w_t | prefix) given ngram counts\n",
        "\n",
        "        :param n: computes probability of next token given (n - 1) previous words\n",
        "        :param lines: an iterable of strings with space-separated tokens\n",
        "        \"\"\"\n",
        "        assert n >= 1\n",
        "        self.n = n\n",
        "\n",
        "        counts = count_ngrams(lines, self.n)\n",
        "\n",
        "        # compute token proabilities given counts\n",
        "        self.probs = defaultdict(Counter)\n",
        "        # probs[(word1, word2)][word3] = P(word3 | word1, word2)\n",
        "\n",
        "        # populate self.probs with actual probabilities\n",
        "        for prefix, token_counter in counts.items():\n",
        "            count_sum = sum(token_counter.values())\n",
        "            for token, token_count in token_counter.items():\n",
        "                self.probs[prefix][token] = token_count / count_sum\n",
        "\n",
        "    def get_possible_next_tokens(self, prefix):\n",
        "        \"\"\"\n",
        "        :param prefix: string with space-separated prefix tokens\n",
        "        :returns: a dictionary {token : it's probability} for all tokens with positive probabilities\n",
        "        \"\"\"\n",
        "        prefix = prefix.split()\n",
        "        prefix = prefix[max(0, len(prefix) - self.n + 1):]\n",
        "        prefix = [ UNK ] * (self.n - 1 - len(prefix)) + prefix\n",
        "        return self.probs[tuple(prefix)]\n",
        "\n",
        "    def get_next_token_prob(self, prefix, next_token):\n",
        "        \"\"\"\n",
        "        :param prefix: string with space-separated prefix tokens\n",
        "        :param next_token: the next token to predict probability for\n",
        "        :returns: P(next_token|prefix) a single number, 0 <= P <= 1\n",
        "        \"\"\"\n",
        "        return self.get_possible_next_tokens(prefix).get(next_token, 0)"
      ]
    },
    {
      "cell_type": "markdown",
      "metadata": {
        "cellId": "0ftnn4nmuzrup6c0vvhb8q",
        "id": "x0omZe1J-tvn"
      },
      "source": [
        "Let's test it!"
      ]
    },
    {
      "cell_type": "code",
      "execution_count": 11,
      "metadata": {
        "cellId": "a7zajcnvhqupvcrmacvkur",
        "colab": {
          "base_uri": "https://localhost:8080/"
        },
        "id": "JY3DZp2E-tvo",
        "outputId": "45e73e92-a0e9-4fc6-9b59-c66d089c2d1e"
      },
      "outputs": [
        {
          "output_type": "stream",
          "name": "stderr",
          "text": [
            "100%|██████████| 100/100 [00:00<00:00, 10326.73it/s]\n"
          ]
        }
      ],
      "source": [
        "dummy_lm = NGramLanguageModel(dummy_lines, n=3)\n",
        "\n",
        "p_initial = dummy_lm.get_possible_next_tokens('') # '' -> ['_UNK_', '_UNK_']\n",
        "assert np.allclose(p_initial['learning'], 0.02)\n",
        "assert np.allclose(p_initial['a'], 0.13)\n",
        "assert np.allclose(p_initial.get('meow', 0), 0)\n",
        "assert np.allclose(sum(p_initial.values()), 1)\n",
        "\n",
        "p_a = dummy_lm.get_possible_next_tokens('a') # '' -> ['_UNK_', 'a']\n",
        "assert np.allclose(p_a['machine'], 0.15384615)\n",
        "assert np.allclose(p_a['note'], 0.23076923)\n",
        "assert np.allclose(p_a.get('the', 0), 0)\n",
        "assert np.allclose(sum(p_a.values()), 1)\n",
        "\n",
        "assert np.allclose(dummy_lm.get_possible_next_tokens('a note')['on'], 1)\n",
        "assert dummy_lm.get_possible_next_tokens('a machine') == \\\n",
        "    dummy_lm.get_possible_next_tokens(\"there have always been ghosts in a machine\"), \\\n",
        "    \"your 3-gram model should only depend on 2 previous words\""
      ]
    },
    {
      "cell_type": "markdown",
      "metadata": {
        "cellId": "oh8r9a41kuk4r51wra9",
        "id": "H0PzmDzn-tvo"
      },
      "source": [
        "Now that you've got a working n-gram language model, let's see what sequences it can generate. But first, let's train it on the whole dataset."
      ]
    },
    {
      "cell_type": "code",
      "execution_count": 12,
      "metadata": {
        "cellId": "f17xoejjppmooo2nopw4xo",
        "colab": {
          "base_uri": "https://localhost:8080/"
        },
        "id": "LIekjGWi-tvo",
        "outputId": "be4726da-b582-4d24-a4ff-e0a9285ac5cd"
      },
      "outputs": [
        {
          "output_type": "stream",
          "name": "stderr",
          "text": [
            "100%|██████████| 41000/41000 [00:21<00:00, 1937.41it/s]\n"
          ]
        }
      ],
      "source": [
        "lm = NGramLanguageModel(lines, n=3)"
      ]
    },
    {
      "cell_type": "markdown",
      "metadata": {
        "cellId": "2kd9glwnkr470qc4bt7f1e",
        "id": "ZOILLixM-tvo"
      },
      "source": [
        "The process of generating sequences is... well, it's sequential. You maintain a list of tokens and iteratively add next token by sampling with probabilities.\n",
        "\n",
        "$ X = [] $\n",
        "\n",
        "__forever:__\n",
        "* $w_{next} \\sim P(w_{next} | X)$\n",
        "* $X = concat(X, w_{next})$\n",
        "\n",
        "\n",
        "Instead of sampling with probabilities, one can also try always taking most likely token, sampling among top-K most likely tokens or sampling with temperature. In the latter case (temperature), one samples from\n",
        "\n",
        "$$w_{next} \\sim {P(w_{next} | X) ^ {1 / \\tau} \\over \\sum_{\\hat w} P(\\hat w | X) ^ {1 / \\tau}}$$\n",
        "\n",
        "Where $\\tau > 0$ is model temperature. If $\\tau << 1$, more likely tokens will be sampled with even higher probability while less likely tokens will vanish."
      ]
    },
    {
      "cell_type": "code",
      "execution_count": 19,
      "metadata": {
        "cellId": "sgbatlm9vzb4z889fho7",
        "id": "W0MUf0VK-tvo"
      },
      "outputs": [],
      "source": [
        "def get_next_token(lm, prefix, temperature=1.0):\n",
        "    \"\"\"\n",
        "    return next token after prefix;\n",
        "    :param temperature: samples proportionally to lm probabilities ^ (1 / temperature)\n",
        "        if temperature == 0, always takes most likely token. Break ties arbitrarily.\n",
        "    \"\"\"\n",
        "\n",
        "    possible_tokens = lm.get_possible_next_tokens(prefix)\n",
        "\n",
        "    if not possible_tokens:\n",
        "        return UNK\n",
        "\n",
        "    if temperature == 0:\n",
        "        return max(possible_tokens, key=possible_tokens.get)\n",
        "\n",
        "    tokens = list(possible_tokens.keys())\n",
        "    probabilities = np.array(list(possible_tokens.values()))\n",
        "\n",
        "    probabilities = probabilities ** (1 / temperature)\n",
        "    probabilities /= probabilities.sum()\n",
        "\n",
        "    return np.random.choice(tokens, p=probabilities)"
      ]
    },
    {
      "cell_type": "code",
      "execution_count": 20,
      "metadata": {
        "cellId": "98l40131wjtd5xbdm5b2nr",
        "colab": {
          "base_uri": "https://localhost:8080/"
        },
        "id": "rYKYm57v-tvp",
        "outputId": "d3381090-42b0-4d15-9e7c-065fe9a8ef96"
      },
      "outputs": [
        {
          "output_type": "stream",
          "name": "stdout",
          "text": [
            "Looks nice!\n"
          ]
        }
      ],
      "source": [
        "from collections import Counter\n",
        "test_freqs = Counter([get_next_token(lm, 'there have') for _ in range(10000)])\n",
        "assert 250 < test_freqs['not'] < 450\n",
        "assert 8500 < test_freqs['been'] < 9500\n",
        "assert 1 < test_freqs['lately'] < 200\n",
        "\n",
        "test_freqs = Counter([get_next_token(lm, 'deep', temperature=1.0) for _ in range(10000)])\n",
        "assert 1500 < test_freqs['learning'] < 3000\n",
        "test_freqs = Counter([get_next_token(lm, 'deep', temperature=0.5) for _ in range(10000)])\n",
        "assert 8000 < test_freqs['learning'] < 9000\n",
        "test_freqs = Counter([get_next_token(lm, 'deep', temperature=0.0) for _ in range(10000)])\n",
        "assert test_freqs['learning'] == 10000\n",
        "\n",
        "print(\"Looks nice!\")"
      ]
    },
    {
      "cell_type": "markdown",
      "metadata": {
        "cellId": "ux4n8iq523n4s3ftrelhxj",
        "id": "V9WBwQPQ-tvp"
      },
      "source": [
        "Let's have fun with this model"
      ]
    },
    {
      "cell_type": "code",
      "execution_count": 21,
      "metadata": {
        "cellId": "1nnnycga61rijt6nd8zai",
        "colab": {
          "base_uri": "https://localhost:8080/"
        },
        "id": "Wo3OBFyM-tvp",
        "outputId": "e0fb78fa-bd70-47b4-fd79-36433e7f6c8a"
      },
      "outputs": [
        {
          "output_type": "stream",
          "name": "stdout",
          "text": [
            "artificial neural network ( dqn ) and the ranked structures used in conjunction with an existing trained model with time - dependant optimal health protection measures to represent the meaning the architecture before training the dorsal processing hierarchy , it becomes clear that the average of 362 . 6 % ( mlp ) to implement mechanisms and introducing real - time applications . we additionally show a substantial extension of the input lr image . we propose a novel method called predictive correlation screening . _EOS_\n"
          ]
        }
      ],
      "source": [
        "prefix = 'artificial' # <- your ideas :)\n",
        "\n",
        "for i in range(100):\n",
        "    prefix += ' ' + get_next_token(lm, prefix)\n",
        "    if prefix.endswith(EOS) or len(lm.get_possible_next_tokens(prefix)) == 0:\n",
        "        break\n",
        "\n",
        "print(prefix)"
      ]
    },
    {
      "cell_type": "code",
      "execution_count": 22,
      "metadata": {
        "cellId": "pxyjsv3b7r8thdfxlgitl",
        "colab": {
          "base_uri": "https://localhost:8080/"
        },
        "id": "jYIjbvqf-tvq",
        "outputId": "b4279309-47f4-4a13-e5c5-df9a350edea7"
      },
      "outputs": [
        {
          "output_type": "stream",
          "name": "stdout",
          "text": [
            "bridging the gap between makeup and non - uniform sampling , which is a fundamental problem in a wide range of tasks , including a multidimensional space onto the intersection of the data . we show that our approach , and the results show that the proposed approach outperforms the baseline . _EOS_\n"
          ]
        }
      ],
      "source": [
        "prefix = 'bridging the' # <- more of your ideas\n",
        "\n",
        "for i in range(100):\n",
        "    prefix += ' ' + get_next_token(lm, prefix, temperature=0.5)\n",
        "    if prefix.endswith(EOS) or len(lm.get_possible_next_tokens(prefix)) == 0:\n",
        "        break\n",
        "\n",
        "print(prefix)"
      ]
    },
    {
      "cell_type": "markdown",
      "metadata": {
        "cellId": "2n90bscmzfko0qnctp7ysc",
        "id": "y8dEwfS3-tvq"
      },
      "source": [
        "__More in the homework:__ nucleus sampling, top-k sampling, beam search(not for the faint of heart)."
      ]
    },
    {
      "cell_type": "markdown",
      "metadata": {
        "cellId": "3gdmey7g8at5n5c5x4gayh",
        "id": "MaWJLzns-tvq"
      },
      "source": [
        "### Evaluating language models: perplexity (1point)\n",
        "\n",
        "Perplexity is a measure of how well your model approximates the true probability distribution behind the data. __Smaller perplexity = better model__.\n",
        "\n",
        "To compute perplexity on one sentence, use:\n",
        "$$\n",
        "    {\\mathbb{P}}(w_1 \\dots w_N) = P(w_1, \\dots, w_N)^{-\\frac1N} = \\left( \\prod_t P(w_t \\mid w_{t - n}, \\dots, w_{t - 1})\\right)^{-\\frac1N},\n",
        "$$\n",
        "\n",
        "\n",
        "On the corpora level, perplexity is a product of probabilities of all tokens in all sentences to the power of $1/N$, where $N$ is __total length (in tokens) of all sentences__ in corpora.\n",
        "\n",
        "This number can quickly get too small for float32/float64 precision, so we recommend you to first compute log-perplexity (from log-probabilities) and then take the exponent."
      ]
    },
    {
      "cell_type": "code",
      "source": [
        "import numpy as np\n",
        "\n",
        "def perplexity(lm, lines, min_logprob=np.log(10 ** -50.)):\n",
        "    \"\"\"\n",
        "    :param lm: NGramLanguageModel instance\n",
        "    :param lines: a list of strings with space-separated tokens\n",
        "    :param min_logprob: if log(P(w | ...)) is smaller than min_logprop, set it equal to min_logrob\n",
        "    :returns: corpora-level perplexity - a single scalar number from the formula above\n",
        "\n",
        "    Note: do not forget to compute P(w_first | empty) and P(eos | full_sequence)\n",
        "    \"\"\"\n",
        "    total_logprob = 0\n",
        "    total_tokens = 0\n",
        "\n",
        "    for line in lines:\n",
        "        tokens = line.split()\n",
        "        tokens.append(EOS)  # Add EOS token at the end of each sequence\n",
        "\n",
        "        for i in range(len(tokens)):\n",
        "            if i == 0:\n",
        "                prefix = \"\"\n",
        "            else:\n",
        "                prefix = \" \".join(tokens[:i])\n",
        "\n",
        "            next_token = tokens[i]\n",
        "\n",
        "            prob = lm.get_next_token_prob(prefix, next_token)\n",
        "            logprob = max(np.log(prob), min_logprob) if prob > 0 else min_logprob\n",
        "\n",
        "            total_logprob += logprob\n",
        "            total_tokens += 1\n",
        "\n",
        "    # Calculate perplexity\n",
        "    avg_logprob = total_logprob / total_tokens\n",
        "    perplexity = np.exp(-avg_logprob)\n",
        "\n",
        "    return perplexity"
      ],
      "metadata": {
        "id": "h6WuK4sIiKEm"
      },
      "execution_count": 25,
      "outputs": []
    },
    {
      "cell_type": "code",
      "execution_count": 26,
      "metadata": {
        "cellId": "8b689bobhkey04x7pabupj",
        "colab": {
          "base_uri": "https://localhost:8080/"
        },
        "id": "C0b5mWhv-tvr",
        "outputId": "ac020548-f2da-4b92-9731-2312a6c6f0aa"
      },
      "outputs": [
        {
          "output_type": "stream",
          "name": "stderr",
          "text": [
            "100%|██████████| 100/100 [00:00<00:00, 25251.68it/s]\n",
            "100%|██████████| 100/100 [00:00<00:00, 10084.40it/s]\n",
            "100%|██████████| 100/100 [00:00<00:00, 13616.54it/s]"
          ]
        },
        {
          "output_type": "stream",
          "name": "stdout",
          "text": [
            "Perplexities: ppx1=318.213 ppx3=1.520 ppx10=1.184\n"
          ]
        },
        {
          "output_type": "stream",
          "name": "stderr",
          "text": [
            "\n"
          ]
        }
      ],
      "source": [
        "lm1 = NGramLanguageModel(dummy_lines, n=1)\n",
        "lm3 = NGramLanguageModel(dummy_lines, n=3)\n",
        "lm10 = NGramLanguageModel(dummy_lines, n=10)\n",
        "\n",
        "ppx1 = perplexity(lm1, dummy_lines)\n",
        "ppx3 = perplexity(lm3, dummy_lines)\n",
        "ppx10 = perplexity(lm10, dummy_lines)\n",
        "ppx_missing = perplexity(lm3, ['the jabberwock , with eyes of flame , '])  # thanks, L. Carrol\n",
        "\n",
        "print(\"Perplexities: ppx1=%.3f ppx3=%.3f ppx10=%.3f\" % (ppx1, ppx3, ppx10))\n",
        "\n",
        "assert all(0 < ppx < 500 for ppx in (ppx1, ppx3, ppx10)), \"perplexity should be non-negative and reasonably small\"\n",
        "assert ppx1 > ppx3 > ppx10, \"higher N models should overfit and \"\n",
        "assert np.isfinite(ppx_missing) and ppx_missing > 10 ** 6, \"missing words should have large but finite perplexity. \" \\\n",
        "    \" Make sure you use min_logprob right\"\n",
        "assert np.allclose([ppx1, ppx3, ppx10], (318.2132342216302, 1.5199996213739575, 1.1838145037901249))"
      ]
    },
    {
      "cell_type": "markdown",
      "metadata": {
        "cellId": "ypc4lks4vs1li908fqi8",
        "id": "Hmo6HL36-tvr"
      },
      "source": [
        "Now let's measure the actual perplexity: we'll split the data into train and test and score model on test data only."
      ]
    },
    {
      "cell_type": "code",
      "execution_count": 27,
      "metadata": {
        "cellId": "tjnehsem2lmijkg2lto4w",
        "colab": {
          "base_uri": "https://localhost:8080/"
        },
        "id": "4G4KjfIm-tvr",
        "outputId": "aff350c3-4ef4-4102-e764-4379c3638de3"
      },
      "outputs": [
        {
          "output_type": "stream",
          "name": "stderr",
          "text": [
            "100%|██████████| 30750/30750 [00:03<00:00, 8076.12it/s]\n"
          ]
        },
        {
          "output_type": "stream",
          "name": "stdout",
          "text": [
            "N = 1, Perplexity = 1832.23136\n"
          ]
        },
        {
          "output_type": "stream",
          "name": "stderr",
          "text": [
            "100%|██████████| 30750/30750 [00:06<00:00, 4467.59it/s]\n"
          ]
        },
        {
          "output_type": "stream",
          "name": "stdout",
          "text": [
            "N = 2, Perplexity = 85653987.28774\n"
          ]
        },
        {
          "output_type": "stream",
          "name": "stderr",
          "text": [
            "100%|██████████| 30750/30750 [00:14<00:00, 2071.75it/s]\n"
          ]
        },
        {
          "output_type": "stream",
          "name": "stdout",
          "text": [
            "N = 3, Perplexity = 61999196259043346743296.00000\n"
          ]
        }
      ],
      "source": [
        "from sklearn.model_selection import train_test_split\n",
        "train_lines, test_lines = train_test_split(lines, test_size=0.25, random_state=42)\n",
        "\n",
        "for n in (1, 2, 3):\n",
        "    lm = NGramLanguageModel(n=n, lines=train_lines)\n",
        "    ppx = perplexity(lm, test_lines)\n",
        "    print(\"N = %i, Perplexity = %.5f\" % (n, ppx))\n"
      ]
    },
    {
      "cell_type": "code",
      "execution_count": null,
      "metadata": {
        "cellId": "38nfbfkpzgfxik8kccyt1l",
        "id": "2rsNm1CS-tvr"
      },
      "outputs": [],
      "source": [
        "# whoops, it just blew up :)"
      ]
    },
    {
      "cell_type": "markdown",
      "metadata": {
        "cellId": "oopn2o57wxm9vbxzycytce",
        "id": "F2Omvqcm-tvr"
      },
      "source": [
        "### LM Smoothing\n",
        "\n",
        "The problem with our simple language model is that whenever it encounters an n-gram it has never seen before, it assigns it with the probabilitiy of 0. Every time this happens, perplexity explodes.\n",
        "\n",
        "To battle this issue, there's a technique called __smoothing__. The core idea is to modify counts in a way that prevents probabilities from getting too low. The simplest algorithm here is Additive smoothing (aka [Lapace smoothing](https://en.wikipedia.org/wiki/Additive_smoothing)):\n",
        "\n",
        "$$ P(w_t | prefix) = { Count(prefix, w_t) + \\delta \\over \\sum_{\\hat w} (Count(prefix, \\hat w) + \\delta) } $$\n",
        "\n",
        "If counts for a given prefix are low, additive smoothing will adjust probabilities to a more uniform distribution. Not that the summation in the denominator goes over _all words in the vocabulary_.\n",
        "\n",
        "Here's an example code we've implemented for you:"
      ]
    },
    {
      "cell_type": "code",
      "execution_count": 28,
      "metadata": {
        "cellId": "ioh26rlov6g8l2ssj1c8pm",
        "id": "2z_qPQJ4-tvs"
      },
      "outputs": [],
      "source": [
        "class LaplaceLanguageModel(NGramLanguageModel):\n",
        "    \"\"\" this code is an example, no need to change anything \"\"\"\n",
        "    def __init__(self, lines, n, delta=1.0):\n",
        "        self.n = n\n",
        "        counts = count_ngrams(lines, self.n)\n",
        "        self.vocab = set(token for token_counts in counts.values() for token in token_counts)\n",
        "        self.probs = defaultdict(Counter)\n",
        "\n",
        "        for prefix in counts:\n",
        "            token_counts = counts[prefix]\n",
        "            total_count = sum(token_counts.values()) + delta * len(self.vocab)\n",
        "            self.probs[prefix] = {token: (token_counts[token] + delta) / total_count\n",
        "                                          for token in token_counts}\n",
        "    def get_possible_next_tokens(self, prefix):\n",
        "        token_probs = super().get_possible_next_tokens(prefix)\n",
        "        missing_prob_total = 1.0 - sum(token_probs.values())\n",
        "        missing_prob = missing_prob_total / max(1, len(self.vocab) - len(token_probs))\n",
        "        return {token: token_probs.get(token, missing_prob) for token in self.vocab}\n",
        "\n",
        "    def get_next_token_prob(self, prefix, next_token):\n",
        "        token_probs = super().get_possible_next_tokens(prefix)\n",
        "        if next_token in token_probs:\n",
        "            return token_probs[next_token]\n",
        "        else:\n",
        "            missing_prob_total = 1.0 - sum(token_probs.values())\n",
        "            missing_prob_total = max(0, missing_prob_total) # prevent rounding errors\n",
        "            return missing_prob_total / max(1, len(self.vocab) - len(token_probs))\n",
        ""
      ]
    },
    {
      "cell_type": "markdown",
      "metadata": {
        "cellId": "90vsann3920ie05r2blbmi",
        "execution_id": "3868303d-0bb9-42c6-a9a8-dcf485c8220c",
        "id": "sLBm8lg2-tvs"
      },
      "source": [
        "**Disclaimer**: the implementation above assumes all words unknown within a given context to be equally likely, *as well as the words outside of vocabulary*. Therefore, its' perplexity will be lower than it should when encountering such words. Therefore, comparing it with a model with fewer unknown words will not be fair. When implementing your own smoothing, you may handle this by adding a virtual `UNK` token of non-zero probability. Technically, this will result in a model where probabilities do not add up to $1$, but it is close enough for a practice excercise."
      ]
    },
    {
      "cell_type": "code",
      "execution_count": 29,
      "metadata": {
        "cellId": "3xvxkdxcmfqucruyt66mdc",
        "colab": {
          "base_uri": "https://localhost:8080/"
        },
        "id": "HRfxKAqE-tvs",
        "outputId": "b698de90-e23f-468a-f28d-b177e2bc7acf"
      },
      "outputs": [
        {
          "output_type": "stream",
          "name": "stderr",
          "text": [
            "100%|██████████| 100/100 [00:00<00:00, 33372.88it/s]\n",
            "100%|██████████| 100/100 [00:00<00:00, 20240.83it/s]\n",
            "100%|██████████| 100/100 [00:00<00:00, 16385.92it/s]\n"
          ]
        }
      ],
      "source": [
        "#test that it's a valid probability model\n",
        "for n in (1, 2, 3):\n",
        "    dummy_lm = LaplaceLanguageModel(dummy_lines, n=n)\n",
        "    assert np.allclose(sum([dummy_lm.get_next_token_prob('a', w_i) for w_i in dummy_lm.vocab]), 1), \"I told you not to break anything! :)\""
      ]
    },
    {
      "cell_type": "code",
      "execution_count": 30,
      "metadata": {
        "cellId": "j6zqa50koitjjri9ipd8ec",
        "colab": {
          "base_uri": "https://localhost:8080/"
        },
        "id": "nGJ3L3rg-tvs",
        "outputId": "024e694a-2334-454d-fdb8-097baae0909c"
      },
      "outputs": [
        {
          "output_type": "stream",
          "name": "stderr",
          "text": [
            "100%|██████████| 30750/30750 [00:03<00:00, 7954.63it/s]\n"
          ]
        },
        {
          "output_type": "stream",
          "name": "stdout",
          "text": [
            "N = 1, Perplexity = 977.67559\n"
          ]
        },
        {
          "output_type": "stream",
          "name": "stderr",
          "text": [
            "100%|██████████| 30750/30750 [00:07<00:00, 4343.66it/s]\n"
          ]
        },
        {
          "output_type": "stream",
          "name": "stdout",
          "text": [
            "N = 2, Perplexity = 470.48021\n"
          ]
        },
        {
          "output_type": "stream",
          "name": "stderr",
          "text": [
            "100%|██████████| 30750/30750 [00:15<00:00, 1989.72it/s]\n"
          ]
        },
        {
          "output_type": "stream",
          "name": "stdout",
          "text": [
            "N = 3, Perplexity = 3679.44765\n"
          ]
        }
      ],
      "source": [
        "for n in (1, 2, 3):\n",
        "    lm = LaplaceLanguageModel(train_lines, n=n, delta=0.1)\n",
        "    ppx = perplexity(lm, test_lines)\n",
        "    print(\"N = %i, Perplexity = %.5f\" % (n, ppx))"
      ]
    },
    {
      "cell_type": "code",
      "execution_count": 36,
      "metadata": {
        "cellId": "pjuqt30jcerwbz1ym9zv1",
        "id": "BZ56xIRR-tvt"
      },
      "outputs": [],
      "source": [
        "# optional: try to sample tokens from such a model"
      ]
    },
    {
      "cell_type": "markdown",
      "metadata": {
        "cellId": "3b8s1y9uls4fosu3yp28gg",
        "id": "DTfI38tZ-tvt"
      },
      "source": [
        "### Kneser-Ney smoothing (2 points)\n",
        "\n",
        "Additive smoothing is simple, reasonably good but definitely not a State of The Art algorithm.\n",
        "\n",
        "\n",
        "Your final task in this notebook is to implement [Kneser-Ney](https://en.wikipedia.org/wiki/Kneser%E2%80%93Ney_smoothing) smoothing.\n",
        "\n",
        "It can be computed recurrently, for n>1:\n",
        "\n",
        "$$P_{kn}(w_t | prefix_{n-1}) = { \\max(0, Count(prefix_{n-1}, w_t) - \\delta) \\over \\sum_{\\hat w} Count(prefix_{n-1}, \\hat w)} + \\lambda_{prefix_{n-1}} \\cdot P_{kn}(w_t | prefix_{n-2})$$\n",
        "\n",
        "where\n",
        "- $prefix_{n-1}$ is a tuple of {n-1} previous tokens\n",
        "- $lambda_{prefix_{n-1}}$ is a normalization constant chosen so that probabilities add up to 1\n",
        "- Unigram $P_{kn}(w_t | prefix_{n-2})$ corresponds to Kneser Ney smoothing for {N-1}-gram language model.\n",
        "- Unigram $P_{kn}(w_t)$ is a special case: how likely it is to see x_t in an unfamiliar context\n",
        "\n",
        "See lecture slides or wiki for more detailed formulae.\n",
        "\n",
        "__Your task__ is to\n",
        "- implement `KneserNeyLanguageModel` class,\n",
        "- test it on 1-3 gram language models\n",
        "- find optimal (within reason) smoothing delta for 3-gram language model with Kneser-Ney smoothing"
      ]
    },
    {
      "cell_type": "code",
      "execution_count": 31,
      "metadata": {
        "cellId": "2ix7kzw02v30oye55322all",
        "id": "ej1iQ9cb-tvt"
      },
      "outputs": [],
      "source": [
        "class KneserNeyLanguageModel(NGramLanguageModel):\n",
        "    \"\"\" A template for Kneser-Ney language model. Default delta may be suboptimal. \"\"\"\n",
        "    def __init__(self, lines, n, delta=1.0):\n",
        "        self.n = n\n",
        "        <YOUR CODE>\n",
        "\n",
        "    def get_possible_next_tokens(self, prefix):\n",
        "        < YOUR CODE >\n",
        "\n",
        "    def get_next_token_prob(self, prefix, next_token):\n",
        "        <YOUR CODE>"
      ]
    },
    {
      "cell_type": "code",
      "execution_count": null,
      "metadata": {
        "cellId": "lsk91832qbmdt7x1q0a8z4",
        "id": "T4la7ik--tvt"
      },
      "outputs": [],
      "source": [
        "#test that it's a valid probability model\n",
        "for n in (1, 2, 3):\n",
        "    dummy_lm = KneserNeyLanguageModel(dummy_lines, n=n)\n",
        "    assert np.allclose(sum([dummy_lm.get_next_token_prob('a', w_i) for w_i in dummy_lm.vocab]), 1), \"I told you not to break anything! :)\""
      ]
    },
    {
      "cell_type": "code",
      "execution_count": null,
      "metadata": {
        "cellId": "pp3jtkk9annp1qkou58x1b",
        "id": "egmrankG-tvy"
      },
      "outputs": [],
      "source": [
        "for n in (1, 2, 3):\n",
        "    lm = KneserNeyLanguageModel(train_lines, n=n, smoothing=<...>)\n",
        "    ppx = perplexity(lm, test_lines)\n",
        "    print(\"N = %i, Perplexity = %.5f\" % (n, ppx))"
      ]
    }
  ],
  "metadata": {
    "kernelspec": {
      "display_name": "Python 3 (ipykernel)",
      "language": "python",
      "name": "python3"
    },
    "language_info": {
      "codemirror_mode": {
        "name": "ipython",
        "version": 3
      },
      "file_extension": ".py",
      "mimetype": "text/x-python",
      "name": "python",
      "nbconvert_exporter": "python",
      "pygments_lexer": "ipython3",
      "version": "3.11.0"
    },
    "notebookId": "53997d2d-afb8-4477-8874-b6d46299f06c",
    "notebookPath": "seminar.ipynb",
    "colab": {
      "provenance": []
    }
  },
  "nbformat": 4,
  "nbformat_minor": 0
}