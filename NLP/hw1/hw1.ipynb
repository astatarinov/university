{
 "cells": [
  {
   "cell_type": "markdown",
   "metadata": {},
   "source": [
    "# Домашнее задание 1\n",
    "## Harry Potter and the Action Prediction Challenge from Natural Language\n",
    "\n",
    "\n",
    "В этом домашнем задании вы будете работать с корпусом Harry Potter and the Action Prediction Challenge. Корпус собран из фанфиков о Гарри Поттере и состоит из двух частей: 1) сырые тексты, 2) фрагменты текстов, описывающих ситуацию, в которой произнесено заклинание.\n",
    "\n",
    "Корпус описан в статье: https://arxiv.org/pdf/1905.11037.pdf\n",
    "\n",
    "David Vilares and Carlos Gómez-Rodríguez. Harry Potter and the Action Prediction Challenge from Natural Language. 2019 Annual Conference of the North American Chapter of the Association for Computational Linguistics. To appear.\n",
    "\n",
    "Код для сбора корпуса находится в репозитории: https://github.com/aghie/hpac . Корпус можно скачать по инструкции из этого репозитория, но для экономии времени авторы задания уже скачали и подготовили данные к работе. \n",
    "\n",
    "Ссылки на собранный корпус: \n",
    "* Сырые тексты:  https://www.dropbox.com/s/12toaj67fjrguhd/hpac_raw.zip?dl=0\n",
    "* Токенизированные тексты в нижнем регистре: https://www.dropbox.com/s/1ndto6dce5wg7j2/hpac_lower_tokenized.zip?dl=0\n",
    "* train-test-dev: https://www.dropbox.com/s/ftinwwjfyydevth/hpac_splits.zip?dl=0\n",
    "\n",
    "Части 1, 2 задания должны быть выполнены на полных текстах (сырых или предобработанных -- на ваше усмотрение), Часть 3 – на разбиение на тестовое, отладочное и обучающее множества. Тестовое множество должно быть использовано исключительно для тестирования моделей, обучающее и отладочное – для выбора модели и параметров. \n",
    "\n",
    "В статье и репозитории вы найдете идеи, которые помогут вам выполнить домашнее задание. Их стоит воспринимать как руководство к действию, и не стоит их копировать и переиспользовать. Обученные модели использовать не нужно, код для их обучения можно использовать как подсказку. \n",
    "\n",
    "## ПРАВИЛА\n",
    "1. Домашнее задание выполняется индивидуально.\n",
    "2. Домашнее задание сдается в системе Anytask, куда можно попасть через инвайт.\n",
    "3. Домашнее задание оформляется в отчета в ipython-тетрадке. \n",
    "4. Отчет должен содержать: нумерацию заданий и пунктов, которые вы выполнили, код решения, и понятное пошаговое описание того, что вы сделали. Отчет должен быть написан в академическом стиле, без излишнего использования сленга и с соблюдением норм русского языка.\n",
    "5. Не стоит копировать фрагменты лекций, статей и Википедии в ваш отчет.\n",
    "6. Плагиат и любое недобросоветсное цитирование приводит к обнуление оценки. \n",
    "\n",
    "\n",
    "## Бонусная часть. [2 балла] Skip-Gram Negative Sampling\n",
    "Самостоятельно реализовать и обучить модель Skip-Gram Negative Sampling. Продемонстрировать качество полученных представлений на конкретный примерах."
   ]
  },
  {
   "cell_type": "markdown",
   "metadata": {},
   "source": [
    "# Imports"
   ]
  },
  {
   "cell_type": "code",
   "execution_count": 10,
   "metadata": {
    "tags": []
   },
   "outputs": [],
   "source": [
    "import os\n",
    "import pandas as pd\n",
    "import numpy as np\n",
    "\n",
    "from sklearn.decomposition import PCA\n",
    "from sklearn.preprocessing import StandardScaler\n",
    "from sklearn.manifold import TSNE\n",
    "\n",
    "from collections import Counter\n",
    "import nltk\n",
    "import ssl\n",
    "\n",
    "from tqdm import tqdm_notebook\n",
    "\n",
    "import re  \n",
    "from collections import defaultdict\n",
    "from typing import List"
   ]
  },
  {
   "cell_type": "markdown",
   "metadata": {},
   "source": [
    "# Данные\n",
    "Сырые тексты "
   ]
  },
  {
   "cell_type": "code",
   "execution_count": 3,
   "metadata": {},
   "outputs": [],
   "source": [
    "# !unzip hpac_source"
   ]
  },
  {
   "cell_type": "code",
   "execution_count": 4,
   "metadata": {},
   "outputs": [],
   "source": [
    "# !ls hpac_source | wc -l"
   ]
  },
  {
   "cell_type": "code",
   "execution_count": 5,
   "metadata": {},
   "outputs": [],
   "source": [
    "# !unzip hpac_splits"
   ]
  },
  {
   "cell_type": "code",
   "execution_count": 648,
   "metadata": {},
   "outputs": [],
   "source": [
    "# !head -n 3 hpac_splits/hpac_training_128.tsv"
   ]
  },
  {
   "cell_type": "markdown",
   "metadata": {},
   "source": [
    "train, test, dev файлы"
   ]
  },
  {
   "cell_type": "code",
   "execution_count": 2,
   "metadata": {},
   "outputs": [],
   "source": [
    "training = pd.read_csv('hpac_splits/hpac_training_128.tsv', sep = '\\t', header = None)\n",
    "test = pd.read_csv('hpac_splits/hpac_test_128.tsv', sep = '\\t', header = None)\n",
    "dev = pd.read_csv('hpac_splits/hpac_dev_128.tsv', sep = '\\t', header = None)"
   ]
  },
  {
   "cell_type": "code",
   "execution_count": 57,
   "metadata": {},
   "outputs": [
    {
     "data": {
      "text/html": [
       "<div>\n",
       "<style scoped>\n",
       "    .dataframe tbody tr th:only-of-type {\n",
       "        vertical-align: middle;\n",
       "    }\n",
       "\n",
       "    .dataframe tbody tr th {\n",
       "        vertical-align: top;\n",
       "    }\n",
       "\n",
       "    .dataframe thead th {\n",
       "        text-align: right;\n",
       "    }\n",
       "</style>\n",
       "<table border=\"1\" class=\"dataframe\">\n",
       "  <thead>\n",
       "    <tr style=\"text-align: right;\">\n",
       "      <th></th>\n",
       "      <th>0</th>\n",
       "      <th>1</th>\n",
       "      <th>2</th>\n",
       "    </tr>\n",
       "  </thead>\n",
       "  <tbody>\n",
       "    <tr>\n",
       "      <th>0</th>\n",
       "      <td>7642954.0.676</td>\n",
       "      <td>RIDDIKULUS</td>\n",
       "      <td>were staring at her . she was up next to face ...</td>\n",
       "    </tr>\n",
       "    <tr>\n",
       "      <th>1</th>\n",
       "      <td>10443333.0.5753</td>\n",
       "      <td>RIDDIKULUS</td>\n",
       "      <td>that whole time . her first reaction , for whi...</td>\n",
       "    </tr>\n",
       "  </tbody>\n",
       "</table>\n",
       "</div>"
      ],
      "text/plain": [
       "                 0           1  \\\n",
       "0    7642954.0.676  RIDDIKULUS   \n",
       "1  10443333.0.5753  RIDDIKULUS   \n",
       "\n",
       "                                                   2  \n",
       "0  were staring at her . she was up next to face ...  \n",
       "1  that whole time . her first reaction , for whi...  "
      ]
     },
     "execution_count": 57,
     "metadata": {},
     "output_type": "execute_result"
    }
   ],
   "source": [
    "training.head(2)"
   ]
  },
  {
   "cell_type": "code",
   "execution_count": 60,
   "metadata": {},
   "outputs": [],
   "source": [
    "# l = list(set(training[2].unique()).intersection(test[2].unique()))\n",
    "\n",
    "# len(l)"
   ]
  },
  {
   "cell_type": "code",
   "execution_count": 3,
   "metadata": {},
   "outputs": [],
   "source": [
    "training['sample'] = 'train'\n",
    "test['sample'] = 'test'\n",
    "dev['sample'] = 'dev'"
   ]
  },
  {
   "cell_type": "code",
   "execution_count": 4,
   "metadata": {},
   "outputs": [],
   "source": [
    "df = pd.concat([training, test, dev])"
   ]
  },
  {
   "cell_type": "code",
   "execution_count": 63,
   "metadata": {},
   "outputs": [],
   "source": [
    "# del training, test, dev"
   ]
  },
  {
   "cell_type": "code",
   "execution_count": 64,
   "metadata": {},
   "outputs": [
    {
     "data": {
      "text/plain": [
       "('RIDDIKULUS',\n",
       " \"were staring at her . she was up next to face the boggart in defense against the dark arts class . she was not scared , but what she was worried about was what had happened with lysander . she looked up at the boggart in front of her which had previously been a humongous spider . its eyes locked on her . before she could think of what frightened her , the spider transformed into lysander . he was dying . there were giggles coming from the male and female hufflepuff students . there was a smirk on lorcan 's face . `` lily help me '' i ca n't fail this class because of a secret love . lily lifted her wand and said , ``\")"
      ]
     },
     "execution_count": 64,
     "metadata": {},
     "output_type": "execute_result"
    }
   ],
   "source": [
    "df.iloc[0][1], df.iloc[0][2]"
   ]
  },
  {
   "cell_type": "markdown",
   "metadata": {},
   "source": [
    "# Часть 1. [1 балл] Эксплоративный анализ \n",
    "\n",
    "[бонус] Постройте тематическую модель по корпусу HPAC.\n",
    "\n",
    "[бонус] Найдите еще что-то интересное в корпусе (что-то специфичное для фанфиков или фентези-тематики)\n"
   ]
  },
  {
   "cell_type": "markdown",
   "metadata": {},
   "source": [
    "## 1. Найдите топ-1000 слов по частоте без учета стоп-слов."
   ]
  },
  {
   "cell_type": "markdown",
   "metadata": {},
   "source": [
    "from collections import Counter "
   ]
  },
  {
   "cell_type": "code",
   "execution_count": 14,
   "metadata": {},
   "outputs": [
    {
     "name": "stderr",
     "output_type": "stream",
     "text": [
      "[nltk_data] Downloading package stopwords to\n",
      "[nltk_data]     /Users/ruattar/nltk_data...\n",
      "[nltk_data]   Package stopwords is already up-to-date!\n"
     ]
    }
   ],
   "source": [
    "# фиксим траблы с сертификатами\n",
    "try:\n",
    "    _create_unverified_https_context = ssl._create_unverified_context\n",
    "except AttributeError:\n",
    "    pass\n",
    "else:\n",
    "    ssl._create_default_https_context = _create_unverified_https_context\n",
    "\n",
    "nltk.download('stopwords')\n",
    "\n",
    "stopwords = nltk.corpus.stopwords.words('english')"
   ]
  },
  {
   "cell_type": "code",
   "execution_count": 8,
   "metadata": {},
   "outputs": [],
   "source": [
    "all_text = ' '.join(df[2].to_list())"
   ]
  },
  {
   "cell_type": "code",
   "execution_count": 5,
   "metadata": {},
   "outputs": [],
   "source": [
    "sw_filter_func = lambda x: x not in stopwords and x.isalpha()"
   ]
  },
  {
   "cell_type": "code",
   "execution_count": 222,
   "metadata": {},
   "outputs": [],
   "source": [
    "word_cnt = Counter(filter(sw_filter_func, all_text.split(' ')))"
   ]
  },
  {
   "cell_type": "code",
   "execution_count": 11,
   "metadata": {},
   "outputs": [],
   "source": [
    "commom_1000 = word_cnt.most_common(1000)"
   ]
  },
  {
   "cell_type": "code",
   "execution_count": 12,
   "metadata": {},
   "outputs": [
    {
     "data": {
      "text/plain": [
       "[('harry', 59043),\n",
       " ('wand', 42489),\n",
       " ('said', 29459),\n",
       " ('could', 28027),\n",
       " ('would', 25913)]"
      ]
     },
     "execution_count": 12,
     "metadata": {},
     "output_type": "execute_result"
    }
   ],
   "source": [
    "commom_1000[:5]"
   ]
  },
  {
   "cell_type": "markdown",
   "metadata": {},
   "source": [
    "## 2 Найдите топ-10 по частоте: имен, пар имя + фамилия"
   ]
  },
  {
   "cell_type": "markdown",
   "metadata": {},
   "source": [
    "Распарсим имена"
   ]
  },
  {
   "cell_type": "markdown",
   "metadata": {},
   "source": [
    "https://gist.github.com/jennynz/7eaf7ea4eeb3d686b19e997e721bda0c"
   ]
  },
  {
   "cell_type": "code",
   "execution_count": 114,
   "metadata": {},
   "outputs": [],
   "source": [
    "# list(filter(lambda x: x[0] in ('mr', 'mrs', 'ms', 'miss'), word_cnt.items()))"
   ]
  },
  {
   "cell_type": "code",
   "execution_count": 13,
   "metadata": {},
   "outputs": [],
   "source": [
    "with open('Harry Potter names', 'r') as f:\n",
    "    namelines = f.read().split('\\n')"
   ]
  },
  {
   "cell_type": "code",
   "execution_count": 14,
   "metadata": {},
   "outputs": [],
   "source": [
    "def parse_namelist(s):\n",
    "    resdict = {\n",
    "        'name': None,\n",
    "        'surname': None,\n",
    "        'middlename': None,\n",
    "        'title': None,\n",
    "    }\n",
    "\n",
    "    if len(s) == 0:\n",
    "        return resdict\n",
    "    \n",
    "    l = s.lower().split(' ')\n",
    "\n",
    "    if len(l) == 1:\n",
    "        resdict['name'] = resdict['surname'] = l[0]\n",
    "        \n",
    "    elif len(l) > 1:\n",
    "        \n",
    "        if l[0] in ('mr', 'miss', 'mrs', 'ms', 'lord'):\n",
    "            resdict['title'] = l[0]\n",
    "            l = l[1:]\n",
    "        \n",
    "        resdict['name'] = l[0]    \n",
    "        resdict['surname'] = l[-1]\n",
    "        \n",
    "    if len(l) > 2:\n",
    "        resdict['middlename'] = ' '.join(l[1:-1])\n",
    "        \n",
    "    return resdict"
   ]
  },
  {
   "cell_type": "code",
   "execution_count": 455,
   "metadata": {},
   "outputs": [],
   "source": [
    "parsed_names = pd.DataFrame(map(parse_namelist, namelines))\n",
    "\n",
    "new_row = {\n",
    "    'name': 'ginny',\n",
    "    'surname': \"weasley\",\n",
    "    'middlename': None,\n",
    "    'title': None,\n",
    "}\n",
    "\n",
    "parsed_names = parsed_names._append(new_row, ignore_index=True)"
   ]
  },
  {
   "cell_type": "code",
   "execution_count": 28,
   "metadata": {},
   "outputs": [],
   "source": [
    "names = parsed_names.name.unique()"
   ]
  },
  {
   "cell_type": "code",
   "execution_count": 31,
   "metadata": {},
   "outputs": [],
   "source": [
    "popular_names = sorted(\n",
    "    list(filter(lambda x: x[0] in names, word_cnt.items())),\n",
    "    key=lambda x: x[1],\n",
    "    reverse=True\n",
    ")"
   ]
  },
  {
   "cell_type": "markdown",
   "metadata": {},
   "source": [
    "Топ популярных имен:"
   ]
  },
  {
   "cell_type": "code",
   "execution_count": 33,
   "metadata": {},
   "outputs": [
    {
     "data": {
      "text/plain": [
       "[('harry', 59043),\n",
       " ('hermione', 24062),\n",
       " ('draco', 21266),\n",
       " ('voldemort', 16091),\n",
       " ('sirius', 9929)]"
      ]
     },
     "execution_count": 33,
     "metadata": {},
     "output_type": "execute_result"
    }
   ],
   "source": [
    "popular_names[:5]"
   ]
  },
  {
   "cell_type": "markdown",
   "metadata": {},
   "source": [
    "Ищем имя + фамилия"
   ]
  },
  {
   "cell_type": "code",
   "execution_count": 11,
   "metadata": {},
   "outputs": [
    {
     "data": {
      "text/plain": [
       "['harry potter']"
      ]
     },
     "execution_count": 11,
     "metadata": {},
     "output_type": "execute_result"
    }
   ],
   "source": [
    "text = df[df[2].str.contains('harry potter')].iloc[19, 2]\n",
    "re.findall('harry potter', text)"
   ]
  },
  {
   "cell_type": "code",
   "execution_count": 12,
   "metadata": {},
   "outputs": [],
   "source": [
    "def count_mentions(names: List[str], text: str, mentions: defaultdict):\n",
    "    \"\"\"  \n",
    "    Считает количество упоминаний имен и фамилий в тексте и добавляет их в mentions  \n",
    "  \n",
    "    Args:  \n",
    "        names (list): Список строк вида \"имя фамилия\".  \n",
    "        text (str): Текст, в котором нужно найти упоминания.  \n",
    "        mentions (defaultdict): словарь счетчик\n",
    "    Returns:  None  \n",
    "    \"\"\"  \n",
    "    for name in tqdm_notebook(names):  \n",
    "        pattern = re.compile(r'\\b' + re.escape(name) + r'\\b', re.IGNORECASE)  \n",
    "        mentions[name] += len(pattern.findall(text))   "
   ]
  },
  {
   "cell_type": "markdown",
   "metadata": {},
   "source": [
    "Так, упоминание имя + фамилия это подможество упоминаний имени, поэтому чтобы не искать по всем именам и фамилиям, можем список name_surname_lst фильтрануть на топ имен"
   ]
  },
  {
   "cell_type": "code",
   "execution_count": 121,
   "metadata": {},
   "outputs": [],
   "source": [
    "top_30_names = [i[0] for i in popular_names[:30]]"
   ]
  },
  {
   "cell_type": "code",
   "execution_count": 130,
   "metadata": {},
   "outputs": [],
   "source": [
    "name_surname_df = parsed_names.query(\"name.isin(@top_30_names)\")\n",
    "name_surname_lst = sorted(\n",
    "    list(\n",
    "        set(\n",
    "            name_surname_df['name'] + ' ' + name_surname_df['surname'].str.replace(')', '')\n",
    "        )\n",
    "    )\n",
    ")"
   ]
  },
  {
   "cell_type": "code",
   "execution_count": 133,
   "metadata": {},
   "outputs": [
    {
     "data": {
      "text/plain": [
       "40"
      ]
     },
     "execution_count": 133,
     "metadata": {},
     "output_type": "execute_result"
    }
   ],
   "source": [
    "len(name_surname_lst)"
   ]
  },
  {
   "cell_type": "code",
   "execution_count": 136,
   "metadata": {},
   "outputs": [
    {
     "name": "stderr",
     "output_type": "stream",
     "text": [
      "/var/folders/yh/4jky_nln065c8nrzc6phgjjdt0k6bs/T/ipykernel_69006/1668062734.py:15: TqdmDeprecationWarning: This function will be removed in tqdm==5.0.0\n",
      "Please use `tqdm.notebook.tqdm` instead of `tqdm.tqdm_notebook`\n",
      "  for name in tqdm_notebook(names):\n"
     ]
    },
    {
     "data": {
      "application/vnd.jupyter.widget-view+json": {
       "model_id": "ae555e837e83454b8fb67827ec71ec48",
       "version_major": 2,
       "version_minor": 0
      },
      "text/plain": [
       "  0%|          | 0/40 [00:00<?, ?it/s]"
      ]
     },
     "metadata": {},
     "output_type": "display_data"
    }
   ],
   "source": [
    "MENTIONS = defaultdict(int)\n",
    "\n",
    "count_mentions(name_surname_lst, all_text, MENTIONS)"
   ]
  },
  {
   "cell_type": "code",
   "execution_count": 140,
   "metadata": {},
   "outputs": [
    {
     "data": {
      "text/plain": [
       "[('harry potter', 3178),\n",
       " ('draco malfoy', 1058),\n",
       " ('james potter', 762),\n",
       " ('severus snape', 713),\n",
       " ('hermione granger', 634),\n",
       " ('lucius malfoy', 629),\n",
       " ('sirius black', 499),\n",
       " ('albus dumbledore', 378),\n",
       " ('remus lupin', 290),\n",
       " ('lily evans', 266)]"
      ]
     },
     "execution_count": 140,
     "metadata": {},
     "output_type": "execute_result"
    }
   ],
   "source": [
    "sorted(list(MENTIONS.items()), key=lambda x: x[1], reverse=True)[:10]"
   ]
  },
  {
   "cell_type": "markdown",
   "metadata": {},
   "source": [
    "<!-- ## [bonus] Постройте тематическую модель по корпусу HPAC. -->"
   ]
  },
  {
   "cell_type": "markdown",
   "metadata": {},
   "source": [
    "# Часть 2. [2 балла] Модели представления слов \n",
    "Обучите модель представления слов (word2vec, GloVe, fastText или любую другую) на материале корпуса HPAC."
   ]
  },
  {
   "cell_type": "code",
   "execution_count": 6,
   "metadata": {},
   "outputs": [],
   "source": [
    "from nltk.tokenize import WordPunctTokenizer\n",
    "tokenizer = WordPunctTokenizer()"
   ]
  },
  {
   "cell_type": "code",
   "execution_count": 15,
   "metadata": {},
   "outputs": [],
   "source": [
    "# data_tok = [tokenizer.tokenize(x[1][2]) for x in df.iterrows()]\n",
    "\n",
    "data_tok = [\n",
    "    list(filter(sw_filter_func, tokenizer.tokenize(x[1][2].lower())))\n",
    "    for x in df.iterrows()\n",
    "]"
   ]
  },
  {
   "cell_type": "code",
   "execution_count": 16,
   "metadata": {},
   "outputs": [],
   "source": [
    "from gensim.models import Word2Vec\n",
    "model = Word2Vec(data_tok,\n",
    "                 vector_size=32,      # embedding vector size\n",
    "                 min_count=10,  # consider words that occured at least 10 times\n",
    "                 window=5).wv"
   ]
  },
  {
   "cell_type": "markdown",
   "metadata": {},
   "source": [
    "## 1. Продемонстрируйте, как работает поиск\n",
    "\n",
    "Продемонстрируйте, как работает поиск синонимов, ассоциаций, лишних слов в обученной модели. "
   ]
  },
  {
   "cell_type": "markdown",
   "metadata": {},
   "source": [
    "Похожие слова находятся неплохо: для Гарри получаем имена других волшебников, для заклинания - синонимы слова и частные применения заклинаний (shield, patronus)"
   ]
  },
  {
   "cell_type": "code",
   "execution_count": 232,
   "metadata": {},
   "outputs": [
    {
     "data": {
      "text/plain": [
       "[('hermione', 0.7381895780563354),\n",
       " ('ron', 0.7332048416137695),\n",
       " ('draco', 0.6951807141304016),\n",
       " ('ginny', 0.6894742846488953),\n",
       " ('cedric', 0.6752374768257141),\n",
       " ('finally', 0.6291574835777283),\n",
       " ('voldemort', 0.5753096342086792),\n",
       " ('soon', 0.5702435374259949),\n",
       " ('alicia', 0.5685431361198425),\n",
       " ('alex', 0.566909670829773)]"
      ]
     },
     "execution_count": 232,
     "metadata": {},
     "output_type": "execute_result"
    }
   ],
   "source": [
    "model.most_similar('harry')"
   ]
  },
  {
   "cell_type": "code",
   "execution_count": 231,
   "metadata": {},
   "outputs": [
    {
     "data": {
      "text/plain": [
       "[('charm', 0.8001124262809753),\n",
       " ('jinx', 0.7807850241661072),\n",
       " ('curse', 0.7784588932991028),\n",
       " ('stunner', 0.7772358059883118),\n",
       " ('spells', 0.7618021965026855),\n",
       " ('hex', 0.696738600730896),\n",
       " ('incantation', 0.6952868700027466),\n",
       " ('target', 0.6668296456336975),\n",
       " ('distraction', 0.6603333950042725),\n",
       " ('instinct', 0.6571776270866394)]"
      ]
     },
     "execution_count": 231,
     "metadata": {},
     "output_type": "execute_result"
    }
   ],
   "source": [
    "model.most_similar('spell')"
   ]
  },
  {
   "cell_type": "markdown",
   "metadata": {},
   "source": [
    "`doesnt_match` возвращает слово, которое не имеет близких значений или ассоциаций с другими словами в списке. \n",
    "\n",
    "И как мы видим, выведенные слова действительно есть в вокабуляре word2vec'a, т. е. дело именно в отсутствии ассоциаций"
   ]
  },
  {
   "cell_type": "code",
   "execution_count": 233,
   "metadata": {},
   "outputs": [
    {
     "data": {
      "text/plain": [
       "'marriage'"
      ]
     },
     "execution_count": 233,
     "metadata": {},
     "output_type": "execute_result"
    }
   ],
   "source": [
    "model.doesnt_match(['marriage', 'harry', 'ron', 'draco', 'fight'])"
   ]
  },
  {
   "cell_type": "code",
   "execution_count": 234,
   "metadata": {},
   "outputs": [
    {
     "data": {
      "text/plain": [
       "True"
      ]
     },
     "execution_count": 234,
     "metadata": {},
     "output_type": "execute_result"
    }
   ],
   "source": [
    "'marriage' in model.key_to_index"
   ]
  },
  {
   "cell_type": "code",
   "execution_count": 235,
   "metadata": {},
   "outputs": [
    {
     "data": {
      "text/plain": [
       "'refrigerator'"
      ]
     },
     "execution_count": 235,
     "metadata": {},
     "output_type": "execute_result"
    }
   ],
   "source": [
    "model.doesnt_match(['spell', 'incantation', 'patronus', 'hex', 'refrigerator'])"
   ]
  },
  {
   "cell_type": "code",
   "execution_count": 236,
   "metadata": {},
   "outputs": [
    {
     "data": {
      "text/plain": [
       "True"
      ]
     },
     "execution_count": 236,
     "metadata": {},
     "output_type": "execute_result"
    }
   ],
   "source": [
    "'refrigerator' in model.key_to_index"
   ]
  },
  {
   "cell_type": "markdown",
   "metadata": {},
   "source": [
    "теперь поскладываем векторы"
   ]
  },
  {
   "cell_type": "markdown",
   "metadata": {},
   "source": [
    "Думаю Драко Малфой кайфанул бы с результатов следующей ячейки"
   ]
  },
  {
   "cell_type": "code",
   "execution_count": 244,
   "metadata": {},
   "outputs": [
    {
     "data": {
      "text/plain": [
       "[('glory', 0.812431812286377),\n",
       " ('champion', 0.8022547960281372),\n",
       " ('rival', 0.8000054955482483),\n",
       " ('muggleborn', 0.7925584316253662),\n",
       " ('officially', 0.7901118397712708),\n",
       " ('heirs', 0.7778529524803162),\n",
       " ('supporter', 0.7679476737976074),\n",
       " ('meddling', 0.7676731944084167),\n",
       " ('sorted', 0.7676534056663513),\n",
       " ('united', 0.758999764919281)]"
      ]
     },
     "execution_count": 244,
     "metadata": {},
     "output_type": "execute_result"
    }
   ],
   "source": [
    "model.most_similar(positive=[\"faculty\", \"bravery\"], negative=[\"brain\"])"
   ]
  },
  {
   "cell_type": "markdown",
   "metadata": {},
   "source": [
    "минутка экзистенциального"
   ]
  },
  {
   "cell_type": "code",
   "execution_count": 245,
   "metadata": {},
   "outputs": [
    {
     "data": {
      "text/plain": [
       "[('misery', 0.800972580909729),\n",
       " ('hurts', 0.723066508769989),\n",
       " ('excruciating', 0.7141058444976807),\n",
       " ('agony', 0.702722430229187),\n",
       " ('hate', 0.6998796463012695),\n",
       " ('pride', 0.6943086385726929),\n",
       " ('regret', 0.6906284689903259),\n",
       " ('sorrow', 0.6880046129226685),\n",
       " ('hurting', 0.6824453473091125),\n",
       " ('forever', 0.6800863742828369)]"
      ]
     },
     "execution_count": 245,
     "metadata": {},
     "output_type": "execute_result"
    }
   ],
   "source": [
    "model.most_similar(positive=[\"love\", \"pain\"])"
   ]
  },
  {
   "cell_type": "markdown",
   "metadata": {},
   "source": [
    "## 2. Порисуем\n",
    "\n",
    "2. Визуализируйте топ-1000 слов по частоте без учета стоп-слов (п. 1.1) с помощью TSNE или UMAP (https://umap-learn.readthedocs.io)."
   ]
  },
  {
   "cell_type": "code",
   "execution_count": 17,
   "metadata": {},
   "outputs": [],
   "source": [
    "words = model.index_to_key[:1000]\n",
    "\n",
    "word_vectors = np.array([model.get_vector(x) for x in words])"
   ]
  },
  {
   "cell_type": "code",
   "execution_count": 19,
   "metadata": {},
   "outputs": [
    {
     "data": {
      "text/html": [
       "    <style>\n",
       "        .bk-notebook-logo {\n",
       "            display: block;\n",
       "            width: 20px;\n",
       "            height: 20px;\n",
       "            background-image: url(data:image/png;base64,iVBORw0KGgoAAAANSUhEUgAAABQAAAAUCAYAAACNiR0NAAAABHNCSVQICAgIfAhkiAAAAAlwSFlzAAALEgAACxIB0t1+/AAAABx0RVh0U29mdHdhcmUAQWRvYmUgRmlyZXdvcmtzIENTNui8sowAAAOkSURBVDiNjZRtaJVlGMd/1/08zzln5zjP1LWcU9N0NkN8m2CYjpgQYQXqSs0I84OLIC0hkEKoPtiH3gmKoiJDU7QpLgoLjLIQCpEsNJ1vqUOdO7ppbuec5+V+rj4ctwzd8IIbbi6u+8f1539dt3A78eXC7QizUF7gyV1fD1Yqg4JWz84yffhm0qkFqBogB9rM8tZdtwVsPUhWhGcFJngGeWrPzHm5oaMmkfEg1usvLFyc8jLRqDOMru7AyC8saQr7GG7f5fvDeH7Ej8CM66nIF+8yngt6HWaKh7k49Soy9nXurCi1o3qUbS3zWfrYeQDTB/Qj6kX6Ybhw4B+bOYoLKCC9H3Nu/leUTZ1JdRWkkn2ldcCamzrcf47KKXdAJllSlxAOkRgyHsGC/zRday5Qld9DyoM4/q/rUoy/CXh3jzOu3bHUVZeU+DEn8FInkPBFlu3+nW3Nw0mk6vCDiWg8CeJaxEwuHS3+z5RgY+YBR6V1Z1nxSOfoaPa4LASWxxdNp+VWTk7+4vzaou8v8PN+xo+KY2xsw6une2frhw05CTYOmQvsEhjhWjn0bmXPjpE1+kplmmkP3suftwTubK9Vq22qKmrBhpY4jvd5afdRA3wGjFAgcnTK2s4hY0/GPNIb0nErGMCRxWOOX64Z8RAC4oCXdklmEvcL8o0BfkNK4lUg9HTl+oPlQxdNo3Mg4Nv175e/1LDGzZen30MEjRUtmXSfiTVu1kK8W4txyV6BMKlbgk3lMwYCiusNy9fVfvvwMxv8Ynl6vxoByANLTWplvuj/nF9m2+PDtt1eiHPBr1oIfhCChQMBw6Aw0UulqTKZdfVvfG7VcfIqLG9bcldL/+pdWTLxLUy8Qq38heUIjh4XlzZxzQm19lLFlr8vdQ97rjZVOLf8nclzckbcD4wxXMidpX30sFd37Fv/GtwwhzhxGVAprjbg0gCAEeIgwCZyTV2Z1REEW8O4py0wsjeloKoMr6iCY6dP92H6Vw/oTyICIthibxjm/DfN9lVz8IqtqKYLUXfoKVMVQVVJOElGjrnnUt9T9wbgp8AyYKaGlqingHZU/uG2NTZSVqwHQTWkx9hxjkpWDaCg6Ckj5qebgBVbT3V3NNXMSiWSDdGV3hrtzla7J+duwPOToIg42ChPQOQjspnSlp1V+Gjdged7+8UN5CRAV7a5EdFNwCjEaBR27b3W890TE7g24NAP/mMDXRWrGoFPQI9ls/MWO2dWFAar/xcOIImbbpA3zgAAAABJRU5ErkJggg==);\n",
       "        }\n",
       "    </style>\n",
       "    <div>\n",
       "        <a href=\"https://bokeh.org\" target=\"_blank\" class=\"bk-notebook-logo\"></a>\n",
       "        <span id=\"dd92a0af-842d-4486-bdb6-e7e38202dfd1\">Loading BokehJS ...</span>\n",
       "    </div>\n"
      ]
     },
     "metadata": {},
     "output_type": "display_data"
    },
    {
     "data": {
      "application/javascript": [
       "'use strict';\n",
       "(function(root) {\n",
       "  function now() {\n",
       "    return new Date();\n",
       "  }\n",
       "\n",
       "  const force = true;\n",
       "\n",
       "  if (typeof root._bokeh_onload_callbacks === \"undefined\" || force === true) {\n",
       "    root._bokeh_onload_callbacks = [];\n",
       "    root._bokeh_is_loading = undefined;\n",
       "  }\n",
       "\n",
       "const JS_MIME_TYPE = 'application/javascript';\n",
       "  const HTML_MIME_TYPE = 'text/html';\n",
       "  const EXEC_MIME_TYPE = 'application/vnd.bokehjs_exec.v0+json';\n",
       "  const CLASS_NAME = 'output_bokeh rendered_html';\n",
       "\n",
       "  /**\n",
       "   * Render data to the DOM node\n",
       "   */\n",
       "  function render(props, node) {\n",
       "    const script = document.createElement(\"script\");\n",
       "    node.appendChild(script);\n",
       "  }\n",
       "\n",
       "  /**\n",
       "   * Handle when an output is cleared or removed\n",
       "   */\n",
       "  function handleClearOutput(event, handle) {\n",
       "    function drop(id) {\n",
       "      const view = Bokeh.index.get_by_id(id)\n",
       "      if (view != null) {\n",
       "        view.model.document.clear()\n",
       "        Bokeh.index.delete(view)\n",
       "      }\n",
       "    }\n",
       "\n",
       "    const cell = handle.cell;\n",
       "\n",
       "    const id = cell.output_area._bokeh_element_id;\n",
       "    const server_id = cell.output_area._bokeh_server_id;\n",
       "\n",
       "    // Clean up Bokeh references\n",
       "    if (id != null) {\n",
       "      drop(id)\n",
       "    }\n",
       "\n",
       "    if (server_id !== undefined) {\n",
       "      // Clean up Bokeh references\n",
       "      const cmd_clean = \"from bokeh.io.state import curstate; print(curstate().uuid_to_server['\" + server_id + \"'].get_sessions()[0].document.roots[0]._id)\";\n",
       "      cell.notebook.kernel.execute(cmd_clean, {\n",
       "        iopub: {\n",
       "          output: function(msg) {\n",
       "            const id = msg.content.text.trim()\n",
       "            drop(id)\n",
       "          }\n",
       "        }\n",
       "      });\n",
       "      // Destroy server and session\n",
       "      const cmd_destroy = \"import bokeh.io.notebook as ion; ion.destroy_server('\" + server_id + \"')\";\n",
       "      cell.notebook.kernel.execute(cmd_destroy);\n",
       "    }\n",
       "  }\n",
       "\n",
       "  /**\n",
       "   * Handle when a new output is added\n",
       "   */\n",
       "  function handleAddOutput(event, handle) {\n",
       "    const output_area = handle.output_area;\n",
       "    const output = handle.output;\n",
       "\n",
       "    // limit handleAddOutput to display_data with EXEC_MIME_TYPE content only\n",
       "    if ((output.output_type != \"display_data\") || (!Object.prototype.hasOwnProperty.call(output.data, EXEC_MIME_TYPE))) {\n",
       "      return\n",
       "    }\n",
       "\n",
       "    const toinsert = output_area.element.find(\".\" + CLASS_NAME.split(' ')[0]);\n",
       "\n",
       "    if (output.metadata[EXEC_MIME_TYPE][\"id\"] !== undefined) {\n",
       "      toinsert[toinsert.length - 1].firstChild.textContent = output.data[JS_MIME_TYPE];\n",
       "      // store reference to embed id on output_area\n",
       "      output_area._bokeh_element_id = output.metadata[EXEC_MIME_TYPE][\"id\"];\n",
       "    }\n",
       "    if (output.metadata[EXEC_MIME_TYPE][\"server_id\"] !== undefined) {\n",
       "      const bk_div = document.createElement(\"div\");\n",
       "      bk_div.innerHTML = output.data[HTML_MIME_TYPE];\n",
       "      const script_attrs = bk_div.children[0].attributes;\n",
       "      for (let i = 0; i < script_attrs.length; i++) {\n",
       "        toinsert[toinsert.length - 1].firstChild.setAttribute(script_attrs[i].name, script_attrs[i].value);\n",
       "        toinsert[toinsert.length - 1].firstChild.textContent = bk_div.children[0].textContent\n",
       "      }\n",
       "      // store reference to server id on output_area\n",
       "      output_area._bokeh_server_id = output.metadata[EXEC_MIME_TYPE][\"server_id\"];\n",
       "    }\n",
       "  }\n",
       "\n",
       "  function register_renderer(events, OutputArea) {\n",
       "\n",
       "    function append_mime(data, metadata, element) {\n",
       "      // create a DOM node to render to\n",
       "      const toinsert = this.create_output_subarea(\n",
       "        metadata,\n",
       "        CLASS_NAME,\n",
       "        EXEC_MIME_TYPE\n",
       "      );\n",
       "      this.keyboard_manager.register_events(toinsert);\n",
       "      // Render to node\n",
       "      const props = {data: data, metadata: metadata[EXEC_MIME_TYPE]};\n",
       "      render(props, toinsert[toinsert.length - 1]);\n",
       "      element.append(toinsert);\n",
       "      return toinsert\n",
       "    }\n",
       "\n",
       "    /* Handle when an output is cleared or removed */\n",
       "    events.on('clear_output.CodeCell', handleClearOutput);\n",
       "    events.on('delete.Cell', handleClearOutput);\n",
       "\n",
       "    /* Handle when a new output is added */\n",
       "    events.on('output_added.OutputArea', handleAddOutput);\n",
       "\n",
       "    /**\n",
       "     * Register the mime type and append_mime function with output_area\n",
       "     */\n",
       "    OutputArea.prototype.register_mime_type(EXEC_MIME_TYPE, append_mime, {\n",
       "      /* Is output safe? */\n",
       "      safe: true,\n",
       "      /* Index of renderer in `output_area.display_order` */\n",
       "      index: 0\n",
       "    });\n",
       "  }\n",
       "\n",
       "  // register the mime type if in Jupyter Notebook environment and previously unregistered\n",
       "  if (root.Jupyter !== undefined) {\n",
       "    const events = require('base/js/events');\n",
       "    const OutputArea = require('notebook/js/outputarea').OutputArea;\n",
       "\n",
       "    if (OutputArea.prototype.mime_types().indexOf(EXEC_MIME_TYPE) == -1) {\n",
       "      register_renderer(events, OutputArea);\n",
       "    }\n",
       "  }\n",
       "  if (typeof (root._bokeh_timeout) === \"undefined\" || force === true) {\n",
       "    root._bokeh_timeout = Date.now() + 5000;\n",
       "    root._bokeh_failed_load = false;\n",
       "  }\n",
       "\n",
       "  const NB_LOAD_WARNING = {'data': {'text/html':\n",
       "     \"<div style='background-color: #fdd'>\\n\"+\n",
       "     \"<p>\\n\"+\n",
       "     \"BokehJS does not appear to have successfully loaded. If loading BokehJS from CDN, this \\n\"+\n",
       "     \"may be due to a slow or bad network connection. Possible fixes:\\n\"+\n",
       "     \"</p>\\n\"+\n",
       "     \"<ul>\\n\"+\n",
       "     \"<li>re-rerun `output_notebook()` to attempt to load from CDN again, or</li>\\n\"+\n",
       "     \"<li>use INLINE resources instead, as so:</li>\\n\"+\n",
       "     \"</ul>\\n\"+\n",
       "     \"<code>\\n\"+\n",
       "     \"from bokeh.resources import INLINE\\n\"+\n",
       "     \"output_notebook(resources=INLINE)\\n\"+\n",
       "     \"</code>\\n\"+\n",
       "     \"</div>\"}};\n",
       "\n",
       "  function display_loaded(error = null) {\n",
       "    const el = document.getElementById(\"dd92a0af-842d-4486-bdb6-e7e38202dfd1\");\n",
       "    if (el != null) {\n",
       "      const html = (() => {\n",
       "        if (typeof root.Bokeh === \"undefined\") {\n",
       "          if (error == null) {\n",
       "            return \"BokehJS is loading ...\";\n",
       "          } else {\n",
       "            return \"BokehJS failed to load.\";\n",
       "          }\n",
       "        } else {\n",
       "          const prefix = `BokehJS ${root.Bokeh.version}`;\n",
       "          if (error == null) {\n",
       "            return `${prefix} successfully loaded.`;\n",
       "          } else {\n",
       "            return `${prefix} <b>encountered errors</b> while loading and may not function as expected.`;\n",
       "          }\n",
       "        }\n",
       "      })();\n",
       "      el.innerHTML = html;\n",
       "\n",
       "      if (error != null) {\n",
       "        const wrapper = document.createElement(\"div\");\n",
       "        wrapper.style.overflow = \"auto\";\n",
       "        wrapper.style.height = \"5em\";\n",
       "        wrapper.style.resize = \"vertical\";\n",
       "        const content = document.createElement(\"div\");\n",
       "        content.style.fontFamily = \"monospace\";\n",
       "        content.style.whiteSpace = \"pre-wrap\";\n",
       "        content.style.backgroundColor = \"rgb(255, 221, 221)\";\n",
       "        content.textContent = error.stack ?? error.toString();\n",
       "        wrapper.append(content);\n",
       "        el.append(wrapper);\n",
       "      }\n",
       "    } else if (Date.now() < root._bokeh_timeout) {\n",
       "      setTimeout(() => display_loaded(error), 100);\n",
       "    }\n",
       "  }\n",
       "\n",
       "  function run_callbacks() {\n",
       "    try {\n",
       "      root._bokeh_onload_callbacks.forEach(function(callback) {\n",
       "        if (callback != null)\n",
       "          callback();\n",
       "      });\n",
       "    } finally {\n",
       "      delete root._bokeh_onload_callbacks\n",
       "    }\n",
       "    console.debug(\"Bokeh: all callbacks have finished\");\n",
       "  }\n",
       "\n",
       "  function load_libs(css_urls, js_urls, callback) {\n",
       "    if (css_urls == null) css_urls = [];\n",
       "    if (js_urls == null) js_urls = [];\n",
       "\n",
       "    root._bokeh_onload_callbacks.push(callback);\n",
       "    if (root._bokeh_is_loading > 0) {\n",
       "      console.debug(\"Bokeh: BokehJS is being loaded, scheduling callback at\", now());\n",
       "      return null;\n",
       "    }\n",
       "    if (js_urls == null || js_urls.length === 0) {\n",
       "      run_callbacks();\n",
       "      return null;\n",
       "    }\n",
       "    console.debug(\"Bokeh: BokehJS not loaded, scheduling load and callback at\", now());\n",
       "    root._bokeh_is_loading = css_urls.length + js_urls.length;\n",
       "\n",
       "    function on_load() {\n",
       "      root._bokeh_is_loading--;\n",
       "      if (root._bokeh_is_loading === 0) {\n",
       "        console.debug(\"Bokeh: all BokehJS libraries/stylesheets loaded\");\n",
       "        run_callbacks()\n",
       "      }\n",
       "    }\n",
       "\n",
       "    function on_error(url) {\n",
       "      console.error(\"failed to load \" + url);\n",
       "    }\n",
       "\n",
       "    for (let i = 0; i < css_urls.length; i++) {\n",
       "      const url = css_urls[i];\n",
       "      const element = document.createElement(\"link\");\n",
       "      element.onload = on_load;\n",
       "      element.onerror = on_error.bind(null, url);\n",
       "      element.rel = \"stylesheet\";\n",
       "      element.type = \"text/css\";\n",
       "      element.href = url;\n",
       "      console.debug(\"Bokeh: injecting link tag for BokehJS stylesheet: \", url);\n",
       "      document.body.appendChild(element);\n",
       "    }\n",
       "\n",
       "    for (let i = 0; i < js_urls.length; i++) {\n",
       "      const url = js_urls[i];\n",
       "      const element = document.createElement('script');\n",
       "      element.onload = on_load;\n",
       "      element.onerror = on_error.bind(null, url);\n",
       "      element.async = false;\n",
       "      element.src = url;\n",
       "      console.debug(\"Bokeh: injecting script tag for BokehJS library: \", url);\n",
       "      document.head.appendChild(element);\n",
       "    }\n",
       "  };\n",
       "\n",
       "  function inject_raw_css(css) {\n",
       "    const element = document.createElement(\"style\");\n",
       "    element.appendChild(document.createTextNode(css));\n",
       "    document.body.appendChild(element);\n",
       "  }\n",
       "\n",
       "  const js_urls = [\"https://cdn.bokeh.org/bokeh/release/bokeh-3.6.0.min.js\", \"https://cdn.bokeh.org/bokeh/release/bokeh-gl-3.6.0.min.js\", \"https://cdn.bokeh.org/bokeh/release/bokeh-widgets-3.6.0.min.js\", \"https://cdn.bokeh.org/bokeh/release/bokeh-tables-3.6.0.min.js\", \"https://cdn.bokeh.org/bokeh/release/bokeh-mathjax-3.6.0.min.js\"];\n",
       "  const css_urls = [];\n",
       "\n",
       "  const inline_js = [    function(Bokeh) {\n",
       "      Bokeh.set_log_level(\"info\");\n",
       "    },\n",
       "function(Bokeh) {\n",
       "    }\n",
       "  ];\n",
       "\n",
       "  function run_inline_js() {\n",
       "    if (root.Bokeh !== undefined || force === true) {\n",
       "      try {\n",
       "            for (let i = 0; i < inline_js.length; i++) {\n",
       "      inline_js[i].call(root, root.Bokeh);\n",
       "    }\n",
       "\n",
       "      } catch (error) {display_loaded(error);throw error;\n",
       "      }if (force === true) {\n",
       "        display_loaded();\n",
       "      }} else if (Date.now() < root._bokeh_timeout) {\n",
       "      setTimeout(run_inline_js, 100);\n",
       "    } else if (!root._bokeh_failed_load) {\n",
       "      console.log(\"Bokeh: BokehJS failed to load within specified timeout.\");\n",
       "      root._bokeh_failed_load = true;\n",
       "    } else if (force !== true) {\n",
       "      const cell = $(document.getElementById(\"dd92a0af-842d-4486-bdb6-e7e38202dfd1\")).parents('.cell').data().cell;\n",
       "      cell.output_area.append_execute_result(NB_LOAD_WARNING)\n",
       "    }\n",
       "  }\n",
       "\n",
       "  if (root._bokeh_is_loading === 0) {\n",
       "    console.debug(\"Bokeh: BokehJS loaded, going straight to plotting\");\n",
       "    run_inline_js();\n",
       "  } else {\n",
       "    load_libs(css_urls, js_urls, function() {\n",
       "      console.debug(\"Bokeh: BokehJS plotting callback run at\", now());\n",
       "      run_inline_js();\n",
       "    });\n",
       "  }\n",
       "}(window));"
      ],
      "application/vnd.bokehjs_load.v0+json": "'use strict';\n(function(root) {\n  function now() {\n    return new Date();\n  }\n\n  const force = true;\n\n  if (typeof root._bokeh_onload_callbacks === \"undefined\" || force === true) {\n    root._bokeh_onload_callbacks = [];\n    root._bokeh_is_loading = undefined;\n  }\n\n\n  if (typeof (root._bokeh_timeout) === \"undefined\" || force === true) {\n    root._bokeh_timeout = Date.now() + 5000;\n    root._bokeh_failed_load = false;\n  }\n\n  const NB_LOAD_WARNING = {'data': {'text/html':\n     \"<div style='background-color: #fdd'>\\n\"+\n     \"<p>\\n\"+\n     \"BokehJS does not appear to have successfully loaded. If loading BokehJS from CDN, this \\n\"+\n     \"may be due to a slow or bad network connection. Possible fixes:\\n\"+\n     \"</p>\\n\"+\n     \"<ul>\\n\"+\n     \"<li>re-rerun `output_notebook()` to attempt to load from CDN again, or</li>\\n\"+\n     \"<li>use INLINE resources instead, as so:</li>\\n\"+\n     \"</ul>\\n\"+\n     \"<code>\\n\"+\n     \"from bokeh.resources import INLINE\\n\"+\n     \"output_notebook(resources=INLINE)\\n\"+\n     \"</code>\\n\"+\n     \"</div>\"}};\n\n  function display_loaded(error = null) {\n    const el = document.getElementById(\"dd92a0af-842d-4486-bdb6-e7e38202dfd1\");\n    if (el != null) {\n      const html = (() => {\n        if (typeof root.Bokeh === \"undefined\") {\n          if (error == null) {\n            return \"BokehJS is loading ...\";\n          } else {\n            return \"BokehJS failed to load.\";\n          }\n        } else {\n          const prefix = `BokehJS ${root.Bokeh.version}`;\n          if (error == null) {\n            return `${prefix} successfully loaded.`;\n          } else {\n            return `${prefix} <b>encountered errors</b> while loading and may not function as expected.`;\n          }\n        }\n      })();\n      el.innerHTML = html;\n\n      if (error != null) {\n        const wrapper = document.createElement(\"div\");\n        wrapper.style.overflow = \"auto\";\n        wrapper.style.height = \"5em\";\n        wrapper.style.resize = \"vertical\";\n        const content = document.createElement(\"div\");\n        content.style.fontFamily = \"monospace\";\n        content.style.whiteSpace = \"pre-wrap\";\n        content.style.backgroundColor = \"rgb(255, 221, 221)\";\n        content.textContent = error.stack ?? error.toString();\n        wrapper.append(content);\n        el.append(wrapper);\n      }\n    } else if (Date.now() < root._bokeh_timeout) {\n      setTimeout(() => display_loaded(error), 100);\n    }\n  }\n\n  function run_callbacks() {\n    try {\n      root._bokeh_onload_callbacks.forEach(function(callback) {\n        if (callback != null)\n          callback();\n      });\n    } finally {\n      delete root._bokeh_onload_callbacks\n    }\n    console.debug(\"Bokeh: all callbacks have finished\");\n  }\n\n  function load_libs(css_urls, js_urls, callback) {\n    if (css_urls == null) css_urls = [];\n    if (js_urls == null) js_urls = [];\n\n    root._bokeh_onload_callbacks.push(callback);\n    if (root._bokeh_is_loading > 0) {\n      console.debug(\"Bokeh: BokehJS is being loaded, scheduling callback at\", now());\n      return null;\n    }\n    if (js_urls == null || js_urls.length === 0) {\n      run_callbacks();\n      return null;\n    }\n    console.debug(\"Bokeh: BokehJS not loaded, scheduling load and callback at\", now());\n    root._bokeh_is_loading = css_urls.length + js_urls.length;\n\n    function on_load() {\n      root._bokeh_is_loading--;\n      if (root._bokeh_is_loading === 0) {\n        console.debug(\"Bokeh: all BokehJS libraries/stylesheets loaded\");\n        run_callbacks()\n      }\n    }\n\n    function on_error(url) {\n      console.error(\"failed to load \" + url);\n    }\n\n    for (let i = 0; i < css_urls.length; i++) {\n      const url = css_urls[i];\n      const element = document.createElement(\"link\");\n      element.onload = on_load;\n      element.onerror = on_error.bind(null, url);\n      element.rel = \"stylesheet\";\n      element.type = \"text/css\";\n      element.href = url;\n      console.debug(\"Bokeh: injecting link tag for BokehJS stylesheet: \", url);\n      document.body.appendChild(element);\n    }\n\n    for (let i = 0; i < js_urls.length; i++) {\n      const url = js_urls[i];\n      const element = document.createElement('script');\n      element.onload = on_load;\n      element.onerror = on_error.bind(null, url);\n      element.async = false;\n      element.src = url;\n      console.debug(\"Bokeh: injecting script tag for BokehJS library: \", url);\n      document.head.appendChild(element);\n    }\n  };\n\n  function inject_raw_css(css) {\n    const element = document.createElement(\"style\");\n    element.appendChild(document.createTextNode(css));\n    document.body.appendChild(element);\n  }\n\n  const js_urls = [\"https://cdn.bokeh.org/bokeh/release/bokeh-3.6.0.min.js\", \"https://cdn.bokeh.org/bokeh/release/bokeh-gl-3.6.0.min.js\", \"https://cdn.bokeh.org/bokeh/release/bokeh-widgets-3.6.0.min.js\", \"https://cdn.bokeh.org/bokeh/release/bokeh-tables-3.6.0.min.js\", \"https://cdn.bokeh.org/bokeh/release/bokeh-mathjax-3.6.0.min.js\"];\n  const css_urls = [];\n\n  const inline_js = [    function(Bokeh) {\n      Bokeh.set_log_level(\"info\");\n    },\nfunction(Bokeh) {\n    }\n  ];\n\n  function run_inline_js() {\n    if (root.Bokeh !== undefined || force === true) {\n      try {\n            for (let i = 0; i < inline_js.length; i++) {\n      inline_js[i].call(root, root.Bokeh);\n    }\n\n      } catch (error) {display_loaded(error);throw error;\n      }if (force === true) {\n        display_loaded();\n      }} else if (Date.now() < root._bokeh_timeout) {\n      setTimeout(run_inline_js, 100);\n    } else if (!root._bokeh_failed_load) {\n      console.log(\"Bokeh: BokehJS failed to load within specified timeout.\");\n      root._bokeh_failed_load = true;\n    } else if (force !== true) {\n      const cell = $(document.getElementById(\"dd92a0af-842d-4486-bdb6-e7e38202dfd1\")).parents('.cell').data().cell;\n      cell.output_area.append_execute_result(NB_LOAD_WARNING)\n    }\n  }\n\n  if (root._bokeh_is_loading === 0) {\n    console.debug(\"Bokeh: BokehJS loaded, going straight to plotting\");\n    run_inline_js();\n  } else {\n    load_libs(css_urls, js_urls, function() {\n      console.debug(\"Bokeh: BokehJS plotting callback run at\", now());\n      run_inline_js();\n    });\n  }\n}(window));"
     },
     "metadata": {},
     "output_type": "display_data"
    }
   ],
   "source": [
    "import bokeh.models as bm, bokeh.plotting as pl\n",
    "from bokeh.io import output_notebook\n",
    "output_notebook()\n",
    "\n",
    "def draw_vectors(x, y, radius=10, alpha=0.25, color='blue',\n",
    "                 width=600, height=400, show=True, **kwargs):\n",
    "    \"\"\" draws an interactive plot for data points with auxilirary info on hover \"\"\"\n",
    "    if isinstance(color, str): color = [color] * len(x)\n",
    "    data_source = bm.ColumnDataSource({ 'x' : x, 'y' : y, 'color': color, **kwargs })\n",
    "\n",
    "    fig = pl.figure(active_scroll='wheel_zoom', width=width, height=height)\n",
    "    fig.scatter('x', 'y', size=radius, color='color', alpha=alpha, source=data_source)\n",
    "\n",
    "    fig.add_tools(bm.HoverTool(tooltips=[(key, \"@\" + key) for key in kwargs.keys()]))\n",
    "    if show: pl.show(fig)\n",
    "    return fig"
   ]
  },
  {
   "cell_type": "code",
   "execution_count": 267,
   "metadata": {},
   "outputs": [],
   "source": [
    "# ## pca интереса ради\n",
    "\n",
    "# pca = PCA(n_components=2)\n",
    "# word_vectors_pca = pca.fit_transform(word_vectors)\n",
    "\n",
    "# scaler = StandardScaler()\n",
    "# word_vectors_pca = scaler.fit_transform(word_vectors_pca)\n",
    "\n",
    "# draw_vectors(word_vectors_pca[:, 0], word_vectors_pca[:, 1], token=words);"
   ]
  },
  {
   "attachments": {
    "b888ace7-fcf6-4519-a9c7-2a1bd48ae933.png": {
     "image/png": "[encoded data removed]"
    }
   },
   "cell_type": "markdown",
   "metadata": {},
   "source": [
    "все правда, лучше не думать\n",
    "\n",
    "![image.png](attachment:b888ace7-fcf6-4519-a9c7-2a1bd48ae933.png)"
   ]
  },
  {
   "cell_type": "markdown",
   "metadata": {},
   "source": [
    "**TSNE**"
   ]
  },
  {
   "cell_type": "code",
   "execution_count": 20,
   "metadata": {},
   "outputs": [
    {
     "name": "stderr",
     "output_type": "stream",
     "text": [
      "/Users/ruattar/study/university/NLP/myenv/lib/python3.10/site-packages/sklearn/manifold/_t_sne.py:1162: FutureWarning: 'n_iter' was renamed to 'max_iter' in version 1.5 and will be removed in 1.7.\n",
      "  warnings.warn(\n"
     ]
    }
   ],
   "source": [
    "tsne = TSNE(n_components=2, random_state=45, n_iter=5000)\n",
    "word_tsne = tsne.fit_transform(word_vectors)\n",
    "\n",
    "scaler = StandardScaler()\n",
    "word_tsne = scaler.fit_transform(word_tsne)"
   ]
  },
  {
   "cell_type": "code",
   "execution_count": 21,
   "metadata": {},
   "outputs": [
    {
     "data": {
      "text/html": [
       "\n",
       "  <div id=\"ff8f5dff-7a1f-4a2d-95fc-110c4c15bef2\" data-root-id=\"p1004\" style=\"display: contents;\"></div>\n"
      ]
     },
     "metadata": {},
     "output_type": "display_data"
    },
    {
     "data": {
      "application/javascript": [
       "(function(root) {\n",
       "  function embed_document(root) {\n",
       "  const docs_json = {\"5b4a7f3e-4455-4f07-bc83-a4065c9a04cb\":{\"version\":\"3.6.0\",\"title\":\"Bokeh Application\",\"roots\":[{\"type\":\"object\",\"name\":\"Figure\",\"id\":\"p1004\",\"attributes\":{\"height\":400,\"x_range\":{\"type\":\"object\",\"name\":\"DataRange1d\",\"id\":\"p1005\"},\"y_range\":{\"type\":\"object\",\"name\":\"DataRange1d\",\"id\":\"p1006\"},\"x_scale\":{\"type\":\"object\",\"name\":\"LinearScale\",\"id\":\"p1013\"},\"y_scale\":{\"type\":\"object\",\"name\":\"LinearScale\",\"id\":\"p1014\"},\"title\":{\"type\":\"object\",\"name\":\"Title\",\"id\":\"p1011\"},\"renderers\":[{\"type\":\"object\",\"name\":\"GlyphRenderer\",\"id\":\"p1044\",\"attributes\":{\"data_source\":{\"type\":\"object\",\"name\":\"ColumnDataSource\",\"id\":\"p1001\",\"attributes\":{\"selected\":{\"type\":\"object\",\"name\":\"Selection\",\"id\":\"p1002\",\"attributes\":{\"indices\":[],\"line_indices\":[]}},\"selection_policy\":{\"type\":\"object\",\"name\":\"UnionRenderers\",\"id\":\"p1003\"},\"data\":{\"type\":\"map\",\"entries\":[[\"x\",{\"type\":\"ndarray\",\"array\":{\"type\":\"bytes\",\"data\":\"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\"},\"shape\":[1000],\"dtype\":\"float32\",\"order\":\"little\"}],[\"y\",{\"type\":\"ndarray\",\"array\":{\"type\":\"bytes\",\"data\":\"Ggmev8cnjb2rTgZAX3xivhKSsr9CVKW/dz5Xva9GF7842H4/jNI6v0/6eT6yDuu+VinDvacy3b/n/w6/GAuCv9gTmz8yt/29oXx8Pqi/G780hWs/wkXUvmPzA0Ccqu0+M/EKv3VQwr40MQ5Ataqyvv1y2b7QyOC9kN59P+YSuj/ieSq+pyx5v5xMm7/egKy/3MnNP/Eaob+bIz6/h8YmvvW+274itzC/Gsx5v2q+j78Qmze/o2AYvZ11sr8bTFG/hK8UPwrQEr6y2C+/wEQ7PilCXj9CExC/uZSXv063eL6WzL6/V1qiv0XToj6JBVo+ita9v/JPMb+Zr34//Q4Zvw54r7/wGXS/fO+TP/XoGL9yBdi9GtCcv1aOuD4mQty+LLFCP6wV3L9u7Ju/+yOuP0fnK79mdF88SPk9PxYcrL6ZnYi/DcUCPrtVsj8xb96/flgiP9peFL8I53+/ZjDhPwFRIT/nfri/EgfvP2Hujj9FI3u/P9N9v5byxD47lsa/m+DZPlDk5L4Bs5q+6hXwPi2SmL/WS5E/dN7Av9u4fL/MhX8/sYKkP0C/iT9TjeQ/uMmIv7UVib/9BVM+zr0EPnXSVz+WW90/r5JlvwnbkD9FoWe/TG85vyX9Hz+taUI+TT6XP3WPvb804pq/P7zAvwPhGj+chG6/zkBZPtJkCEBFPNc/mKlOv+HLqL/xP46/qSudv3WIvL9KnVO/asmFvly8eL3BpgXA1owHP6c6pr9DCd++W6QVP/VOB73ESOi+eiTjP0FMW7/Iis6/hQwFPoFUaj/LMMA+G4apv0p6076Wwvq/QCq2PheQNj/Ai56/OAhVvykKMz/+S4e/zvvuPdmeYr8Fajo/8eboO5HHN78t1M0/9F+FP/5A9L7O3sA+lbgtv7aEsz96pKU/x6iIPTv8Rr7DbpG+7++1PI7PYr8OUu6/jVp+Pn+wAEAJ+7M/8+w9vp32d78uOUA/LAecvp4dBMD/NpQ/Jz2IvtGlg717sly/Y7gavuGgKD+iXoO/+XjxvwSwKD6yoAI/xKMCQCl/zb6YA2g/bG54v89mRj9zqI2/H3UTv1VbcL+P1Ky/9Fqev+W1gL/51Tk/rsWrP9ayMj/YnkG+wGjFPyO2hb+p2py+Et+QPwm+cr8IGIY/pRcWv/klnT9uYa8+/9IxvwMej78+WwC/xcCGP4poIj/5XMu9A62evy07kz6x1ZO/SwuyPUjuWr8hPV8+wil/vKErBEB4z7a+Ox8LQI5KAL8D7Dm/83mLv19+kL5iYfK/gOJgv96SEj+YvWS/49zyPygltD1xvFy/kNlgv+XMg7+kMge/AaAzv8YDqj4wsry//lGFPrsZfD+zsz+/1caSPxiCRj7bObG/YSmyv/X2vz9MJrE/Xcf6vrLDrj+jIxK/w0xlv/tFGj8Mcdw9fZb5vJDiYD/wpk8/3UJMPxnF8b7ISSo/NnGDv218CECOOxq/qhbiPrFrCb8oQfa+1TiHP3a4Uz+eaS0+AawGQCzPY7/McpW/2e0uvkWm0r3KLIw/T2bnveyddD7Txcg+1u5JPsvG6b5XZjo+olz6v2W23j+J75Q+tuptv95vl7+7bJW/ahR4PzqYc7+jtR6/Nh4Iv6OwQT9XWIu/JIZCP5g0DL4Ihww/nMddP3sm8j7ZYJy/9jBbPVV6hT+WiGa+Fb6yPw8jg79YQI4/3UF2vvOa6L4yf0e/I8MKv8CYBj/uGZo/xd3OPiYr0z6YAK8/g2hlvJ4XET5m9E0/TRNIvjHiRD4PEN2/zgIuv/hYTD/ttp+/6X0EQCBYyr8Lnma/ysz9vrgyID+VLaK/3roov5uddr+7C2q/PEahv8tylb+XC0y/33OZv07jez/8E48/K4IKvwxKVr/8PWI+QW+Zv4kY3b99GTE/ooM7v/C9qj8Plhu/4Og0P1tOvb8EQpM+fIL1v8PTp72H5Em+KjzLv7oCqL/XGnU/g6aWvzx4jz/SYIq/ebeTv/Fyoz81dNM/TjzYvm0/lj9cTMG/zibuPyf72D7pjVc/KHWGPzxZIr8npTi/4PMBwFHFfj9yOae/cTBZP6u8pjy+F7s+MK2Yv08HMj9H/P8/HMSJP5MFTT8b1ak/GHyUv2nhsj+baxU/s41YPgv3ob8Zty6/vYCiP252mT9/wlk/S6NSv0GMlb/xQqI+e0vNv5stDj8L8P0/Pa6evx6amr7RejK+O/OHPslhhL/3LJG/gfuqv2qDhb8eq4w/O+SrPyRFDb2Nv/e+/3KZPSkXp7/HZ+A/VUYZPxUj9z5DIyM+8b+cP0n1wb/Avq0/lGoYv5zk8b7Lzqm+fAAAQB/e2L6Nto4/3ggjv4rDBD/8Zu+/aJucvqsjAr+Xod2+p/46vcGesT5R4gVAYqq0vfCgjz9Q8HC/K93nPy/Qr768TqY/IbbPPyss7T5CmzM/tPNMPp2zdL9wO9c+OeJUv9C0Uz//MD0/8h0PPx5dhD9BZaw+yHqdvk0H273KTRg/A0jdPj8Rmz8wM3G/dB6av7xJbT46wkO/zTupvg0yIb+9Mwg/9IWDPa2bRL4/4Tg/7BgPPyVLDkCQylw/37Fkv7p8xr+UXIK/2VLDP0eZMj82IRM/1wxjP2zBJb7hOR6/qdSWvrAA1bpTZTq/8jrwPyJTHb8QlFK/KkMtv/lr/T4uuS48dvI1P2q2Hz8P5DO/OmJ2v+RYnz9sJ4m/xoqQv41sgz+0Mqi/S1KqPVjsUr+YKYG/T+mYvvHSDT+O0Zc/B6p+v9lqQ7/KZJO/NMilP+fPqD8gZG2/WbalP8OzOj9fq4G/JltevztGbL9mZVa/FXrMPiL+Vz1k02y9ZTfoPjAmOD3Vsr+/aUZzv9bCjj8Lrgu/Y6G8P7O/wr9MZqg/P7vFP0OJuz+/Ku0+DnRCv5KSb78stCW/ofreviSyXb8v6Ke+id8evuyWqL7niTQ/+BZpvi48LL/FCVS/KIbFP06rij+EGpS/ZhgGP9l1qT+6Rq4/FwBCPszNjT/yWv6/+vpmPzu2Pj9KGk4/G3SLv6yj7r9aPmQ/2YWIv14gTL6nmKg/EdtUv+Scq76ObD6/1U7tP2vGoDxYF5K/y6UBPmPnqL76ykY/7knwP8Sghb8ebcs/o6xsvwyE6j4TOIU/PbaRvuqrKr8EnnC9iiU3vwc5Uz8tigY97QbJPhj3f77LFQM+gH7Ov0IhCj/fCRa+VBgxP7MByD812Jm/kcEYv4Zjmj/SDhA/DC5hv/AGL7/y93q/NSMtPtC5Pj7mJp6/ZRz2v5ZdPj4ATHq/kBIbv79Ws77gsvi/WM8VP+hOFz+zrHq/WA2rvs9Y8D+mlo09jQW7P32ojz0kSZK8ovfSvoD7sb9L4FW/AZmOv/vjNr8JetW8PBZQPxjdsz/q+6g/I3K7P4gjnL+fWwK/pcewv0b1iL8xiba/kTefv5NqDL8ddJu/eMCSP86STT+dXak/DFS5P11q/D5XB6U/lezBv4Pkvr/YS60/IAuyvxvfEz/wwk+/McY+PzPsMD9Lyp2+5aqhv91Gur5HVmE/vYCnv4HoOr52V+o+yWOmvy5Yqz6FGHu/airRPVInCb+KlC8/jV+ePnhZC7/xs9C+BwHIPu66C7/e/wu9Atk+v8LC6z5NXks+fDjZPozCrb5aoo+/wX7Dv68MBj+xYp++L8uFv7KlsD9vi1C+jUkSvzPfLT4p2Ra/3KxSvwflDb8Qu82+qJ6PvzMHOL5paqw85H05P4mX+b6Jd+c/fHkpv3mdjj2shou/BgsePTj4Zj7SrIm/PK7Nvli0nT+ZIze/ZsQKvyG8i78YfK4/RWyRP8QFUT9dMbQ/CeVOPmqDOT4iwSo/N7oNQBfDB0A1UxA/YPxMvy309b4pePq+zYinPwTPlb81ps898Sa0Pivznj8Fq/C+o9p9v6D3XT1VEd8/5MkXP1tgMr/crdM/jV+OPxhucr/yE+6/GBV5vwpYVr9oLQlAiUSaPxiljz/uOAw/nYRxvx+Zqb7Qo4O/cflpP5KwG785AL8/Wvkdv+ZFPL+Tyc69NZhNP0XMWj5PW1i+hMoov+s8R7/W7Im/TjO2veXA0j60CgZA5WfSP0PlrL7ivoO/EwqfP4RHhT/QulO/CL7Qvodk3D9a3qq/g2yuP4SlgL/g+6E/ERuqPzXalzwZUPs+Ih7ZPazgnb4cuKC/qBNVv/vGoj8Z0P0/ng3dPjXapj9w54E/Rq4oP29XB0CUwtW+2/B6P/olCL90yKK/uHWdP7ApEL/un90/009XP7VPIz5uu0C/YVwTPymNjb6M+ca/AdquPxl7hz8twqS//UrTvhj6Sr6DBaO/H/gdPqfkxD++f8W/oRc7P3bizD9jBKQ/XefnvyszZL8VDoo/e5GtPzck7D6x1AVAc9Y8v6k97L7rK9u9/RrwPZTkj76XkMI/FGHdvvsR577FgW4/OAumvtqeDz/m+oq/XkHqvuv9lj/yL4A//G59P20XKb84vPW//lf0P9KmB0AoQ6c/MLbavhSSDz+KsKq/ux1OPzBBuz+j0OA/f1Lfvku8lT8vk6c/xytuP1DP+T7FRUO/xAgyvkYPBD/dj0s/HKxHPwRNGb8v0b6/A5fSP4zR779E8+q+NPW8Pxhq1r5T/nO+EJCFP0qQv75KC5s/QRwLvxOji7+T8UE/aFt+v+RNmT+97ow/IF0Kv5ADLr/o9C0/nuauP4bo9b/qZfO/r1KFP7Vwnj7fs48+HUobPogUJD+Eaje/m3FYvzhwMr9PSai/ix2IP1B6ej/ISQFAtaHkv8svXT/dM4e/VCKCP/OgAMDAz4W/1nUfPqLljb89bJo/kPMJv6wpGr/9iwG/aL6av+USIb0UMya/r1GrP7VdEb+7SJc/xj8Gv/OpcL8l8uK9ZdQNPyQJOT1Pyg8/zj7PP7Py7j5+3LS+xhPov1YTzb9ZB4M/QXTzPw8zsD+wRQc+sHsHQAyMjj/m+Ms+NSnFvhsZnD3uxQ+/PgU+v+5VNL4N6P++nESnP1TkxD/Ywa4+8lD+P8nA/j7ngZk/6rxxP6RyDD+f9DC/WgKiPh+Cfj8VTje/GSirP6JxnD9U2xM/VI8/v7bnRD8CXze/l2Wvv15F0r7TXLK/LQEXPxZvTT+B4Q+/pCdov8u3PD9WNcY9n3c8PwuV8r89QwQ/WT8Xv7TNoD9hrH8/EsHYvjwFRb8a3Le92QDVvr4GfT9rPKQ+h5kpPsyk1j65PGy/6EE1PxpvnD8/s4K/ylUEPqikij+xFz8+d2YjP7HGgT9V0Iy/xDe8P+JDVb+oi5k/0mxGv3Kw1r6zgI8/MaWAv8MqHL/y5yW+iJNIv2XDcT4+kB8/Me6Avw==\"},\"shape\":[1000],\"dtype\":\"float32\",\"order\":\"little\"}],[\"color\",[\"pink\",\"pink\",\"pink\",\"pink\",\"pink\",\"pink\",\"pink\",\"pink\",\"pink\",\"pink\",\"pink\",\"pink\",\"pink\",\"pink\",\"pink\",\"pink\",\"pink\",\"pink\",\"pink\",\"pink\",\"pink\",\"pink\",\"pink\",\"pink\",\"pink\",\"pink\",\"pink\",\"pink\",\"pink\",\"pink\",\"pink\",\"pink\",\"pink\",\"pink\",\"pink\",\"pink\",\"pink\",\"pink\",\"pink\",\"pink\",\"pink\",\"pink\",\"pink\",\"pink\",\"pink\",\"pink\",\"pink\",\"pink\",\"pink\",\"pink\",\"pink\",\"pink\",\"pink\",\"pink\",\"pink\",\"pink\",\"pink\",\"pink\",\"pink\",\"pink\",\"pink\",\"pink\",\"pink\",\"pink\",\"pink\",\"pink\",\"pink\",\"pink\",\"pink\",\"pink\",\"pink\",\"pink\",\"pink\",\"pink\",\"pink\",\"pink\",\"pink\",\"pink\",\"pink\",\"pink\",\"pink\",\"pink\",\"pink\",\"pink\",\"pink\",\"pink\",\"pink\",\"pink\",\"pink\",\"pink\",\"pink\",\"pink\",\"pink\",\"pink\",\"pink\",\"pink\",\"pink\",\"pink\",\"pink\",\"pink\",\"pink\",\"pink\",\"pink\",\"pink\",\"pink\",\"pink\",\"pink\",\"pink\",\"pink\",\"pink\",\"pink\",\"pink\",\"pink\",\"pink\",\"pink\",\"pink\",\"pink\",\"pink\",\"pink\",\"pink\",\"pink\",\"pink\",\"pink\",\"pink\",\"pink\",\"pink\",\"pink\",\"pink\",\"pink\",\"pink\",\"pink\",\"pink\",\"pink\",\"pink\",\"pink\",\"pink\",\"pink\",\"pink\",\"pink\",\"pink\",\"pink\",\"pink\",\"pink\",\"pink\",\"pink\",\"pink\",\"pink\",\"pink\",\"pink\",\"pink\",\"pink\",\"pink\",\"pink\",\"pink\",\"pink\",\"pink\",\"pink\",\"pink\",\"pink\",\"pink\",\"pink\",\"pink\",\"pink\",\"pink\",\"pink\",\"pink\",\"pink\",\"pink\",\"pink\",\"pink\",\"pink\",\"pink\",\"pink\",\"pink\",\"pink\",\"pink\",\"pink\",\"pink\",\"pink\",\"pink\",\"pink\",\"pink\",\"pink\",\"pink\",\"pink\",\"pink\",\"pink\",\"pink\",\"pink\",\"pink\",\"pink\",\"pink\",\"pink\",\"pink\",\"pink\",\"pink\",\"pink\",\"pink\",\"pink\",\"pink\",\"pink\",\"pink\",\"pink\",\"pink\",\"pink\",\"pink\",\"pink\",\"pink\",\"pink\",\"pink\",\"pink\",\"pink\",\"pink\",\"pink\",\"pink\",\"pink\",\"pink\",\"pink\",\"pink\",\"pink\",\"pink\",\"pink\",\"pink\",\"pink\",\"pink\",\"pink\",\"pink\",\"pink\",\"pink\",\"pink\",\"pink\",\"pink\",\"pink\",\"pink\",\"pink\",\"pink\",\"pink\",\"pink\",\"pink\",\"pink\",\"pink\",\"pink\",\"pink\",\"pink\",\"pink\",\"pink\",\"pink\",\"pink\",\"pink\",\"pink\",\"pink\",\"pink\",\"pink\",\"pink\",\"pink\",\"pink\",\"pink\",\"pink\",\"pink\",\"pink\",\"pink\",\"pink\",\"pink\",\"pink\",\"pink\",\"pink\",\"pink\",\"pink\",\"pink\",\"pink\",\"pink\",\"pink\",\"pink\",\"pink\",\"pink\",\"pink\",\"pink\",\"pink\",\"pink\",\"pink\",\"pink\",\"pink\",\"pink\",\"pink\",\"pink\",\"pink\",\"pink\",\"pink\",\"pink\",\"pink\",\"pink\",\"pink\",\"pink\",\"pink\",\"pink\",\"pink\",\"pink\",\"pink\",\"pink\",\"pink\",\"pink\",\"pink\",\"pink\",\"pink\",\"pink\",\"pink\",\"pink\",\"pink\",\"pink\",\"pink\",\"pink\",\"pink\",\"pink\",\"pink\",\"pink\",\"pink\",\"pink\",\"pink\",\"pink\",\"pink\",\"pink\",\"pink\",\"pink\",\"pink\",\"pink\",\"pink\",\"pink\",\"pink\",\"pink\",\"pink\",\"pink\",\"pink\",\"pink\",\"pink\",\"pink\",\"pink\",\"pink\",\"pink\",\"pink\",\"pink\",\"pink\",\"pink\",\"pink\",\"pink\",\"pink\",\"pink\",\"pink\",\"pink\",\"pink\",\"pink\",\"pink\",\"pink\",\"pink\",\"pink\",\"pink\",\"pink\",\"pink\",\"pink\",\"pink\",\"pink\",\"pink\",\"pink\",\"pink\",\"pink\",\"pink\",\"pink\",\"pink\",\"pink\",\"pink\",\"pink\",\"pink\",\"pink\",\"pink\",\"pink\",\"pink\",\"pink\",\"pink\",\"pink\",\"pink\",\"pink\",\"pink\",\"pink\",\"pink\",\"pink\",\"pink\",\"pink\",\"pink\",\"pink\",\"pink\",\"pink\",\"pink\",\"pink\",\"pink\",\"pink\",\"pink\",\"pink\",\"pink\",\"pink\",\"pink\",\"pink\",\"pink\",\"pink\",\"pink\",\"pink\",\"pink\",\"pink\",\"pink\",\"pink\",\"pink\",\"pink\",\"pink\",\"pink\",\"pink\",\"pink\",\"pink\",\"pink\",\"pink\",\"pink\",\"pink\",\"pink\",\"pink\",\"pink\",\"pink\",\"pink\",\"pink\",\"pink\",\"pink\",\"pink\",\"pink\",\"pink\",\"pink\",\"pink\",\"pink\",\"pink\",\"pink\",\"pink\",\"pink\",\"pink\",\"pink\",\"pink\",\"pink\",\"pink\",\"pink\",\"pink\",\"pink\",\"pink\",\"pink\",\"pink\",\"pink\",\"pink\",\"pink\",\"pink\",\"pink\",\"pink\",\"pink\",\"pink\",\"pink\",\"pink\",\"pink\",\"pink\",\"pink\",\"pink\",\"pink\",\"pink\",\"pink\",\"pink\",\"pink\",\"pink\",\"pink\",\"pink\",\"pink\",\"pink\",\"pink\",\"pink\",\"pink\",\"pink\",\"pink\",\"pink\",\"pink\",\"pink\",\"pink\",\"pink\",\"pink\",\"pink\",\"pink\",\"pink\",\"pink\",\"pink\",\"pink\",\"pink\",\"pink\",\"pink\",\"pink\",\"pink\",\"pink\",\"pink\",\"pink\",\"pink\",\"pink\",\"pink\",\"pink\",\"pink\",\"pink\",\"pink\",\"pink\",\"pink\",\"pink\",\"pink\",\"pink\",\"pink\",\"pink\",\"pink\",\"pink\",\"pink\",\"pink\",\"pink\",\"pink\",\"pink\",\"pink\",\"pink\",\"pink\",\"pink\",\"pink\",\"pink\",\"pink\",\"pink\",\"pink\",\"pink\",\"pink\",\"pink\",\"pink\",\"pink\",\"pink\",\"pink\",\"pink\",\"pink\",\"pink\",\"pink\",\"pink\",\"pink\",\"pink\",\"pink\",\"pink\",\"pink\",\"pink\",\"pink\",\"pink\",\"pink\",\"pink\",\"pink\",\"pink\",\"pink\",\"pink\",\"pink\",\"pink\",\"pink\",\"pink\",\"pink\",\"pink\",\"pink\",\"pink\",\"pink\",\"pink\",\"pink\",\"pink\",\"pink\",\"pink\",\"pink\",\"pink\",\"pink\",\"pink\",\"pink\",\"pink\",\"pink\",\"pink\",\"pink\",\"pink\",\"pink\",\"pink\",\"pink\",\"pink\",\"pink\",\"pink\",\"pink\",\"pink\",\"pink\",\"pink\",\"pink\",\"pink\",\"pink\",\"pink\",\"pink\",\"pink\",\"pink\",\"pink\",\"pink\",\"pink\",\"pink\",\"pink\",\"pink\",\"pink\",\"pink\",\"pink\",\"pink\",\"pink\",\"pink\",\"pink\",\"pink\",\"pink\",\"pink\",\"pink\",\"pink\",\"pink\",\"pink\",\"pink\",\"pink\",\"pink\",\"pink\",\"pink\",\"pink\",\"pink\",\"pink\",\"pink\",\"pink\",\"pink\",\"pink\",\"pink\",\"pink\",\"pink\",\"pink\",\"pink\",\"pink\",\"pink\",\"pink\",\"pink\",\"pink\",\"pink\",\"pink\",\"pink\",\"pink\",\"pink\",\"pink\",\"pink\",\"pink\",\"pink\",\"pink\",\"pink\",\"pink\",\"pink\",\"pink\",\"pink\",\"pink\",\"pink\",\"pink\",\"pink\",\"pink\",\"pink\",\"pink\",\"pink\",\"pink\",\"pink\",\"pink\",\"pink\",\"pink\",\"pink\",\"pink\",\"pink\",\"pink\",\"pink\",\"pink\",\"pink\",\"pink\",\"pink\",\"pink\",\"pink\",\"pink\",\"pink\",\"pink\",\"pink\",\"pink\",\"pink\",\"pink\",\"pink\",\"pink\",\"pink\",\"pink\",\"pink\",\"pink\",\"pink\",\"pink\",\"pink\",\"pink\",\"pink\",\"pink\",\"pink\",\"pink\",\"pink\",\"pink\",\"pink\",\"pink\",\"pink\",\"pink\",\"pink\",\"pink\",\"pink\",\"pink\",\"pink\",\"pink\",\"pink\",\"pink\",\"pink\",\"pink\",\"pink\",\"pink\",\"pink\",\"pink\",\"pink\",\"pink\",\"pink\",\"pink\",\"pink\",\"pink\",\"pink\",\"pink\",\"pink\",\"pink\",\"pink\",\"pink\",\"pink\",\"pink\",\"pink\",\"pink\",\"pink\",\"pink\",\"pink\",\"pink\",\"pink\",\"pink\",\"pink\",\"pink\",\"pink\",\"pink\",\"pink\",\"pink\",\"pink\",\"pink\",\"pink\",\"pink\",\"pink\",\"pink\",\"pink\",\"pink\",\"pink\",\"pink\",\"pink\",\"pink\",\"pink\",\"pink\",\"pink\",\"pink\",\"pink\",\"pink\",\"pink\",\"pink\",\"pink\",\"pink\",\"pink\",\"pink\",\"pink\",\"pink\",\"pink\",\"pink\",\"pink\",\"pink\",\"pink\",\"pink\",\"pink\",\"pink\",\"pink\",\"pink\",\"pink\",\"pink\",\"pink\",\"pink\",\"pink\",\"pink\",\"pink\",\"pink\",\"pink\",\"pink\",\"pink\",\"pink\",\"pink\",\"pink\",\"pink\",\"pink\",\"pink\",\"pink\",\"pink\",\"pink\",\"pink\",\"pink\",\"pink\",\"pink\",\"pink\",\"pink\",\"pink\",\"pink\",\"pink\",\"pink\",\"pink\",\"pink\",\"pink\",\"pink\",\"pink\",\"pink\",\"pink\",\"pink\",\"pink\",\"pink\",\"pink\",\"pink\",\"pink\",\"pink\",\"pink\",\"pink\",\"pink\",\"pink\",\"pink\",\"pink\",\"pink\",\"pink\",\"pink\",\"pink\",\"pink\",\"pink\",\"pink\",\"pink\",\"pink\",\"pink\",\"pink\",\"pink\",\"pink\",\"pink\",\"pink\",\"pink\",\"pink\",\"pink\",\"pink\",\"pink\",\"pink\",\"pink\",\"pink\",\"pink\",\"pink\",\"pink\",\"pink\",\"pink\",\"pink\",\"pink\",\"pink\",\"pink\",\"pink\",\"pink\",\"pink\",\"pink\",\"pink\",\"pink\",\"pink\",\"pink\",\"pink\",\"pink\",\"pink\",\"pink\",\"pink\",\"pink\",\"pink\",\"pink\",\"pink\",\"pink\",\"pink\",\"pink\",\"pink\",\"pink\",\"pink\",\"pink\",\"pink\",\"pink\",\"pink\",\"pink\",\"pink\",\"pink\",\"pink\",\"pink\",\"pink\",\"pink\",\"pink\",\"pink\",\"pink\",\"pink\",\"pink\",\"pink\",\"pink\",\"pink\",\"pink\",\"pink\",\"pink\",\"pink\",\"pink\",\"pink\",\"pink\",\"pink\",\"pink\",\"pink\",\"pink\",\"pink\",\"pink\",\"pink\",\"pink\",\"pink\",\"pink\",\"pink\",\"pink\",\"pink\",\"pink\",\"pink\",\"pink\",\"pink\",\"pink\",\"pink\",\"pink\",\"pink\",\"pink\",\"pink\",\"pink\",\"pink\",\"pink\",\"pink\",\"pink\",\"pink\",\"pink\",\"pink\",\"pink\",\"pink\",\"pink\",\"pink\",\"pink\",\"pink\",\"pink\",\"pink\",\"pink\",\"pink\",\"pink\",\"pink\",\"pink\",\"pink\",\"pink\",\"pink\",\"pink\",\"pink\",\"pink\",\"pink\",\"pink\",\"pink\",\"pink\",\"pink\",\"pink\",\"pink\",\"pink\",\"pink\",\"pink\",\"pink\",\"pink\",\"pink\",\"pink\",\"pink\",\"pink\",\"pink\",\"pink\",\"pink\",\"pink\",\"pink\",\"pink\",\"pink\",\"pink\",\"pink\",\"pink\",\"pink\",\"pink\",\"pink\",\"pink\",\"pink\",\"pink\",\"pink\",\"pink\",\"pink\",\"pink\",\"pink\",\"pink\",\"pink\"]],[\"token\",[\"n\",\"harry\",\"wand\",\"said\",\"could\",\"would\",\"one\",\"hermione\",\"back\",\"draco\",\"eyes\",\"like\",\"voldemort\",\"time\",\"ron\",\"know\",\"around\",\"potter\",\"face\",\"get\",\"spell\",\"death\",\"hand\",\"looked\",\"even\",\"see\",\"head\",\"still\",\"snape\",\"dark\",\"away\",\"room\",\"way\",\"well\",\"sirius\",\"going\",\"door\",\"james\",\"malfoy\",\"right\",\"severus\",\"go\",\"think\",\"never\",\"thought\",\"two\",\"let\",\"something\",\"turned\",\"voice\",\"knew\",\"first\",\"curse\",\"ginny\",\"man\",\"asked\",\"lord\",\"lily\",\"look\",\"took\",\"little\",\"made\",\"cast\",\"much\",\"want\",\"bellatrix\",\"behind\",\"got\",\"felt\",\"boy\",\"saw\",\"make\",\"heard\",\"rrb\",\"remus\",\"pointed\",\"come\",\"another\",\"shouted\",\"dumbledore\",\"good\",\"last\",\"light\",\"lrb\",\"came\",\"take\",\"really\",\"floor\",\"left\",\"oh\",\"body\",\"towards\",\"nothing\",\"say\",\"moment\",\"mind\",\"pain\",\"though\",\"long\",\"looking\",\"love\",\"pulled\",\"tried\",\"enough\",\"spells\",\"raised\",\"front\",\"ground\",\"kill\",\"black\",\"started\",\"eaters\",\"quickly\",\"blood\",\"anything\",\"side\",\"sure\",\"magic\",\"went\",\"next\",\"hit\",\"ca\",\"us\",\"trying\",\"stood\",\"tell\",\"began\",\"hands\",\"hair\",\"lucius\",\"need\",\"ever\",\"life\",\"please\",\"help\",\"without\",\"whispered\",\"year\",\"found\",\"wanted\",\"find\",\"open\",\"three\",\"neville\",\"feet\",\"someone\",\"thing\",\"eater\",\"charm\",\"stop\",\"yes\",\"used\",\"words\",\"almost\",\"yelled\",\"girl\",\"told\",\"suddenly\",\"father\",\"finally\",\"always\",\"crucio\",\"seemed\",\"people\",\"bed\",\"put\",\"use\",\"house\",\"weasley\",\"fell\",\"red\",\"every\",\"hogwarts\",\"professor\",\"end\",\"things\",\"night\",\"second\",\"mouth\",\"air\",\"feel\",\"dead\",\"walked\",\"nodded\",\"years\",\"small\",\"already\",\"tom\",\"done\",\"place\",\"screamed\",\"better\",\"day\",\"smile\",\"breath\",\"arm\",\"bit\",\"slowly\",\"everyone\",\"ran\",\"must\",\"give\",\"best\",\"old\",\"try\",\"everything\",\"hear\",\"green\",\"heart\",\"gave\",\"wall\",\"mother\",\"smiled\",\"held\",\"happened\",\"inside\",\"yet\",\"across\",\"hard\",\"leave\",\"might\",\"keep\",\"reached\",\"coming\",\"muttered\",\"world\",\"watched\",\"wizard\",\"soon\",\"else\",\"stopped\",\"many\",\"lips\",\"albus\",\"arms\",\"luna\",\"rose\",\"die\",\"since\",\"name\",\"course\",\"opened\",\"friends\",\"chest\",\"gone\",\"muggle\",\"called\",\"maybe\",\"work\",\"making\",\"ready\",\"wo\",\"half\",\"quick\",\"granger\",\"shot\",\"move\",\"able\",\"sorry\",\"table\",\"fire\",\"fred\",\"onto\",\"also\",\"friend\",\"standing\",\"later\",\"great\",\"stupefy\",\"cold\",\"sound\",\"george\",\"cried\",\"killed\",\"tears\",\"getting\",\"laughed\",\"far\",\"quite\",\"forward\",\"sat\",\"seen\",\"wands\",\"anyone\",\"woman\",\"together\",\"instead\",\"grabbed\",\"feeling\",\"close\",\"caught\",\"taking\",\"fight\",\"continued\",\"word\",\"robes\",\"fear\",\"family\",\"tonks\",\"hurt\",\"deep\",\"remember\",\"least\",\"however\",\"run\",\"son\",\"running\",\"book\",\"closed\",\"moved\",\"stared\",\"needed\",\"slightly\",\"curses\",\"point\",\"hall\",\"mean\",\"shook\",\"replied\",\"rather\",\"person\",\"new\",\"shut\",\"sent\",\"past\",\"turn\",\"pointing\",\"lost\",\"eye\",\"stepped\",\"school\",\"stand\",\"gryffindor\",\"alone\",\"immediately\",\"care\",\"fingers\",\"bloody\",\"wrong\",\"master\",\"scream\",\"says\",\"thinking\",\"probably\",\"parents\",\"okay\",\"peter\",\"idea\",\"lupin\",\"set\",\"holding\",\"students\",\"actually\",\"full\",\"battle\",\"slytherin\",\"killing\",\"mr\",\"flew\",\"order\",\"followed\",\"managed\",\"hold\",\"minutes\",\"rest\",\"sighed\",\"hell\",\"young\",\"shield\",\"decided\",\"toward\",\"believe\",\"may\",\"threw\",\"pocket\",\"using\",\"along\",\"memory\",\"throat\",\"corner\",\"figure\",\"closer\",\"part\",\"scorpius\",\"times\",\"casting\",\"happy\",\"pushed\",\"kept\",\"barely\",\"matter\",\"appeared\",\"shoulder\",\"outside\",\"upon\",\"water\",\"wait\",\"stairs\",\"turning\",\"noticed\",\"hope\",\"others\",\"white\",\"large\",\"expelliarmus\",\"either\",\"witch\",\"anger\",\"mudblood\",\"screaming\",\"skin\",\"fine\",\"taken\",\"home\",\"watching\",\"bad\",\"child\",\"chance\",\"answer\",\"broken\",\"top\",\"attention\",\"fact\",\"several\",\"yeah\",\"cloak\",\"leaving\",\"hissed\",\"realized\",\"drew\",\"stupid\",\"dropped\",\"show\",\"simple\",\"potion\",\"legs\",\"completely\",\"shaking\",\"stay\",\"rolled\",\"read\",\"class\",\"power\",\"fighting\",\"whole\",\"looks\",\"neck\",\"watch\",\"pulling\",\"ask\",\"step\",\"longer\",\"flying\",\"fall\",\"staring\",\"silence\",\"seeing\",\"call\",\"waiting\",\"saying\",\"sitting\",\"loud\",\"laugh\",\"straight\",\"nearly\",\"charms\",\"spoke\",\"cut\",\"quietly\",\"lifted\",\"brother\",\"war\",\"sight\",\"magical\",\"potions\",\"ministry\",\"snapped\",\"ago\",\"start\",\"silent\",\"sleep\",\"kiss\",\"high\",\"talk\",\"thoughts\",\"true\",\"window\",\"darkness\",\"brought\",\"moving\",\"form\",\"boys\",\"simply\",\"four\",\"perhaps\",\"nose\",\"different\",\"meant\",\"pansy\",\"fast\",\"free\",\"filled\",\"cry\",\"knowing\",\"bella\",\"stone\",\"understand\",\"loved\",\"hex\",\"thank\",\"late\",\"kind\",\"died\",\"mcgonagall\",\"broke\",\"direction\",\"save\",\"miss\",\"baby\",\"jumped\",\"accio\",\"lot\",\"blue\",\"walking\",\"knows\",\"alive\",\"happen\",\"narcissa\",\"seconds\",\"break\",\"riddle\",\"laughing\",\"five\",\"merlin\",\"known\",\"near\",\"powerful\",\"chair\",\"memories\",\"aimed\",\"lying\",\"desk\",\"wide\",\"reason\",\"anyway\",\"talking\",\"strong\",\"real\",\"minerva\",\"books\",\"attack\",\"quiet\",\"smirked\",\"blaise\",\"exactly\",\"lay\",\"placed\",\"live\",\"locked\",\"beside\",\"glass\",\"shock\",\"picked\",\"days\",\"soft\",\"empty\",\"burst\",\"supposed\",\"story\",\"protego\",\"speak\",\"patronus\",\"castle\",\"muggles\",\"duel\",\"wizards\",\"knees\",\"angry\",\"whatever\",\"remembered\",\"given\",\"middle\",\"teeth\",\"question\",\"falling\",\"evil\",\"softly\",\"aside\",\"grinned\",\"become\",\"snake\",\"safe\",\"common\",\"became\",\"within\",\"clear\",\"surprise\",\"dare\",\"ear\",\"finished\",\"walk\",\"office\",\"anymore\",\"less\",\"pale\",\"passed\",\"children\",\"today\",\"lestrange\",\"short\",\"met\",\"shall\",\"morning\",\"expression\",\"hate\",\"sort\",\"force\",\"hours\",\"screams\",\"gasped\",\"sister\",\"moody\",\"stomach\",\"surprised\",\"kitchen\",\"forced\",\"clearly\",\"seamus\",\"nice\",\"worse\",\"regulus\",\"possible\",\"cedric\",\"casted\",\"corridor\",\"carefully\",\"tip\",\"mine\",\"bring\",\"pretty\",\"easy\",\"big\",\"alright\",\"beautiful\",\"wish\",\"covered\",\"living\",\"bright\",\"tree\",\"crying\",\"waved\",\"damn\",\"mark\",\"flash\",\"dear\",\"laughter\",\"fun\",\"familiar\",\"ears\",\"easily\",\"thanks\",\"change\",\"silently\",\"dad\",\"giving\",\"causing\",\"mum\",\"rage\",\"plan\",\"final\",\"seem\",\"entered\",\"touch\",\"mad\",\"control\",\"moments\",\"group\",\"entire\",\"makes\",\"glared\",\"third\",\"waited\",\"headmaster\",\"afraid\",\"fuck\",\"glanced\",\"none\",\"wife\",\"piece\",\"answered\",\"perfect\",\"grin\",\"molly\",\"torture\",\"case\",\"auror\",\"scared\",\"boggart\",\"single\",\"cruciatus\",\"although\",\"steps\",\"men\",\"ten\",\"alice\",\"couple\",\"pull\",\"wormtail\",\"notice\",\"sending\",\"sense\",\"except\",\"worry\",\"position\",\"lumos\",\"noise\",\"broom\",\"gaze\",\"reach\",\"sudden\",\"kissed\",\"gently\",\"returned\",\"ones\",\"obviously\",\"somehow\",\"forest\",\"allowed\",\"wondered\",\"minute\",\"whipped\",\"weak\",\"lived\",\"confused\",\"backwards\",\"breathing\",\"mrs\",\"bag\",\"line\",\"forget\",\"disclaimer\",\"protect\",\"cause\",\"shoulders\",\"spot\",\"missed\",\"calm\",\"guess\",\"smiling\",\"husband\",\"reducto\",\"aurors\",\"foot\",\"girls\",\"quidditch\",\"tone\",\"sounded\",\"horror\",\"somewhere\",\"tonight\",\"play\",\"secret\",\"murmured\",\"sneered\",\"cheek\",\"parchment\",\"worked\",\"hated\",\"brown\",\"slipped\",\"wizarding\",\"return\",\"clothes\",\"hey\",\"landed\",\"dolohov\",\"walls\",\"knocked\",\"changed\",\"growled\",\"escape\",\"added\",\"teddy\",\"telling\",\"raising\",\"leg\",\"spat\",\"silver\",\"directly\",\"disappeared\",\"tightly\",\"hide\",\"hot\",\"meet\",\"sir\",\"edge\",\"percy\",\"glasses\",\"low\",\"smirk\",\"emerald\",\"sit\",\"dementors\",\"unable\",\"flick\",\"movement\",\"soul\",\"longbottom\",\"finish\",\"choice\",\"catch\",\"fallen\",\"fucking\",\"shouting\",\"doors\",\"throwing\",\"written\",\"hoping\",\"dodged\",\"sky\",\"snarled\",\"forehead\",\"expected\",\"learn\",\"letter\",\"shocked\",\"hagrid\",\"library\",\"follow\",\"despite\",\"leaned\",\"working\",\"hiding\",\"means\",\"strange\",\"heavy\",\"pressed\",\"cup\",\"especially\",\"hour\",\"tongue\",\"grip\",\"wood\",\"dean\",\"wake\",\"ah\",\"avada\",\"bathroom\",\"shirt\",\"apparently\",\"round\",\"flicked\",\"warm\",\"arrived\",\"certainly\",\"points\",\"following\",\"whisper\",\"instantly\",\"certain\",\"god\",\"haired\",\"reading\",\"self\",\"bedroom\",\"student\",\"shrugged\",\"hexes\",\"learned\",\"thin\",\"charlie\",\"werewolf\",\"crack\",\"aunt\",\"beneath\",\"incantation\",\"bill\",\"neither\",\"loudly\",\"lit\",\"week\",\"note\",\"mirror\",\"ended\",\"faces\",\"takes\",\"spun\",\"wonder\",\"sometimes\",\"seems\",\"older\",\"stuck\",\"sharp\",\"finger\",\"enjoy\",\"footsteps\",\"trust\",\"wrapped\",\"months\",\"truly\",\"starting\",\"truth\",\"pair\",\"normal\",\"arthur\",\"lavender\",\"forever\",\"keeping\",\"goyle\",\"pieces\",\"join\",\"blonde\",\"crowd\",\"trouble\",\"paused\",\"slow\",\"grew\",\"sigh\",\"asleep\",\"caused\",\"tired\",\"write\",\"filthy\",\"clean\",\"lip\",\"flames\",\"stunned\",\"cheeks\",\"fired\",\"manor\",\"taught\",\"letting\",\"gotten\",\"azkaban\",\"begin\",\"send\",\"tower\",\"classroom\",\"beat\",\"wrist\",\"widened\",\"drawing\",\"ahead\",\"breaking\",\"situation\",\"desperately\",\"burning\",\"doubt\",\"wind\",\"dragon\",\"hidden\",\"al\",\"sounds\",\"comes\",\"wants\",\"strength\",\"pay\",\"relief\",\"rushed\",\"failed\",\"problem\",\"headed\",\"throw\",\"shout\",\"christmas\",\"faster\",\"attempt\",\"thrown\",\"apart\",\"fought\",\"game\",\"creature\",\"human\",\"counter\",\"scene\",\"beginning\",\"turns\",\"important\",\"unforgivable\",\"cover\",\"funny\",\"realised\",\"reaching\",\"earlier\",\"dementor\",\"mess\",\"pettigrew\",\"wave\",\"worst\",\"thick\",\"deal\",\"usual\",\"blocked\",\"listen\",\"wards\",\"frowned\",\"hoped\",\"handle\",\"panic\",\"daughter\"]]]}}},\"view\":{\"type\":\"object\",\"name\":\"CDSView\",\"id\":\"p1045\",\"attributes\":{\"filter\":{\"type\":\"object\",\"name\":\"AllIndices\",\"id\":\"p1046\"}}},\"glyph\":{\"type\":\"object\",\"name\":\"Scatter\",\"id\":\"p1041\",\"attributes\":{\"x\":{\"type\":\"field\",\"field\":\"x\"},\"y\":{\"type\":\"field\",\"field\":\"y\"},\"size\":{\"type\":\"value\",\"value\":10},\"line_color\":{\"type\":\"field\",\"field\":\"color\"},\"line_alpha\":{\"type\":\"value\",\"value\":0.25},\"fill_color\":{\"type\":\"field\",\"field\":\"color\"},\"fill_alpha\":{\"type\":\"value\",\"value\":0.25},\"hatch_color\":{\"type\":\"field\",\"field\":\"color\"},\"hatch_alpha\":{\"type\":\"value\",\"value\":0.25}}},\"nonselection_glyph\":{\"type\":\"object\",\"name\":\"Scatter\",\"id\":\"p1042\",\"attributes\":{\"x\":{\"type\":\"field\",\"field\":\"x\"},\"y\":{\"type\":\"field\",\"field\":\"y\"},\"size\":{\"type\":\"value\",\"value\":10},\"line_color\":{\"type\":\"field\",\"field\":\"color\"},\"line_alpha\":{\"type\":\"value\",\"value\":0.1},\"fill_color\":{\"type\":\"field\",\"field\":\"color\"},\"fill_alpha\":{\"type\":\"value\",\"value\":0.1},\"hatch_color\":{\"type\":\"field\",\"field\":\"color\"},\"hatch_alpha\":{\"type\":\"value\",\"value\":0.1}}},\"muted_glyph\":{\"type\":\"object\",\"name\":\"Scatter\",\"id\":\"p1043\",\"attributes\":{\"x\":{\"type\":\"field\",\"field\":\"x\"},\"y\":{\"type\":\"field\",\"field\":\"y\"},\"size\":{\"type\":\"value\",\"value\":10},\"line_color\":{\"type\":\"field\",\"field\":\"color\"},\"line_alpha\":{\"type\":\"value\",\"value\":0.2},\"fill_color\":{\"type\":\"field\",\"field\":\"color\"},\"fill_alpha\":{\"type\":\"value\",\"value\":0.2},\"hatch_color\":{\"type\":\"field\",\"field\":\"color\"},\"hatch_alpha\":{\"type\":\"value\",\"value\":0.2}}}}}],\"toolbar\":{\"type\":\"object\",\"name\":\"Toolbar\",\"id\":\"p1012\",\"attributes\":{\"tools\":[{\"type\":\"object\",\"name\":\"PanTool\",\"id\":\"p1025\"},{\"type\":\"object\",\"name\":\"WheelZoomTool\",\"id\":\"p1026\",\"attributes\":{\"renderers\":\"auto\"}},{\"type\":\"object\",\"name\":\"BoxZoomTool\",\"id\":\"p1027\",\"attributes\":{\"overlay\":{\"type\":\"object\",\"name\":\"BoxAnnotation\",\"id\":\"p1028\",\"attributes\":{\"syncable\":false,\"line_color\":\"black\",\"line_alpha\":1.0,\"line_width\":2,\"line_dash\":[4,4],\"fill_color\":\"lightgrey\",\"fill_alpha\":0.5,\"level\":\"overlay\",\"visible\":false,\"left\":{\"type\":\"number\",\"value\":\"nan\"},\"right\":{\"type\":\"number\",\"value\":\"nan\"},\"top\":{\"type\":\"number\",\"value\":\"nan\"},\"bottom\":{\"type\":\"number\",\"value\":\"nan\"},\"left_units\":\"canvas\",\"right_units\":\"canvas\",\"top_units\":\"canvas\",\"bottom_units\":\"canvas\",\"handles\":{\"type\":\"object\",\"name\":\"BoxInteractionHandles\",\"id\":\"p1034\",\"attributes\":{\"all\":{\"type\":\"object\",\"name\":\"AreaVisuals\",\"id\":\"p1033\",\"attributes\":{\"fill_color\":\"white\",\"hover_fill_color\":\"lightgray\"}}}}}}}},{\"type\":\"object\",\"name\":\"SaveTool\",\"id\":\"p1035\"},{\"type\":\"object\",\"name\":\"ResetTool\",\"id\":\"p1036\"},{\"type\":\"object\",\"name\":\"HelpTool\",\"id\":\"p1037\"},{\"type\":\"object\",\"name\":\"HoverTool\",\"id\":\"p1047\",\"attributes\":{\"renderers\":\"auto\",\"tooltips\":[[\"token\",\"@token\"]]}}],\"active_scroll\":{\"id\":\"p1026\"}}},\"left\":[{\"type\":\"object\",\"name\":\"LinearAxis\",\"id\":\"p1020\",\"attributes\":{\"ticker\":{\"type\":\"object\",\"name\":\"BasicTicker\",\"id\":\"p1021\",\"attributes\":{\"mantissas\":[1,2,5]}},\"formatter\":{\"type\":\"object\",\"name\":\"BasicTickFormatter\",\"id\":\"p1022\"},\"major_label_policy\":{\"type\":\"object\",\"name\":\"AllLabels\",\"id\":\"p1023\"}}}],\"below\":[{\"type\":\"object\",\"name\":\"LinearAxis\",\"id\":\"p1015\",\"attributes\":{\"ticker\":{\"type\":\"object\",\"name\":\"BasicTicker\",\"id\":\"p1016\",\"attributes\":{\"mantissas\":[1,2,5]}},\"formatter\":{\"type\":\"object\",\"name\":\"BasicTickFormatter\",\"id\":\"p1017\"},\"major_label_policy\":{\"type\":\"object\",\"name\":\"AllLabels\",\"id\":\"p1018\"}}}],\"center\":[{\"type\":\"object\",\"name\":\"Grid\",\"id\":\"p1019\",\"attributes\":{\"axis\":{\"id\":\"p1015\"}}},{\"type\":\"object\",\"name\":\"Grid\",\"id\":\"p1024\",\"attributes\":{\"dimension\":1,\"axis\":{\"id\":\"p1020\"}}}]}}]}};\n",
       "  const render_items = [{\"docid\":\"5b4a7f3e-4455-4f07-bc83-a4065c9a04cb\",\"roots\":{\"p1004\":\"ff8f5dff-7a1f-4a2d-95fc-110c4c15bef2\"},\"root_ids\":[\"p1004\"]}];\n",
       "  void root.Bokeh.embed.embed_items_notebook(docs_json, render_items);\n",
       "  }\n",
       "  if (root.Bokeh !== undefined) {\n",
       "    embed_document(root);\n",
       "  } else {\n",
       "    let attempts = 0;\n",
       "    const timer = setInterval(function(root) {\n",
       "      if (root.Bokeh !== undefined) {\n",
       "        clearInterval(timer);\n",
       "        embed_document(root);\n",
       "      } else {\n",
       "        attempts++;\n",
       "        if (attempts > 100) {\n",
       "          clearInterval(timer);\n",
       "          console.log(\"Bokeh: ERROR: Unable to run BokehJS code because BokehJS library is missing\");\n",
       "        }\n",
       "      }\n",
       "    }, 10, root)\n",
       "  }\n",
       "})(window);"
      ],
      "application/vnd.bokehjs_exec.v0+json": ""
     },
     "metadata": {
      "application/vnd.bokehjs_exec.v0+json": {
       "id": "p1004"
      }
     },
     "output_type": "display_data"
    }
   ],
   "source": [
    "draw_vectors(word_tsne[:, 0], word_tsne[:, 1], color='pink', token=words);"
   ]
  },
  {
   "attachments": {
    "11e6cb6e-c518-49df-891e-bd0ffc30c0bf.png": {
     "image/png": "[encoded data removed]"
    }
   },
   "cell_type": "markdown",
   "metadata": {},
   "source": [
    "получили например кластер векторов для измерения времени, неплохо\n",
    "\n",
    "![image.png](attachment:11e6cb6e-c518-49df-891e-bd0ffc30c0bf.png)"
   ]
  },
  {
   "attachments": {
    "4a1032f4-a15a-4f8e-a16b-864f0166a4a8.png": {
     "image/png": "[encoded data removed]"
    },
    "7eda609f-5254-4786-81fb-f522c3331e69.png": {
     "image/png": "[encoded data removed]"
    }
   },
   "cell_type": "markdown",
   "metadata": {},
   "source": [
    "или вот, уголочек Володи\n",
    "\n",
    "![image.png](attachment:4a1032f4-a15a-4f8e-a16b-864f0166a4a8.png)\n",
    "\n",
    "\n",
    "или вот, кластер коммуникаций \n",
    "\n",
    "![image.png](attachment:7eda609f-5254-4786-81fb-f522c3331e69.png)"
   ]
  },
  {
   "cell_type": "markdown",
   "metadata": {},
   "source": [
    "# Часть 3. [6.5 баллов] Классификация текстов\n",
    "Задача классификации формулируется так: данный фрагмент фанфика описывают какую-то ситуацию, которая предшествует произнесению заклинания. Требуется по тексту предсказать, какое именно заклинание будет произнесено. Таким образом, заклинание - это фактически метка класса. Основная мера качества – macro $F_1$.\n",
    "Обучите несколько классификаторов и сравните их между собой. Оцените качество классификаторов на частых и редких классах. Какие классы чаще всего оказываются перепутаны? Связаны ли ошибки со смыслом заклинаний?\n",
    "\n",
    "Используйте фрагменты из множества train для обучения, из множества dev для отладки, из множества test – для тестирования и получения итоговых результатов. \n",
    "\n",
    "<!-- 1. [1 балл] Используйте fastText в качестве baseline-классификатора. -->\n",
    "<!-- 2. [2 балла] Используйте сверточные сети в качестве более продвинутого классификатора. Поэкспериментируйте с количеством и размерностью фильтров, используйте разные размеры окон, попробуйте использовать $k$-max pooling. -->\n",
    "<!-- 3. [2 балла] Используйте рекуррентные сети в качестве альтернативного продвинутого классификатора. Поэкспериментируйте с количеством и размерностью слоев и другими гиперпараметрами.  -->\n",
    "\n",
    "[бонус] Используйте результат max pooling'а как эмбеддинг входного текста. Визуализируйте эмбеддинги 500-1000 предложений из обучающего множества и изучите свойства получившегося пространства.\n",
    "\n",
    "[бонус] Используйте ваш любимый классификатор и любые (честные) способы повышения качества классификации и получите macro $F_1$ больше 0.5."
   ]
  },
  {
   "cell_type": "markdown",
   "metadata": {},
   "source": [
    "## 1. FastText"
   ]
  },
  {
   "cell_type": "code",
   "execution_count": 515,
   "metadata": {},
   "outputs": [],
   "source": [
    "df[3] = [' '.join(i).lower() for i in data_tok]"
   ]
  },
  {
   "cell_type": "code",
   "execution_count": 516,
   "metadata": {},
   "outputs": [],
   "source": [
    "spells = sorted(df.query(\"sample == 'train'\")[1].unique())\n",
    "\n",
    "class_dict = {i: j for i, j in enumerate(spells)}\n",
    "class_dict_reverse = {j: i for i, j in enumerate(spells)}"
   ]
  },
  {
   "cell_type": "code",
   "execution_count": 517,
   "metadata": {},
   "outputs": [],
   "source": [
    "df['class'] = df[1].map(class_dict_reverse)"
   ]
  },
  {
   "cell_type": "code",
   "execution_count": 559,
   "metadata": {},
   "outputs": [],
   "source": [
    "def prep_sample(df, sample_name, path='./data'):\n",
    "    assert sample_name in ('train', 'test', 'dev'), 'wrong sample name'\n",
    "\n",
    "    sample = (\n",
    "        df\n",
    "        .query(\"sample == @sample_name\")\n",
    "        # .drop(columns=['sample', 1, 0, 2])\n",
    "        .rename(columns={3: 'text'})\n",
    "        .query(\"text.str.len() > 1\")\n",
    "        [['class', 'text']]\n",
    "    )\n",
    "\n",
    "    return sample"
   ]
  },
  {
   "cell_type": "code",
   "execution_count": 560,
   "metadata": {},
   "outputs": [],
   "source": [
    "def write_sample_to_txt(\n",
    "    df,\n",
    "    sample_name,\n",
    "    path='./data',\n",
    "    text_col_name='text',\n",
    "    class_col_name='class'\n",
    "):\n",
    "    if not os.path.exists(path):\n",
    "        os.makedirs(path)\n",
    "\n",
    "    file_path = os.path.join(path, f'{sample_name}.txt')\n",
    "    \n",
    "    with open(file_path, 'w') as f:\n",
    "        for text, label in zip(df[text_col_name], df[class_col_name]):\n",
    "            f.writelines(f'__label__{label} {text}\\n')\n",
    "\n",
    "    print(file_path, \"written\")"
   ]
  },
  {
   "cell_type": "code",
   "execution_count": 561,
   "metadata": {},
   "outputs": [
    {
     "name": "stdout",
     "output_type": "stream",
     "text": [
      "./data/train.txt written\n",
      "./data/test.txt written\n",
      "./data/dev.txt written\n"
     ]
    }
   ],
   "source": [
    "for s_name in ('train', 'test', 'dev'):\n",
    "    \n",
    "    sample = prep_sample(df, s_name)\n",
    "\n",
    "    if not os.path.exists('./csv_data'):\n",
    "        os.makedirs('./csv_data')\n",
    "        \n",
    "    sample.to_csv(f'./csv_data/{s_name}.csv', index=False)\n",
    "\n",
    "    write_sample_to_txt(sample, s_name)"
   ]
  },
  {
   "cell_type": "code",
   "execution_count": 564,
   "metadata": {},
   "outputs": [],
   "source": [
    "pd_train = pd.read_csv('./csv_data/train.csv')\n",
    "pd_test = pd.read_csv('./csv_data/test.csv')\n",
    "pd_dev = pd.read_csv('./csv_data/dev.csv')"
   ]
  },
  {
   "cell_type": "code",
   "execution_count": 563,
   "metadata": {},
   "outputs": [
    {
     "name": "stdout",
     "output_type": "stream",
     "text": [
      "__label__80 eyes wide full apologies n yet said probably would n ever say tried touch arm consolation done slapped away hermione n mean said n speak louder whisper voice still pounded head could almost feel angry tears splash fist turned jerk worst part look face worried nervous freaked either way made want\n",
      "__label__11 picking power bones forefathers squabbling one another scraps power never lord true power n know classify look dark lord face anyone else would thought touched brushed cheek ends fingers show said value power blood show strength might admire bellatrix pressed tip wand right sternum feeling clearly robes\n",
      "__label__0 last time lily seen black hair electric blue hair wore square black glasses heavily outlined pierced lip american nice hair said lily die week ago aimie answered mom pissed ca n imagine sires exclaimed aimie slapped back head shut nope sires grabbed hat wearing head ran aimie rolled eyes took wand\n"
     ]
    }
   ],
   "source": [
    "!head -n 3 ./data/test.txt"
   ]
  },
  {
   "cell_type": "code",
   "execution_count": 412,
   "metadata": {},
   "outputs": [],
   "source": [
    "# del data_tok, df # чистим оперативу\n",
    "# del training, test, dev"
   ]
  },
  {
   "cell_type": "code",
   "execution_count": 448,
   "metadata": {},
   "outputs": [],
   "source": [
    "train_file = './data/train.txt'\n",
    "test_file = './data/test.txt'"
   ]
  },
  {
   "cell_type": "code",
   "execution_count": 521,
   "metadata": {},
   "outputs": [
    {
     "name": "stderr",
     "output_type": "stream",
     "text": [
      "Read 3M words\n",
      "Number of words:  48533\n",
      "Number of labels: 85\n",
      "Progress: 100.0% words/sec/thread: 2650312 lr:  0.000000 avg.loss:  4.054260 ETA:   0h 0m 0s\n"
     ]
    }
   ],
   "source": [
    "from fasttext import train_supervised \n",
    "\"\"\"fastText expects and training file (csv), a model name as input arguments.\n",
    "label_prefix refers to the prefix before label string in the dataset.\n",
    "default is __label__. In our dataset, it is __class__. \n",
    "\"\"\"\n",
    "ft_model = train_supervised(\n",
    "    input=train_file,\n",
    "    label=\"__label__\",\n",
    "    lr=1.0,\n",
    "    epoch=70,\n",
    "    loss='ova',\n",
    "    wordNgrams=2,\n",
    "    dim=100,\n",
    "    thread=2,\n",
    "    verbose=100\n",
    ")"
   ]
  },
  {
   "cell_type": "code",
   "execution_count": 597,
   "metadata": {},
   "outputs": [],
   "source": [
    "def fastext_predict(model, pred_text: list):\n",
    "    ft_predictions = [model.predict(i) for i in pred_text]\n",
    "    return [int(i[0][0].replace('__label__', '')) for i in ft_predictions]"
   ]
  },
  {
   "cell_type": "code",
   "execution_count": 607,
   "metadata": {},
   "outputs": [
    {
     "name": "stdout",
     "output_type": "stream",
     "text": [
      "FastText macro F1: 0.141\n"
     ]
    }
   ],
   "source": [
    "# предсказания\n",
    "ft_predictions_int = fastext_predict(ft_model, pd_test['text'].to_list())\n",
    "\n",
    "# правильные метки\n",
    "true_labels = pd_test['class'].to_list()\n",
    "\n",
    "from sklearn.metrics import f1_score\n",
    "\n",
    "# Расчитаем метрику macro F1  \n",
    "macro_f1 = f1_score(true_labels, ft_predictions_int, average='macro')  \n",
    "print('FastText macro F1:', round(macro_f1, 3))  "
   ]
  },
  {
   "cell_type": "code",
   "execution_count": 595,
   "metadata": {},
   "outputs": [
    {
     "data": {
      "text/plain": [
       "27"
      ]
     },
     "execution_count": 595,
     "metadata": {},
     "output_type": "execute_result"
    }
   ],
   "source": [
    "import itertools  \n",
    "  \n",
    "param_grid = {  \n",
    "    'lr': [0.2, 0.5, 1.0],  \n",
    "    'epoch': [50],  \n",
    "    'wordNgrams': [1, 2, 3],  \n",
    "    'dim': [50, 100, 200],  \n",
    "    'thread': [2]  \n",
    "}  \n",
    "  \n",
    "# Используем itertools.product для создания сетки  \n",
    "grid = list(itertools.product(*param_grid.values()))  \n",
    "  \n",
    "# Преобразуем сетку в список словарей  \n",
    "grid = [{'lr': lr, 'epoch': ep, 'wordNgrams': wn, 'dim': d, 'thread': t}  \n",
    "        for lr, ep, wn, d, t in grid]  \n",
    "  \n",
    "len(grid)"
   ]
  },
  {
   "cell_type": "code",
   "execution_count": 575,
   "metadata": {},
   "outputs": [
    {
     "data": {
      "text/plain": [
       "7672"
      ]
     },
     "execution_count": 575,
     "metadata": {},
     "output_type": "execute_result"
    }
   ],
   "source": [
    "true_labels = pd_test['class'].to_list()\n",
    "\n",
    "len(true_labels)"
   ]
  },
  {
   "cell_type": "code",
   "execution_count": 578,
   "metadata": {},
   "outputs": [
    {
     "name": "stdout",
     "output_type": "stream",
     "text": [
      "FastText macro F1: 0.14086978842880496\n"
     ]
    }
   ],
   "source": [
    "from sklearn.metrics import f1_score\n",
    "\n",
    "# Расчитать метрику macro F1  \n",
    "macro_f1 = f1_score(true_labels, ft_predictions_int, average='macro')  \n",
    "print('FastText macro F1:', macro_f1)  "
   ]
  },
  {
   "cell_type": "markdown",
   "metadata": {},
   "source": [
    "Так, что ж\n",
    "\n",
    "Метрика не 0, и это уже успех. \n",
    "\n",
    "Попробуем немного подвигать параметры:"
   ]
  },
  {
   "cell_type": "code",
   "execution_count": 614,
   "metadata": {
    "collapsed": true,
    "jupyter": {
     "outputs_hidden": true
    }
   },
   "outputs": [
    {
     "name": "stderr",
     "output_type": "stream",
     "text": [
      "/var/folders/yh/4jky_nln065c8nrzc6phgjjdt0k6bs/T/ipykernel_69006/1403518944.py:5: TqdmDeprecationWarning: This function will be removed in tqdm==5.0.0\n",
      "Please use `tqdm.notebook.tqdm` instead of `tqdm.tqdm_notebook`\n",
      "  for i, params in tqdm_notebook(enumerate(grid)):\n"
     ]
    },
    {
     "data": {
      "application/vnd.jupyter.widget-view+json": {
       "model_id": "924c380cb289437ca9c3bbb71f647ad1",
       "version_major": 2,
       "version_minor": 0
      },
      "text/plain": [
       "0it [00:00, ?it/s]"
      ]
     },
     "metadata": {},
     "output_type": "display_data"
    },
    {
     "name": "stderr",
     "output_type": "stream",
     "text": [
      "Read 3M words\n",
      "Number of words:  48533\n",
      "Number of labels: 85\n",
      "Progress: 100.0% words/sec/thread: 7290770 lr:  0.000000 avg.loss:  1.731616 ETA:   0h 0m 0s\n",
      "Read 2M words"
     ]
    },
    {
     "name": "stdout",
     "output_type": "stream",
     "text": [
      "iter: 0 f1: 0.13901749127518273\n"
     ]
    },
    {
     "name": "stderr",
     "output_type": "stream",
     "text": [
      "Read 3M words\n",
      "Number of words:  48533\n",
      "Number of labels: 85\n",
      "Progress: 100.0% words/sec/thread: 3818889 lr:  0.000000 avg.loss:  1.736874 ETA:   0h 0m 0s\n",
      "Read 2M words"
     ]
    },
    {
     "name": "stdout",
     "output_type": "stream",
     "text": [
      "iter: 1 f1: 0.13991459605651566\n"
     ]
    },
    {
     "name": "stderr",
     "output_type": "stream",
     "text": [
      "Read 3M words\n",
      "Number of words:  48533\n",
      "Number of labels: 85\n",
      "Progress: 100.0% words/sec/thread: 2105486 lr:  0.000000 avg.loss:  1.740054 ETA:   0h 0m 0s\n",
      "Read 1M words"
     ]
    },
    {
     "name": "stdout",
     "output_type": "stream",
     "text": [
      "iter: 2 f1: 0.13899385639070705\n"
     ]
    },
    {
     "name": "stderr",
     "output_type": "stream",
     "text": [
      "Read 3M words\n",
      "Number of words:  48533\n",
      "Number of labels: 85\n",
      "Progress: 100.0% words/sec/thread: 4726849 lr:  0.000000 avg.loss:  0.967128 ETA:   0h 0m 0s\n"
     ]
    },
    {
     "name": "stdout",
     "output_type": "stream",
     "text": [
      "iter: 3 f1: 0.149576719610114\n"
     ]
    },
    {
     "name": "stderr",
     "output_type": "stream",
     "text": [
      "Read 3M words\n",
      "Number of words:  48533\n",
      "Number of labels: 85\n",
      "Progress: 100.0% words/sec/thread: 2613656 lr:  0.000000 avg.loss:  0.982106 ETA:   0h 0m 0s\n"
     ]
    },
    {
     "name": "stdout",
     "output_type": "stream",
     "text": [
      "iter: 4 f1: 0.1474057806654217\n"
     ]
    },
    {
     "name": "stderr",
     "output_type": "stream",
     "text": [
      "Read 3M words\n",
      "Number of words:  48533\n",
      "Number of labels: 85\n",
      "Progress: 100.0% words/sec/thread: 1455803 lr:  0.000000 avg.loss:  0.996176 ETA:   0h 0m 0s\n"
     ]
    },
    {
     "name": "stdout",
     "output_type": "stream",
     "text": [
      "iter: 5 f1: 0.14574783517710543\n"
     ]
    },
    {
     "name": "stderr",
     "output_type": "stream",
     "text": [
      "Read 3M words\n",
      "Number of words:  48533\n",
      "Number of labels: 85\n",
      "Progress: 100.0% words/sec/thread: 3309886 lr:  0.000000 avg.loss:  1.113314 ETA:   0h 0m 0s\n"
     ]
    },
    {
     "name": "stdout",
     "output_type": "stream",
     "text": [
      "iter: 6 f1: 0.14205144382283888\n"
     ]
    },
    {
     "name": "stderr",
     "output_type": "stream",
     "text": [
      "Read 3M words\n",
      "Number of words:  48533\n",
      "Number of labels: 85\n",
      "Progress: 100.0% words/sec/thread: 2002093 lr:  0.000000 avg.loss:  1.138869 ETA:   0h 0m 0s\n"
     ]
    },
    {
     "name": "stdout",
     "output_type": "stream",
     "text": [
      "iter: 7 f1: 0.14369782357867308\n"
     ]
    },
    {
     "name": "stderr",
     "output_type": "stream",
     "text": [
      "Read 3M words\n",
      "Number of words:  48533\n",
      "Number of labels: 85\n",
      "Progress: 100.0% words/sec/thread: 1115893 lr:  0.000000 avg.loss:  1.156302 ETA:   0h 0m 0s\n"
     ]
    },
    {
     "name": "stdout",
     "output_type": "stream",
     "text": [
      "iter: 8 f1: 0.1436099422952543\n"
     ]
    },
    {
     "name": "stderr",
     "output_type": "stream",
     "text": [
      "Read 3M words\n",
      "Number of words:  48533\n",
      "Number of labels: 85\n",
      "Progress: 100.0% words/sec/thread: 8103303 lr:  0.000000 avg.loss:  1.045209 ETA:   0h 0m 0s\n"
     ]
    },
    {
     "name": "stdout",
     "output_type": "stream",
     "text": [
      "iter: 9 f1: 0.1435223720836213\n"
     ]
    },
    {
     "name": "stderr",
     "output_type": "stream",
     "text": [
      "Read 3M words\n",
      "Number of words:  48533\n",
      "Number of labels: 85\n",
      "Progress: 100.0% words/sec/thread: 3734187 lr:  0.000000 avg.loss:  1.423368 ETA:   0h 0m 0s\n",
      "Read 2M words"
     ]
    },
    {
     "name": "stdout",
     "output_type": "stream",
     "text": [
      "iter: 10 f1: 0.14682123599413274\n"
     ]
    },
    {
     "name": "stderr",
     "output_type": "stream",
     "text": [
      "Read 3M words\n",
      "Number of words:  48533\n",
      "Number of labels: 85\n",
      "Progress: 100.0% words/sec/thread: 2238173 lr:  0.000000 avg.loss:  1.360778 ETA:   0h 0m 0s\n"
     ]
    },
    {
     "name": "stdout",
     "output_type": "stream",
     "text": [
      "iter: 11 f1: 0.14301420672021092\n"
     ]
    },
    {
     "name": "stderr",
     "output_type": "stream",
     "text": [
      "Read 3M words\n",
      "Number of words:  48533\n",
      "Number of labels: 85\n",
      "Progress: 100.0% words/sec/thread: 4847232 lr:  0.000000 avg.loss:  0.544540 ETA:   0h 0m 0s\n"
     ]
    },
    {
     "name": "stdout",
     "output_type": "stream",
     "text": [
      "iter: 12 f1: 0.16637902262449633\n"
     ]
    },
    {
     "name": "stderr",
     "output_type": "stream",
     "text": [
      "Read 3M words\n",
      "Number of words:  48533\n",
      "Number of labels: 85\n",
      "Progress: 100.0% words/sec/thread: 2647884 lr:  0.000000 avg.loss:  0.553903 ETA:   0h 0m 0s\n"
     ]
    },
    {
     "name": "stdout",
     "output_type": "stream",
     "text": [
      "iter: 13 f1: 0.16411682515006557\n"
     ]
    },
    {
     "name": "stderr",
     "output_type": "stream",
     "text": [
      "Read 3M words\n",
      "Number of words:  48533\n",
      "Number of labels: 85\n",
      "Progress: 100.0% words/sec/thread: 1468571 lr:  0.000000 avg.loss:  0.560690 ETA:   0h 0m 0s\n"
     ]
    },
    {
     "name": "stdout",
     "output_type": "stream",
     "text": [
      "iter: 14 f1: 0.1619600643381096\n"
     ]
    },
    {
     "name": "stderr",
     "output_type": "stream",
     "text": [
      "Read 3M words\n",
      "Number of words:  48533\n",
      "Number of labels: 85\n",
      "Progress: 100.0% words/sec/thread: 3410372 lr:  0.000000 avg.loss:  0.557451 ETA:   0h 0m 0s\n"
     ]
    },
    {
     "name": "stdout",
     "output_type": "stream",
     "text": [
      "iter: 15 f1: 0.16571361552910838\n"
     ]
    },
    {
     "name": "stderr",
     "output_type": "stream",
     "text": [
      "Read 3M words\n",
      "Number of words:  48533\n",
      "Number of labels: 85\n",
      "Progress: 100.0% words/sec/thread: 2026607 lr:  0.000000 avg.loss:  0.570642 ETA:   0h 0m 0s\n"
     ]
    },
    {
     "name": "stdout",
     "output_type": "stream",
     "text": [
      "iter: 16 f1: 0.16625950698495826\n"
     ]
    },
    {
     "name": "stderr",
     "output_type": "stream",
     "text": [
      "Read 3M words\n",
      "Number of words:  48533\n",
      "Number of labels: 85\n",
      "Progress: 100.0% words/sec/thread: 1145203 lr:  0.000000 avg.loss:  0.579630 ETA:   0h 0m 0s\n"
     ]
    },
    {
     "name": "stdout",
     "output_type": "stream",
     "text": [
      "iter: 17 f1: 0.16779031530025476\n"
     ]
    },
    {
     "name": "stderr",
     "output_type": "stream",
     "text": [
      "Read 3M words\n",
      "Number of words:  48533\n",
      "Number of labels: 85\n",
      "Progress: 100.0% words/sec/thread: 8023362 lr:  0.000000 avg.loss:  1.656839 ETA:   0h 0m 0s\n",
      "Read 2M words"
     ]
    },
    {
     "name": "stdout",
     "output_type": "stream",
     "text": [
      "iter: 18 f1: 0.11949434705611073\n"
     ]
    },
    {
     "name": "stderr",
     "output_type": "stream",
     "text": [
      "Read 3M words\n",
      "Number of words:  48533\n",
      "Number of labels: 85\n",
      "Progress: 100.0% words/sec/thread: 4113812 lr:  0.000000 avg.loss:  1.932644 ETA:   0h 0m 0s\n"
     ]
    },
    {
     "name": "stdout",
     "output_type": "stream",
     "text": [
      "iter: 19 f1: 0.13511219721008882\n"
     ]
    },
    {
     "name": "stderr",
     "output_type": "stream",
     "text": [
      "Read 3M words\n",
      "Number of words:  48533\n",
      "Number of labels: 85\n",
      "Progress: 100.0% words/sec/thread: 2301778 lr:  0.000000 avg.loss:  1.770451 ETA:   0h 0m 0s\n",
      "Read 1M words"
     ]
    },
    {
     "name": "stdout",
     "output_type": "stream",
     "text": [
      "iter: 20 f1: 0.13373464186018338\n"
     ]
    },
    {
     "name": "stderr",
     "output_type": "stream",
     "text": [
      "Read 3M words\n",
      "Number of words:  48533\n",
      "Number of labels: 85\n",
      "Progress: 100.0% words/sec/thread: 5125605 lr:  0.000000 avg.loss:  0.475988 ETA:   0h 0m 0s\n",
      "Read 2M words"
     ]
    },
    {
     "name": "stdout",
     "output_type": "stream",
     "text": [
      "iter: 21 f1: 0.15772490535813818\n"
     ]
    },
    {
     "name": "stderr",
     "output_type": "stream",
     "text": [
      "Read 3M words\n",
      "Number of words:  48533\n",
      "Number of labels: 85\n",
      "Progress: 100.0% words/sec/thread: 2769298 lr:  0.000000 avg.loss:  0.757293 ETA:   0h 0m 0s\n"
     ]
    },
    {
     "name": "stdout",
     "output_type": "stream",
     "text": [
      "iter: 22 f1: 0.15318274311483912\n"
     ]
    },
    {
     "name": "stderr",
     "output_type": "stream",
     "text": [
      "Read 3M words\n",
      "Number of words:  48533\n",
      "Number of labels: 85\n",
      "Progress: 100.0% words/sec/thread: 1529749 lr:  0.000000 avg.loss:  0.676020 ETA:   0h 0m 0s\n"
     ]
    },
    {
     "name": "stdout",
     "output_type": "stream",
     "text": [
      "iter: 23 f1: 0.15987042302797383\n"
     ]
    },
    {
     "name": "stderr",
     "output_type": "stream",
     "text": [
      "Read 3M words\n",
      "Number of words:  48533\n",
      "Number of labels: 85\n",
      "Progress: 100.0% words/sec/thread: 3505039 lr:  0.000000 avg.loss:  0.445627 ETA:   0h 0m 0s\n"
     ]
    },
    {
     "name": "stdout",
     "output_type": "stream",
     "text": [
      "iter: 24 f1: 0.16488167123541467\n"
     ]
    },
    {
     "name": "stderr",
     "output_type": "stream",
     "text": [
      "Read 3M words\n",
      "Number of words:  48533\n",
      "Number of labels: 85\n",
      "Progress: 100.0% words/sec/thread: 2047722 lr:  0.000000 avg.loss:  0.480206 ETA:   0h 0m 0s\n"
     ]
    },
    {
     "name": "stdout",
     "output_type": "stream",
     "text": [
      "iter: 25 f1: 0.1617558956858159\n"
     ]
    },
    {
     "name": "stderr",
     "output_type": "stream",
     "text": [
      "Read 3M words\n",
      "Number of words:  48533\n",
      "Number of labels: 85\n",
      "Progress: 100.0% words/sec/thread: 1135600 lr:  0.000000 avg.loss:  0.457233 ETA:   0h 0m 0s\n"
     ]
    },
    {
     "name": "stdout",
     "output_type": "stream",
     "text": [
      "iter: 26 f1: 0.16276767744664186\n"
     ]
    }
   ],
   "source": [
    "results = {}\n",
    "\n",
    "true_labels_val = pd_dev['class'].to_list()\n",
    "\n",
    "for i, params in tqdm_notebook(enumerate(grid)):\n",
    "\n",
    "    ft_model_val = train_supervised(\n",
    "        input=train_file,\n",
    "        label=\"__label__\",\n",
    "        loss='ova',\n",
    "        verbose=100,\n",
    "        **params\n",
    "    )\n",
    "\n",
    "    ft_predictions_int_val = fastext_predict(ft_model_val, pd_dev['text'].to_list())\n",
    "    macro_f1_val = f1_score(true_labels_val, ft_predictions_int_val, average='macro')\n",
    "\n",
    "    results[i] = macro_f1_val\n",
    "    \n",
    "    print('iter:', i, 'f1:', macro_f1_val)"
   ]
  },
  {
   "cell_type": "code",
   "execution_count": 629,
   "metadata": {},
   "outputs": [
    {
     "data": {
      "text/plain": [
       "{'lr': 0.5, 'epoch': 50, 'wordNgrams': 3, 'dim': 200, 'thread': 2}"
      ]
     },
     "execution_count": 629,
     "metadata": {},
     "output_type": "execute_result"
    }
   ],
   "source": [
    "grid[sorted(list(results.items()), key=lambda x: x[1])[-1][0]]"
   ]
  },
  {
   "cell_type": "code",
   "execution_count": 626,
   "metadata": {},
   "outputs": [],
   "source": [
    "best_params = {'lr': 0.5, 'epoch': 100, 'wordNgrams': 3, 'dim': 200, 'thread': 2}"
   ]
  },
  {
   "cell_type": "code",
   "execution_count": 628,
   "metadata": {},
   "outputs": [
    {
     "name": "stderr",
     "output_type": "stream",
     "text": [
      "Read 3M words\n",
      "Number of words:  48533\n",
      "Number of labels: 85\n",
      "Progress: 100.0% words/sec/thread: 1117536 lr:  0.000000 avg.loss:  0.302738 ETA:   0h 0m 0s\n"
     ]
    }
   ],
   "source": [
    "ft_model_final = train_supervised(\n",
    "    input=train_file,\n",
    "    label=\"__label__\",\n",
    "    loss='ova',\n",
    "    verbose=100,\n",
    "    **best_params\n",
    ")"
   ]
  },
  {
   "cell_type": "code",
   "execution_count": 635,
   "metadata": {},
   "outputs": [],
   "source": [
    "ft_model_final.save_model('fasttext_model_final.bin')"
   ]
  },
  {
   "cell_type": "code",
   "execution_count": 637,
   "metadata": {},
   "outputs": [
    {
     "name": "stdout",
     "output_type": "stream",
     "text": [
      "FastText macro F1: 0.174\n"
     ]
    }
   ],
   "source": [
    "ft_model_final = fasttext.load_model('fasttext_model_final.bin')\n",
    "\n",
    "macro_f1 = f1_score(true_labels,\n",
    "                    fastext_predict(ft_model_final, pd_test['text'].to_list()),\n",
    "                    average='macro')  \n",
    "\n",
    "print('FastText macro F1:', round(macro_f1, 3))  "
   ]
  },
  {
   "cell_type": "markdown",
   "metadata": {},
   "source": [
    "## Подготовка для NN"
   ]
  },
  {
   "cell_type": "code",
   "execution_count": 5,
   "metadata": {
    "execution": {
     "iopub.execute_input": "2024-10-29T12:12:26.512982Z",
     "iopub.status.busy": "2024-10-29T12:12:26.512072Z",
     "iopub.status.idle": "2024-10-29T12:12:26.558880Z",
     "shell.execute_reply": "2024-10-29T12:12:26.557749Z",
     "shell.execute_reply.started": "2024-10-29T12:12:26.512947Z"
    },
    "tags": []
   },
   "outputs": [
    {
     "name": "stdout",
     "output_type": "stream",
     "text": [
      "Using device: cuda\n"
     ]
    }
   ],
   "source": [
    "import pandas as pd\n",
    "import numpy as np\n",
    "import torch\n",
    "import torch.nn as nn\n",
    "import torch.optim as optim\n",
    "from torch.utils.data import Dataset, DataLoader\n",
    "import torch.nn.functional as F\n",
    "import random\n",
    "from collections import Counter\n",
    "\n",
    "from sklearn.metrics import f1_score\n",
    "\n",
    "def set_seed(seed_value=42):\n",
    "    random.seed(seed_value)\n",
    "    np.random.seed(seed_value)\n",
    "    torch.manual_seed(seed_value)\n",
    "    torch.cuda.manual_seed_all(seed_value)\n",
    "    \n",
    "device = torch.device(\"cuda\" if torch.cuda.is_available() else \"cpu\")\n",
    "print(f\"Using device: {device}\")\n",
    "\n",
    "set_seed(42)"
   ]
  },
  {
   "cell_type": "code",
   "execution_count": 22,
   "metadata": {
    "tags": []
   },
   "outputs": [],
   "source": [
    "pd_train = pd.read_csv('./csv_data/train.csv')\n",
    "pd_test = pd.read_csv('./csv_data/test.csv')\n",
    "pd_dev = pd.read_csv('./csv_data/dev.csv')"
   ]
  },
  {
   "cell_type": "code",
   "execution_count": 3,
   "metadata": {
    "execution": {
     "iopub.execute_input": "2024-10-29T12:12:05.915581Z",
     "iopub.status.busy": "2024-10-29T12:12:05.912323Z",
     "iopub.status.idle": "2024-10-29T12:12:05.998967Z",
     "shell.execute_reply": "2024-10-29T12:12:05.997677Z",
     "shell.execute_reply.started": "2024-10-29T12:12:05.915517Z"
    },
    "tags": []
   },
   "outputs": [],
   "source": [
    "spells = sorted(pd_train['class'].unique())\n",
    "\n",
    "class_dict = {i: j for i, j in enumerate(spells)}\n",
    "class_dict_reverse = {j: i for i, j in enumerate(spells)}"
   ]
  },
  {
   "cell_type": "code",
   "execution_count": 25,
   "metadata": {
    "tags": []
   },
   "outputs": [
    {
     "data": {
      "text/plain": [
       "85"
      ]
     },
     "execution_count": 25,
     "metadata": {},
     "output_type": "execute_result"
    }
   ],
   "source": [
    "len(class_dict)"
   ]
  },
  {
   "cell_type": "markdown",
   "metadata": {},
   "source": [
    "1) сначала мы делаем словарь для токенов (добавляя туда unk и pad)\n",
    "\n",
    "как делали на семинаре, сначала пофильтруем еще редкие токены"
   ]
  },
  {
   "cell_type": "code",
   "execution_count": 6,
   "metadata": {
    "execution": {
     "iopub.execute_input": "2024-10-29T12:12:30.149764Z",
     "iopub.status.busy": "2024-10-29T12:12:30.148305Z",
     "iopub.status.idle": "2024-10-29T12:12:31.173339Z",
     "shell.execute_reply": "2024-10-29T12:12:31.172054Z",
     "shell.execute_reply.started": "2024-10-29T12:12:30.149720Z"
    },
    "tags": []
   },
   "outputs": [
    {
     "name": "stdout",
     "output_type": "stream",
     "text": [
      "len(tokens): 20505\n"
     ]
    }
   ],
   "source": [
    "train_tokens_count = Counter(' '.join(pd_train['text'].to_list()).split(' '))\n",
    "\n",
    "min_count = 5\n",
    "\n",
    "tokens = sorted(t for t, c in train_tokens_count.items() if c >= min_count)\n",
    "\n",
    "# Add a special tokens for unknown and empty words\n",
    "UNK, PAD = \"UNK\", \"PAD\"\n",
    "tokens = [UNK, PAD] + tokens\n",
    "\n",
    "print(\"len(tokens):\", len(tokens))\n",
    "\n",
    "### наш словарик\n",
    "token_to_id = {k:i for i, k in enumerate(tokens)}"
   ]
  },
  {
   "cell_type": "code",
   "execution_count": 56,
   "metadata": {
    "execution": {
     "iopub.execute_input": "2024-10-29T13:30:34.682766Z",
     "iopub.status.busy": "2024-10-29T13:30:34.681347Z",
     "iopub.status.idle": "2024-10-29T13:30:34.705175Z",
     "shell.execute_reply": "2024-10-29T13:30:34.704120Z",
     "shell.execute_reply.started": "2024-10-29T13:30:34.682708Z"
    },
    "tags": []
   },
   "outputs": [
    {
     "name": "stdout",
     "output_type": "stream",
     "text": [
      "   class                                               text\n",
      "0     72  staring next face boggart defense dark arts cl...\n",
      "1     72  whole time first reaction felt quite proud sin...\n",
      "2     80  watched inglorious withdrawal together accompa...\n"
     ]
    }
   ],
   "source": [
    "print(pd_train.head(3))"
   ]
  },
  {
   "cell_type": "markdown",
   "metadata": {},
   "source": [
    "2) потом представляем токенизированные тексты в виде векторов int\n",
    "\n",
    "делаем их одинаковой длинны (т е заполняем лишнее паддингами)"
   ]
  },
  {
   "cell_type": "code",
   "execution_count": 7,
   "metadata": {
    "execution": {
     "iopub.execute_input": "2024-10-29T12:12:32.630561Z",
     "iopub.status.busy": "2024-10-29T12:12:32.629064Z",
     "iopub.status.idle": "2024-10-29T12:12:33.009800Z",
     "shell.execute_reply": "2024-10-29T12:12:33.008664Z",
     "shell.execute_reply.started": "2024-10-29T12:12:32.630503Z"
    },
    "tags": []
   },
   "outputs": [
    {
     "data": {
      "text/plain": [
       "105"
      ]
     },
     "execution_count": 7,
     "metadata": {},
     "output_type": "execute_result"
    }
   ],
   "source": [
    "MAX_LEN = pd_train.text.str.split(' ').apply(len).max()\n",
    "\n",
    "MAX_LEN"
   ]
  },
  {
   "cell_type": "code",
   "execution_count": 8,
   "metadata": {
    "execution": {
     "iopub.execute_input": "2024-10-29T12:12:34.426496Z",
     "iopub.status.busy": "2024-10-29T12:12:34.425032Z",
     "iopub.status.idle": "2024-10-29T12:12:34.446929Z",
     "shell.execute_reply": "2024-10-29T12:12:34.445770Z",
     "shell.execute_reply.started": "2024-10-29T12:12:34.426441Z"
    },
    "tags": []
   },
   "outputs": [],
   "source": [
    "UNK_IX, PAD_IX = map(token_to_id.get, [UNK, PAD])\n",
    "\n",
    "def as_matrix(sequences, max_len=None):\n",
    "    \"\"\" Convert a list of tokens into a matrix with padding \"\"\"\n",
    "    if isinstance(sequences[0], str):\n",
    "        sequences = list(map(str.split, sequences))\n",
    "\n",
    "    max_len = min(max(map(len, sequences)), max_len or float('inf'))\n",
    "\n",
    "    matrix = np.full((len(sequences), max_len), np.int32(PAD_IX))\n",
    "    for i,seq in enumerate(sequences):\n",
    "        row_ix = [token_to_id.get(word, UNK_IX) for word in seq[:max_len]]\n",
    "        matrix[i, :len(row_ix)] = row_ix\n",
    "\n",
    "    return matrix"
   ]
  },
  {
   "cell_type": "markdown",
   "metadata": {},
   "source": [
    "Создадим датасеты для сеток"
   ]
  },
  {
   "cell_type": "code",
   "execution_count": 9,
   "metadata": {
    "execution": {
     "iopub.execute_input": "2024-10-29T12:12:36.205470Z",
     "iopub.status.busy": "2024-10-29T12:12:36.204114Z",
     "iopub.status.idle": "2024-10-29T12:12:36.281098Z",
     "shell.execute_reply": "2024-10-29T12:12:36.279883Z",
     "shell.execute_reply.started": "2024-10-29T12:12:36.205432Z"
    },
    "tags": []
   },
   "outputs": [],
   "source": [
    "# Создание Dataset и DataLoader\n",
    "class TextDataset(Dataset):\n",
    "    def __init__(self, X, y):\n",
    "        self.X = torch.tensor(X, dtype=torch.long)\n",
    "        self.y = torch.tensor(y, dtype=torch.long)\n",
    "\n",
    "    def __len__(self):\n",
    "        return len(self.y)\n",
    "\n",
    "    def __getitem__(self, idx):\n",
    "        return self.X[idx], self.y[idx]"
   ]
  },
  {
   "cell_type": "code",
   "execution_count": 10,
   "metadata": {
    "execution": {
     "iopub.execute_input": "2024-10-29T12:12:37.798362Z",
     "iopub.status.busy": "2024-10-29T12:12:37.797030Z",
     "iopub.status.idle": "2024-10-29T12:12:39.674382Z",
     "shell.execute_reply": "2024-10-29T12:12:39.673112Z",
     "shell.execute_reply.started": "2024-10-29T12:12:37.798325Z"
    },
    "tags": []
   },
   "outputs": [],
   "source": [
    "X_train = as_matrix(pd_train['text'].to_list(), max_len=MAX_LEN)\n",
    "y_train = pd_train['class'].values\n",
    "\n",
    "X_test = as_matrix(pd_test['text'].to_list(), max_len=MAX_LEN)\n",
    "y_test = pd_test['class'].values\n",
    "\n",
    "X_dev = as_matrix(pd_dev['text'].to_list(), max_len=MAX_LEN)\n",
    "y_dev = pd_dev['class'].values"
   ]
  },
  {
   "cell_type": "code",
   "execution_count": 11,
   "metadata": {
    "execution": {
     "iopub.execute_input": "2024-10-29T12:12:39.822029Z",
     "iopub.status.busy": "2024-10-29T12:12:39.821057Z",
     "iopub.status.idle": "2024-10-29T12:12:39.873360Z",
     "shell.execute_reply": "2024-10-29T12:12:39.872240Z",
     "shell.execute_reply.started": "2024-10-29T12:12:39.821993Z"
    },
    "tags": []
   },
   "outputs": [],
   "source": [
    "BATCH_SIZE = 128"
   ]
  },
  {
   "cell_type": "code",
   "execution_count": 12,
   "metadata": {
    "execution": {
     "iopub.execute_input": "2024-10-29T12:12:41.128370Z",
     "iopub.status.busy": "2024-10-29T12:12:41.127264Z",
     "iopub.status.idle": "2024-10-29T12:12:41.238789Z",
     "shell.execute_reply": "2024-10-29T12:12:41.237634Z",
     "shell.execute_reply.started": "2024-10-29T12:12:41.128335Z"
    },
    "tags": []
   },
   "outputs": [],
   "source": [
    "train_dataset = TextDataset(X_train, y_train)\n",
    "test_dataset = TextDataset(X_test, y_test)\n",
    "dev_dataset = TextDataset(X_dev, y_dev)\n",
    "\n",
    "train_loader = DataLoader(train_dataset, batch_size=BATCH_SIZE, shuffle=True)\n",
    "test_loader = DataLoader(test_dataset, batch_size=BATCH_SIZE)\n",
    "dev_loader = DataLoader(dev_dataset, batch_size=BATCH_SIZE)"
   ]
  },
  {
   "cell_type": "markdown",
   "metadata": {},
   "source": [
    "Определим общие функции для тренировки и оценки"
   ]
  },
  {
   "cell_type": "code",
   "execution_count": 13,
   "metadata": {
    "execution": {
     "iopub.execute_input": "2024-10-29T12:12:52.799131Z",
     "iopub.status.busy": "2024-10-29T12:12:52.797565Z",
     "iopub.status.idle": "2024-10-29T12:12:52.827115Z",
     "shell.execute_reply": "2024-10-29T12:12:52.825875Z",
     "shell.execute_reply.started": "2024-10-29T12:12:52.799084Z"
    },
    "tags": []
   },
   "outputs": [],
   "source": [
    "# Функция для обучения модели\n",
    "def train_model(model, train_loader, dev_loader, criterion, optimizer, num_epochs=10):\n",
    "    model.train()\n",
    "    for epoch in range(num_epochs):\n",
    "        total_loss = 0\n",
    "        for X_batch, y_batch in train_loader:\n",
    "            X_batch, y_batch = X_batch.to(device), y_batch.to(device)\n",
    "            optimizer.zero_grad()\n",
    "            outputs = model(X_batch)\n",
    "            loss = criterion(outputs, y_batch)\n",
    "            loss.backward()\n",
    "            optimizer.step()\n",
    "            total_loss += loss.item()\n",
    "        \n",
    "        avg_loss = total_loss / len(train_loader)\n",
    "        print(f'Epoch [{epoch+1}/{num_epochs}], Loss: {avg_loss:.4f}')\n",
    "        \n",
    "        # # Оценка модели на валидационном наборе данных\n",
    "        evaluate_model(model, dev_loader)\n",
    "        model.train()\n",
    "\n",
    "# Функция для оценки модели\n",
    "def evaluate_model(model, test_loader):\n",
    "    model.eval()\n",
    "    all_labels = []\n",
    "    all_predictions = []\n",
    "    \n",
    "    with torch.no_grad():\n",
    "        for X_batch, y_batch in test_loader:\n",
    "            X_batch, y_batch = X_batch.to(device), y_batch.to(device)\n",
    "            outputs = model(X_batch)\n",
    "            _, predicted = torch.max(outputs, 1)\n",
    "            \n",
    "            all_labels.extend(y_batch.cpu().numpy())\n",
    "            all_predictions.extend(predicted.cpu().numpy())\n",
    "    \n",
    "    # Вычисление метрик\n",
    "    accuracy = (np.array(all_predictions) == np.array(all_labels)).mean()\n",
    "    f1_macro = f1_score(all_labels, all_predictions, average='macro')\n",
    "    f1_weighted = f1_score(all_labels, all_predictions, average='weighted')\n",
    "\n",
    "    print(f'Accuracy: {100 * accuracy:.2f}%',\n",
    "          f'F1 Macro: {f1_macro:.4f}',\n",
    "          f'F1 Weighted: {f1_weighted:.4f}'\n",
    "         )"
   ]
  },
  {
   "cell_type": "markdown",
   "metadata": {},
   "source": [
    "## 2. Conv NN\n",
    "\n",
    "2. [2 балла] Используйте сверточные сети в качестве более продвинутого классификатора. Поэкспериментируйте с количеством и размерностью фильтров, используйте разные размеры окон, попробуйте использовать $k$-max pooling."
   ]
  },
  {
   "cell_type": "code",
   "execution_count": 45,
   "metadata": {
    "tags": []
   },
   "outputs": [],
   "source": [
    "# Определение CNN-модели\n",
    "class TextCNN(nn.Module):\n",
    "    def __init__(\n",
    "        self,vocab_size=None,\n",
    "        embed_size=300,\n",
    "        kernel_sizes=[2],\n",
    "        num_filters=[6],\n",
    "        num_classes=2,\n",
    "        dropout=0.3\n",
    "    ):\n",
    "        super(TextCNN, self).__init__()\n",
    "        self.embed_size = embed_size\n",
    "        # TO DO: implement pretrained embeddings (?)\n",
    "        self.embedding = nn.Embedding(\n",
    "            num_embeddings=vocab_size,\n",
    "            embedding_dim=self.embed_size,\n",
    "            padding_idx=PAD_IX\n",
    "        )\n",
    "        # Conv1d\n",
    "        self.conv1d_list = nn.ModuleList([\n",
    "            nn.Conv1d(\n",
    "                in_channels=self.embed_size,\n",
    "                out_channels=num_filters[i],\n",
    "                kernel_size=kernel_sizes[i]\n",
    "            )\n",
    "            for i in range(len(kernel_sizes))\n",
    "        ])\n",
    "        # Fully-connected layer and Dropout\n",
    "        self.fc1 = nn.Linear(np.sum(num_filters), num_classes)\n",
    "        self.dropout = nn.Dropout(p=dropout)\n",
    "\n",
    "    def forward(self, input_ids):\n",
    "        \"\"\"\n",
    "        1) embedding \n",
    "        2) reshape\n",
    "        3) covolutions (as list?)\n",
    "        4) pooling\n",
    "        5) linear\n",
    "        \"\"\"\n",
    "\n",
    "        # (bs, max_len, embed_size)\n",
    "        x = self.embedding(input_ids).float()\n",
    "\n",
    "        # match input shape requirement of nn.Conv1d\n",
    "        # (bs, embed_size, max_len)\n",
    "        x = x.permute(0, 2, 1)\n",
    "\n",
    "        # CNN & ReLU\n",
    "        # (bs, num_filters[i], L_out)\n",
    "        conv_list = [F.relu(conv1d(x)) for conv1d in self.conv1d_list]\n",
    "\n",
    "        # Max pooling\n",
    "        # (bs, num_filters[i], 1)\n",
    "        pool_list = [F.max_pool1d(c, kernel_size=c.shape[2]) for c in conv_list]\n",
    "\n",
    "        # Concatenate x's from pool_list\n",
    "        # Output shape: (bs, sum(num_filters))\n",
    "        x_fc = torch.cat(\n",
    "            [x_p.squeeze(dim=2) for x_p in pool_list], \n",
    "            dim=1\n",
    "        )\n",
    "\n",
    "        # Output shape: (bs, n_classes)\n",
    "        return self.fc1(self.dropout(x_fc))"
   ]
  },
  {
   "cell_type": "code",
   "execution_count": 90,
   "metadata": {
    "execution": {
     "iopub.execute_input": "2024-10-29T13:58:53.483645Z",
     "iopub.status.busy": "2024-10-29T13:58:53.482340Z",
     "iopub.status.idle": "2024-10-29T13:59:37.677528Z",
     "shell.execute_reply": "2024-10-29T13:59:37.675982Z",
     "shell.execute_reply.started": "2024-10-29T13:58:53.483580Z"
    },
    "tags": []
   },
   "outputs": [
    {
     "name": "stdout",
     "output_type": "stream",
     "text": [
      "Epoch [1/10], Loss: 3.2313\n",
      "Accuracy: 26.78% F1 Macro: 0.0602 F1 Weighted: 0.2209\n",
      "Epoch [2/10], Loss: 2.7983\n",
      "Accuracy: 28.06% F1 Macro: 0.0741 F1 Weighted: 0.2483\n",
      "Epoch [3/10], Loss: 2.4602\n",
      "Accuracy: 29.62% F1 Macro: 0.0842 F1 Weighted: 0.2551\n",
      "Epoch [4/10], Loss: 2.0797\n",
      "Accuracy: 29.39% F1 Macro: 0.1013 F1 Weighted: 0.2610\n",
      "Epoch [5/10], Loss: 1.6593\n",
      "Accuracy: 28.98% F1 Macro: 0.1147 F1 Weighted: 0.2679\n",
      "Epoch [6/10], Loss: 1.2216\n",
      "Accuracy: 28.69% F1 Macro: 0.1217 F1 Weighted: 0.2628\n",
      "Epoch [7/10], Loss: 0.8536\n",
      "Accuracy: 27.44% F1 Macro: 0.1342 F1 Weighted: 0.2564\n",
      "Epoch [8/10], Loss: 0.6056\n",
      "Accuracy: 26.78% F1 Macro: 0.1294 F1 Weighted: 0.2621\n",
      "Epoch [9/10], Loss: 0.4671\n",
      "Accuracy: 27.48% F1 Macro: 0.1340 F1 Weighted: 0.2583\n",
      "Epoch [10/10], Loss: 0.3906\n",
      "Accuracy: 27.67% F1 Macro: 0.1223 F1 Weighted: 0.2565\n",
      "Accuracy: 28.31% F1 Macro: 0.1379 F1 Weighted: 0.2636\n"
     ]
    }
   ],
   "source": [
    "# kernel_sizes = [2, 3, 4]\n",
    "# num_filters = [64, 64, 64]\n",
    "\n",
    "kernel_sizes = [3, 4, 5]\n",
    "num_filters = [128] * len(kernel_sizes)\n",
    "assert len(kernel_sizes) == len(num_filters), 'alarm'\n",
    "\n",
    "num_classes = len(np.unique(y_train))\n",
    "vocab_size = len(token_to_id)\n",
    "embed_size = 300\n",
    "\n",
    "model = TextCNN(\n",
    "    vocab_size=vocab_size,\n",
    "    embed_size=embed_size,\n",
    "    kernel_sizes=kernel_sizes,\n",
    "    num_filters=num_filters,\n",
    "    num_classes=num_classes,\n",
    "    dropout=0.1,\n",
    ").to(device)\n",
    "\n",
    "criterion = nn.CrossEntropyLoss()\n",
    "optimizer = optim.Adam(model.parameters(), lr=0.001)\n",
    "\n",
    "train_model(model, train_loader, dev_loader, criterion, optimizer, num_epochs=10)\n",
    "\n",
    "evaluate_model(model, test_loader);"
   ]
  },
  {
   "cell_type": "markdown",
   "metadata": {},
   "source": [
    "В текущем сетапе это +/- максимум кажется, и изменения гиперпараметров (относительно наивное правда) прироста не дает \n",
    "\n",
    "В целом если ресурсы позволяют, наверное можно так и до 0.2 дотянуть, но кажется это чересчур экстенсивный подход и лучше как-то по-другому сделать "
   ]
  },
  {
   "cell_type": "markdown",
   "metadata": {},
   "source": [
    "Бейзлайн не побит пока, но! Во-первых, он сам по себе неплохой получился, а во вторых качество хотя бы +/- сопоставимо с референсом, что уже успех, так как с одной сверткой получалась совсем беда"
   ]
  },
  {
   "cell_type": "markdown",
   "metadata": {},
   "source": [
    "## 3. RNN\n",
    "\n",
    "Используйте рекуррентные сети в качестве альтернативного продвинутого классификатора. Поэкспериментируйте с количеством и размерностью слоев и другими гиперпараметрами. "
   ]
  },
  {
   "cell_type": "code",
   "execution_count": 35,
   "metadata": {
    "tags": []
   },
   "outputs": [],
   "source": [
    "import torch\n",
    "import torch.nn as nn\n",
    "import torch.nn.functional as F\n",
    "\n",
    "class RNNModel(nn.Module):\n",
    "    def __init__(\n",
    "        self,\n",
    "        vocab_size,\n",
    "        embed_size,\n",
    "        hidden_size,\n",
    "        num_classes,\n",
    "        dropout=0.1,\n",
    "        bidirectional=True,\n",
    "        hidden_linear_size = 128,\n",
    "        n_layers = 2,\n",
    "    ):\n",
    "        super(RNNModel, self).__init__()\n",
    "        self.embedding = nn.Embedding(vocab_size, embed_size, padding_idx=PAD_IX,)\n",
    "        self.rnn = nn.LSTM(\n",
    "            embed_size,\n",
    "            hidden_size,\n",
    "            batch_first=True,\n",
    "            bidirectional=bidirectional,\n",
    "            num_layers=n_layers,\n",
    "            dropout=dropout\n",
    "        )\n",
    "        \n",
    "        self.lstm_out_size = hidden_size * (1 + int(bidirectional))\n",
    "        \n",
    "        self.hidden_fc1 = nn.Linear(self.lstm_out_size, hidden_linear_size)\n",
    "        self.hidden_fc2 = nn.Linear(hidden_linear_size, self.lstm_out_size)\n",
    "        \n",
    "        self.final_fc = nn.Linear(self.lstm_out_size, num_classes)\n",
    "        \n",
    "        self.dropout = nn.Dropout(dropout)\n",
    "        self.bidirectional = bidirectional\n",
    "        self.batchnorm = nn.BatchNorm1d(self.lstm_out_size)\n",
    "        \n",
    "        # Инициализация весов\n",
    "        self.init_weights()\n",
    "\n",
    "    def init_weights(self):\n",
    "        # Инициализация весов для embedding\n",
    "        nn.init.xavier_uniform_(self.embedding.weight)\n",
    "        \n",
    "        # Инициализация весов для LSTM\n",
    "        for name, param in self.rnn.named_parameters():\n",
    "            if 'weight' in name:  # Веса для входов\n",
    "                nn.init.xavier_uniform_(param.data)\n",
    "            elif 'bias' in name:  # Смещения\n",
    "                nn.init.constant_(param.data, 0)\n",
    "\n",
    "        # # Инициализация весов для полносвязного слоя\n",
    "        # nn.init.xavier_uniform_(self.fc.weight)\n",
    "        # nn.init.constant_(self.fc.bias, 0)\n",
    "\n",
    "    def forward(self, x):\n",
    "        # Применяем слой embedding\n",
    "        # h0 = torch.zeros(1, x.size(0), self.hidden_dim).to(x.device)  \n",
    "        # c0 = torch.zeros(1, x.size(0), self.hidden_dim).to(x.device) \n",
    "        # out, _ = self.rnn(x, (h0, c0))\n",
    "        \n",
    "        x = self.embedding(x)\n",
    "        \n",
    "        # проход через LSTM\n",
    "        x, (hn, cn) = self.rnn(x)\n",
    "        \n",
    "        # print(x.shape)\n",
    "        \n",
    "        if self.bidirectional:\n",
    "            x = torch.cat(\n",
    "                (\n",
    "                    x[:, -1, :self.rnn.hidden_size],\n",
    "                    x[:, 0, self.rnn.hidden_size:]\n",
    "                ),\n",
    "                dim=1\n",
    "            ) \n",
    "        else:\n",
    "            x = x[:, -1, :]\n",
    "        \n",
    "        # print(x.shape)\n",
    "            \n",
    "       \n",
    "        # x = self.batchnorm(x)\n",
    "        # # Оборачиваем в скрытый линейный слой\n",
    "        # x = self.hidden_fc1(x)\n",
    "        # x = F.relu(x)\n",
    "        # x = self.hidden_fc2(x)\n",
    "        # x = F.relu(x)\n",
    "        x = self.final_fc(x)\n",
    "        \n",
    "        # print(x.shape)\n",
    "        return x"
   ]
  },
  {
   "cell_type": "markdown",
   "metadata": {},
   "source": [
    "Будем использовать те же функции для трейна: они в целом универсальны"
   ]
  },
  {
   "cell_type": "code",
   "execution_count": 54,
   "metadata": {
    "execution": {
     "iopub.execute_input": "2024-10-29T13:28:03.675760Z",
     "iopub.status.busy": "2024-10-29T13:28:03.674827Z",
     "iopub.status.idle": "2024-10-29T13:28:26.256388Z",
     "shell.execute_reply": "2024-10-29T13:28:26.254051Z",
     "shell.execute_reply.started": "2024-10-29T13:28:03.675725Z"
    },
    "tags": []
   },
   "outputs": [
    {
     "name": "stdout",
     "output_type": "stream",
     "text": [
      "Epoch [1/30], Loss: 4.0324\n",
      "Accuracy: 12.13% F1 Macro: 0.0026 F1 Weighted: 0.0263\n",
      "Epoch [2/30], Loss: 3.6858\n",
      "Accuracy: 10.92% F1 Macro: 0.0039 F1 Weighted: 0.0371\n",
      "Epoch [3/30], Loss: 3.6825\n",
      "Accuracy: 12.15% F1 Macro: 0.0026 F1 Weighted: 0.0264\n",
      "Epoch [4/30], Loss: 3.6636\n",
      "Accuracy: 8.76% F1 Macro: 0.0036 F1 Weighted: 0.0288\n",
      "Epoch [5/30], Loss: 3.6143\n",
      "Accuracy: 11.35% F1 Macro: 0.0025 F1 Weighted: 0.0234\n",
      "Epoch [6/30], Loss: 3.6027\n",
      "Accuracy: 11.30% F1 Macro: 0.0025 F1 Weighted: 0.0231\n"
     ]
    },
    {
     "ename": "KeyboardInterrupt",
     "evalue": "",
     "output_type": "error",
     "traceback": [
      "\u001b[0;31m---------------------------------------------------------------------------\u001b[0m",
      "\u001b[0;31mKeyboardInterrupt\u001b[0m                         Traceback (most recent call last)",
      "\u001b[0;32m/tmp/ipykernel_2660/1898343739.py\u001b[0m in \u001b[0;36m<cell line: 26>\u001b[0;34m()\u001b[0m\n\u001b[1;32m     24\u001b[0m \u001b[0;34m\u001b[0m\u001b[0m\n\u001b[1;32m     25\u001b[0m \u001b[0;31m# Обучение модели\u001b[0m\u001b[0;34m\u001b[0m\u001b[0;34m\u001b[0m\u001b[0m\n\u001b[0;32m---> 26\u001b[0;31m \u001b[0mtrain_model\u001b[0m\u001b[0;34m(\u001b[0m\u001b[0mrnn_model\u001b[0m\u001b[0;34m,\u001b[0m \u001b[0mtrain_loader\u001b[0m\u001b[0;34m,\u001b[0m \u001b[0mdev_loader\u001b[0m\u001b[0;34m,\u001b[0m \u001b[0mcriterion\u001b[0m\u001b[0;34m,\u001b[0m \u001b[0mrnn_optimizer\u001b[0m\u001b[0;34m,\u001b[0m \u001b[0mnum_epochs\u001b[0m\u001b[0;34m=\u001b[0m\u001b[0;36m30\u001b[0m\u001b[0;34m)\u001b[0m\u001b[0;34m\u001b[0m\u001b[0;34m\u001b[0m\u001b[0m\n\u001b[0m\u001b[1;32m     27\u001b[0m \u001b[0;34m\u001b[0m\u001b[0m\n\u001b[1;32m     28\u001b[0m \u001b[0;31m# Оценка модели на тестовом наборе данных\u001b[0m\u001b[0;34m\u001b[0m\u001b[0;34m\u001b[0m\u001b[0m\n",
      "\u001b[0;32m/tmp/ipykernel_2660/620645966.py\u001b[0m in \u001b[0;36mtrain_model\u001b[0;34m(model, train_loader, dev_loader, criterion, optimizer, num_epochs)\u001b[0m\n\u001b[1;32m      9\u001b[0m             \u001b[0moutputs\u001b[0m \u001b[0;34m=\u001b[0m \u001b[0mmodel\u001b[0m\u001b[0;34m(\u001b[0m\u001b[0mX_batch\u001b[0m\u001b[0;34m)\u001b[0m\u001b[0;34m\u001b[0m\u001b[0;34m\u001b[0m\u001b[0m\n\u001b[1;32m     10\u001b[0m             \u001b[0mloss\u001b[0m \u001b[0;34m=\u001b[0m \u001b[0mcriterion\u001b[0m\u001b[0;34m(\u001b[0m\u001b[0moutputs\u001b[0m\u001b[0;34m,\u001b[0m \u001b[0my_batch\u001b[0m\u001b[0;34m)\u001b[0m\u001b[0;34m\u001b[0m\u001b[0;34m\u001b[0m\u001b[0m\n\u001b[0;32m---> 11\u001b[0;31m             \u001b[0mloss\u001b[0m\u001b[0;34m.\u001b[0m\u001b[0mbackward\u001b[0m\u001b[0;34m(\u001b[0m\u001b[0;34m)\u001b[0m\u001b[0;34m\u001b[0m\u001b[0;34m\u001b[0m\u001b[0m\n\u001b[0m\u001b[1;32m     12\u001b[0m             \u001b[0moptimizer\u001b[0m\u001b[0;34m.\u001b[0m\u001b[0mstep\u001b[0m\u001b[0;34m(\u001b[0m\u001b[0;34m)\u001b[0m\u001b[0;34m\u001b[0m\u001b[0;34m\u001b[0m\u001b[0m\n\u001b[1;32m     13\u001b[0m             \u001b[0mtotal_loss\u001b[0m \u001b[0;34m+=\u001b[0m \u001b[0mloss\u001b[0m\u001b[0;34m.\u001b[0m\u001b[0mitem\u001b[0m\u001b[0;34m(\u001b[0m\u001b[0;34m)\u001b[0m\u001b[0;34m\u001b[0m\u001b[0;34m\u001b[0m\u001b[0m\n",
      "\u001b[0;32m/usr/local/lib/python3.10/dist-packages/torch/_tensor.py\u001b[0m in \u001b[0;36mbackward\u001b[0;34m(self, gradient, retain_graph, create_graph, inputs)\u001b[0m\n\u001b[1;32m    485\u001b[0m                 \u001b[0minputs\u001b[0m\u001b[0;34m=\u001b[0m\u001b[0minputs\u001b[0m\u001b[0;34m,\u001b[0m\u001b[0;34m\u001b[0m\u001b[0;34m\u001b[0m\u001b[0m\n\u001b[1;32m    486\u001b[0m             )\n\u001b[0;32m--> 487\u001b[0;31m         torch.autograd.backward(\n\u001b[0m\u001b[1;32m    488\u001b[0m             \u001b[0mself\u001b[0m\u001b[0;34m,\u001b[0m \u001b[0mgradient\u001b[0m\u001b[0;34m,\u001b[0m \u001b[0mretain_graph\u001b[0m\u001b[0;34m,\u001b[0m \u001b[0mcreate_graph\u001b[0m\u001b[0;34m,\u001b[0m \u001b[0minputs\u001b[0m\u001b[0;34m=\u001b[0m\u001b[0minputs\u001b[0m\u001b[0;34m\u001b[0m\u001b[0;34m\u001b[0m\u001b[0m\n\u001b[1;32m    489\u001b[0m         )\n",
      "\u001b[0;32m/usr/local/lib/python3.10/dist-packages/torch/autograd/__init__.py\u001b[0m in \u001b[0;36mbackward\u001b[0;34m(tensors, grad_tensors, retain_graph, create_graph, grad_variables, inputs)\u001b[0m\n\u001b[1;32m    198\u001b[0m     \u001b[0;31m# some Python versions print out the first line of a multi-line function\u001b[0m\u001b[0;34m\u001b[0m\u001b[0;34m\u001b[0m\u001b[0m\n\u001b[1;32m    199\u001b[0m     \u001b[0;31m# calls in the traceback and some print out the last line\u001b[0m\u001b[0;34m\u001b[0m\u001b[0;34m\u001b[0m\u001b[0m\n\u001b[0;32m--> 200\u001b[0;31m     Variable._execution_engine.run_backward(  # Calls into the C++ engine to run the backward pass\n\u001b[0m\u001b[1;32m    201\u001b[0m         \u001b[0mtensors\u001b[0m\u001b[0;34m,\u001b[0m \u001b[0mgrad_tensors_\u001b[0m\u001b[0;34m,\u001b[0m \u001b[0mretain_graph\u001b[0m\u001b[0;34m,\u001b[0m \u001b[0mcreate_graph\u001b[0m\u001b[0;34m,\u001b[0m \u001b[0minputs\u001b[0m\u001b[0;34m,\u001b[0m\u001b[0;34m\u001b[0m\u001b[0;34m\u001b[0m\u001b[0m\n\u001b[1;32m    202\u001b[0m         allow_unreachable=True, accumulate_grad=True)  # Calls into the C++ engine to run the backward pass\n",
      "\u001b[0;31mKeyboardInterrupt\u001b[0m: "
     ]
    }
   ],
   "source": [
    "# Пример инициализации модели\n",
    "vocab_size = len(token_to_id) \n",
    "embed_size = 100\n",
    "hidden_size = 64  # Можно изменить в зависимости от задачи\n",
    "num_classes = len(set(y_train))  # Число классов для классификации\n",
    "dropout_rate = 0.1\n",
    "n_layers = 2\n",
    "\n",
    "# Инициализация модели и перенос на устройство\n",
    "rnn_model = RNNModel(\n",
    "    vocab_size,\n",
    "    embed_size,\n",
    "    hidden_size,\n",
    "    num_classes,\n",
    "    dropout_rate,\n",
    "    n_layers=n_layers,\n",
    "    hidden_linear_size= hidden_size * 2,\n",
    "    bidirectional=True,\n",
    ").to(device)\n",
    "\n",
    "# Инициализация потерь и оптимизатора\n",
    "criterion = nn.CrossEntropyLoss()\n",
    "rnn_optimizer = optim.Adam(rnn_model.parameters(), lr=0.25)\n",
    "\n",
    "# Обучение модели\n",
    "train_model(rnn_model, train_loader, dev_loader, criterion, rnn_optimizer, num_epochs=30)\n",
    "\n",
    "# Оценка модели на тестовом наборе данных\n",
    "evaluate_model(rnn_model, test_loader)"
   ]
  },
  {
   "cell_type": "markdown",
   "metadata": {},
   "source": [
    "Какие-то ухищрения с доп линейными слоями не дают импакта, и модель все равно не учится\n",
    "\n",
    "Пробовал делать пуллинг из выхода LSTM, результат все то же\n",
    "\n",
    "Видимо не до конца пониманию как RNN-ки работают, не исключаю что принципиально что-то не то делаю"
   ]
  },
  {
   "cell_type": "markdown",
   "metadata": {},
   "source": [
    "## 4.  Аугментация \n",
    "\n",
    "[1.5 балла] Попробуйте расширить обучающее множество за счет аугментации данных. Если вам понадобится словарь синонимов, можно использовать WordNet (ниже вы найдете примеры)."
   ]
  },
  {
   "cell_type": "markdown",
   "metadata": {},
   "source": [
    "### Как использовать WordNet из nltk?"
   ]
  },
  {
   "cell_type": "code",
   "execution_count": 50,
   "metadata": {
    "tags": []
   },
   "outputs": [
    {
     "name": "stderr",
     "output_type": "stream",
     "text": [
      "[nltk_data] Downloading package wordnet to /Users/ruattar/nltk_data...\n",
      "[nltk_data] Downloading package omw-1.4 to /Users/ruattar/nltk_data...\n"
     ]
    },
    {
     "data": {
      "text/plain": [
       "True"
      ]
     },
     "execution_count": 50,
     "metadata": {},
     "output_type": "execute_result"
    }
   ],
   "source": [
    "# скачиваем WordNet\n",
    "import nltk\n",
    "nltk.download('wordnet')\n",
    "nltk.download('omw-1.4')"
   ]
  },
  {
   "cell_type": "code",
   "execution_count": 58,
   "metadata": {
    "execution": {
     "iopub.execute_input": "2024-10-29T13:34:05.166976Z",
     "iopub.status.busy": "2024-10-29T13:34:05.166015Z",
     "iopub.status.idle": "2024-10-29T13:34:06.949903Z",
     "shell.execute_reply": "2024-10-29T13:34:06.948878Z",
     "shell.execute_reply.started": "2024-10-29T13:34:05.166927Z"
    },
    "tags": []
   },
   "outputs": [
    {
     "data": {
      "text/plain": [
       "[Synset('magic.n.01'), Synset('magic_trick.n.01'), Synset('charming.s.02')]"
      ]
     },
     "execution_count": 58,
     "metadata": {},
     "output_type": "execute_result"
    }
   ],
   "source": [
    "# слово -> множество синсетов (синонимов разных смыслов исходного слова)\n",
    "from nltk.corpus import wordnet as wn\n",
    "wn.synsets('magic')"
   ]
  },
  {
   "cell_type": "code",
   "execution_count": 91,
   "metadata": {
    "execution": {
     "iopub.execute_input": "2024-10-29T13:59:37.680853Z",
     "iopub.status.busy": "2024-10-29T13:59:37.679854Z",
     "iopub.status.idle": "2024-10-29T13:59:37.703443Z",
     "shell.execute_reply": "2024-10-29T13:59:37.702382Z",
     "shell.execute_reply.started": "2024-10-29T13:59:37.680800Z"
    },
    "tags": []
   },
   "outputs": [
    {
     "data": {
      "text/plain": [
       "[Synset('magic.n.01'), Synset('magic_trick.n.01'), Synset('charming.s.02')]"
      ]
     },
     "execution_count": 91,
     "metadata": {},
     "output_type": "execute_result"
    }
   ],
   "source": [
    "# посмотрим, что внутри одного синсета\n",
    "wn.synsets('magic')"
   ]
  },
  {
   "cell_type": "code",
   "execution_count": 62,
   "metadata": {
    "execution": {
     "iopub.execute_input": "2024-10-29T13:34:40.849170Z",
     "iopub.status.busy": "2024-10-29T13:34:40.847689Z",
     "iopub.status.idle": "2024-10-29T13:34:40.869059Z",
     "shell.execute_reply": "2024-10-29T13:34:40.868099Z",
     "shell.execute_reply.started": "2024-10-29T13:34:40.849115Z"
    },
    "tags": []
   },
   "outputs": [
    {
     "data": {
      "text/plain": [
       "'deception'"
      ]
     },
     "execution_count": 62,
     "metadata": {},
     "output_type": "execute_result"
    }
   ],
   "source": [
    "# возьмем лемму одного из слов из синсета\n",
    "wn.synsets('magic')[1].lemmas()[-1].name()"
   ]
  },
  {
   "cell_type": "code",
   "execution_count": 46,
   "metadata": {
    "tags": []
   },
   "outputs": [],
   "source": [
    "import nltk\n",
    "from nltk.corpus import wordnet\n",
    "import random\n",
    "from tqdm import tqdm_notebook\n",
    "\n",
    "def synonym_augmentation(text, probability=0.3):\n",
    "    \"\"\"\n",
    "    Функция для замены слов в тексте на их синонимы.\n",
    "    :param text: Исходный текст.\n",
    "    :param probability: Вероятность замены каждого слова на синоним.\n",
    "    :return: Текст с замененными словами.\n",
    "    \"\"\"\n",
    "    words = text.split(' ')\n",
    "    augmented_text = [0] * len(words)\n",
    "    \n",
    "    for word_idx in range(len(words)):\n",
    "        word = words[word_idx]\n",
    "        if random.random() < probability:  # Определяем, нужно ли заменить слово\n",
    "            synonyms = wordnet.synsets(word)\n",
    "            if synonyms:\n",
    "                synonym = synonyms[0].lemmas()[0].name()  # Берем первый синоним\n",
    "                augmented_text[word_idx] = synonym.lower()\n",
    "            else:\n",
    "                augmented_text[word_idx] = word\n",
    "        else:\n",
    "            augmented_text[word_idx] = word\n",
    "    \n",
    "    return ' '.join(augmented_text)\n"
   ]
  },
  {
   "cell_type": "code",
   "execution_count": 51,
   "metadata": {
    "tags": []
   },
   "outputs": [
    {
     "name": "stdout",
     "output_type": "stream",
     "text": [
      "Original: whole time first reaction felt quite proud since practicality tough state mind whatever swerve around check see anyone watching relief everyone focused entrapping last boggarts last boggarts supposed exception one standing rose took deep breath said thank cooperation experiment produced enlightening results um rose best channel hysterical laughter bubbling dangerously throat screamed\n",
      "--------------------\n",
      "Augmented: whole time first reaction felt quite proud since practicality tough state mind whatever swerve about check see anyone watching relief everyone concentrate entrapping last boggarts stopping_point boggarts supposed exception one standing rose took deep breath said thank cooperation experiment produce enlighten consequence um rose best channel hysterical laughter bubbling perilously throat screamed\n"
     ]
    }
   ],
   "source": [
    "# Пример использования\n",
    "sample_text = pd_train['text'][1]  # Берем пример текста\n",
    "augmented_text = synonym_augmentation(sample_text, probability=0.3)\n",
    "\n",
    "print(\"Original:\", sample_text)\n",
    "print(\"-\"*20)\n",
    "print(\"Augmented:\", augmented_text)"
   ]
  },
  {
   "cell_type": "code",
   "execution_count": 82,
   "metadata": {
    "execution": {
     "iopub.execute_input": "2024-10-29T13:53:05.801263Z",
     "iopub.status.busy": "2024-10-29T13:53:05.799910Z",
     "iopub.status.idle": "2024-10-29T13:53:24.470081Z",
     "shell.execute_reply": "2024-10-29T13:53:24.468885Z",
     "shell.execute_reply.started": "2024-10-29T13:53:05.801225Z"
    },
    "tags": []
   },
   "outputs": [],
   "source": [
    "augmented_texts = [synonym_augmentation(text, probability=0.3) for text in pd_train['text']]"
   ]
  },
  {
   "cell_type": "code",
   "execution_count": 83,
   "metadata": {
    "execution": {
     "iopub.execute_input": "2024-10-29T13:53:52.745172Z",
     "iopub.status.busy": "2024-10-29T13:53:52.743858Z",
     "iopub.status.idle": "2024-10-29T13:53:52.788299Z",
     "shell.execute_reply": "2024-10-29T13:53:52.786985Z",
     "shell.execute_reply.started": "2024-10-29T13:53:52.745108Z"
    },
    "tags": []
   },
   "outputs": [],
   "source": [
    "pd_augmented = pd.DataFrame({\n",
    "    'class': pd_train['class'].tolist(),\n",
    "    'text': augmented_texts\n",
    "})"
   ]
  },
  {
   "cell_type": "code",
   "execution_count": 86,
   "metadata": {
    "execution": {
     "iopub.execute_input": "2024-10-29T13:55:15.773331Z",
     "iopub.status.busy": "2024-10-29T13:55:15.772391Z",
     "iopub.status.idle": "2024-10-29T13:55:18.528699Z",
     "shell.execute_reply": "2024-10-29T13:55:18.527435Z",
     "shell.execute_reply.started": "2024-10-29T13:55:15.773296Z"
    },
    "tags": []
   },
   "outputs": [],
   "source": [
    "pd_train_augmented = pd.concat([pd_train, pd_augmented.sample(frac=0.5)])\n",
    "\n",
    "pd_train_augmented = pd_train_augmented.sample(frac=1).reset_index(drop=True)\n",
    "\n",
    "# Преобразование для обучения\n",
    "X_train_augmented = as_matrix(pd_train_augmented['text'].to_list(), max_len=MAX_LEN)\n",
    "y_train_augmented = pd_train_augmented['class'].values\n",
    "\n",
    "# Создаем обновленный датасет и DataLoader\n",
    "train_dataset_augmented = TextDataset(X_train_augmented, y_train_augmented)\n",
    "train_loader_augmented = DataLoader(train_dataset_augmented, batch_size=BATCH_SIZE, shuffle=True)\n"
   ]
  },
  {
   "cell_type": "code",
   "execution_count": 87,
   "metadata": {
    "execution": {
     "iopub.execute_input": "2024-10-29T13:55:22.421571Z",
     "iopub.status.busy": "2024-10-29T13:55:22.419965Z",
     "iopub.status.idle": "2024-10-29T13:56:28.520265Z",
     "shell.execute_reply": "2024-10-29T13:56:28.518958Z",
     "shell.execute_reply.started": "2024-10-29T13:55:22.421516Z"
    },
    "tags": []
   },
   "outputs": [
    {
     "name": "stdout",
     "output_type": "stream",
     "text": [
      "Epoch [1/10], Loss: 3.1063\n",
      "Accuracy: 27.26% F1 Macro: 0.0664 F1 Weighted: 0.2231\n",
      "Epoch [2/10], Loss: 2.5502\n",
      "Accuracy: 27.35% F1 Macro: 0.0791 F1 Weighted: 0.2344\n",
      "Epoch [3/10], Loss: 2.0069\n",
      "Accuracy: 28.42% F1 Macro: 0.1014 F1 Weighted: 0.2559\n",
      "Epoch [4/10], Loss: 1.4345\n",
      "Accuracy: 27.48% F1 Macro: 0.1239 F1 Weighted: 0.2579\n",
      "Epoch [5/10], Loss: 0.9387\n",
      "Accuracy: 26.80% F1 Macro: 0.1231 F1 Weighted: 0.2580\n",
      "Epoch [6/10], Loss: 0.6175\n",
      "Accuracy: 26.97% F1 Macro: 0.1206 F1 Weighted: 0.2542\n",
      "Epoch [7/10], Loss: 0.4432\n",
      "Accuracy: 27.10% F1 Macro: 0.1290 F1 Weighted: 0.2563\n",
      "Epoch [8/10], Loss: 0.3536\n",
      "Accuracy: 25.85% F1 Macro: 0.1264 F1 Weighted: 0.2451\n",
      "Epoch [9/10], Loss: 0.3060\n",
      "Accuracy: 26.28% F1 Macro: 0.1189 F1 Weighted: 0.2536\n",
      "Epoch [10/10], Loss: 0.2793\n",
      "Accuracy: 26.74% F1 Macro: 0.1207 F1 Weighted: 0.2546\n",
      "Accuracy: 27.18% F1 Macro: 0.1460 F1 Weighted: 0.2604\n"
     ]
    }
   ],
   "source": [
    "# kernel_sizes = [2, 3, 4]\n",
    "# num_filters = [64, 64, 64]\n",
    "\n",
    "kernel_sizes = [3, 4, 5]\n",
    "num_filters = [128] * len(kernel_sizes)\n",
    "\n",
    "assert len(kernel_sizes) == len(num_filters), 'alarm'\n",
    "\n",
    "num_classes = len(np.unique(y_train))\n",
    "vocab_size = len(token_to_id)\n",
    "embed_size = 300\n",
    "\n",
    "cnn_model = TextCNN(\n",
    "    vocab_size=vocab_size,\n",
    "    embed_size=embed_size,\n",
    "    kernel_sizes=kernel_sizes,\n",
    "    num_filters=num_filters,\n",
    "    num_classes=num_classes,\n",
    "    dropout=0.1,\n",
    ").to(device)\n",
    "\n",
    "criterion = nn.CrossEntropyLoss()\n",
    "cnn_optimizer = optim.Adam(cnn_model.parameters(), lr=0.001)\n",
    "\n",
    "train_model(cnn_model, train_loader_augmented, dev_loader, criterion, cnn_optimizer, num_epochs=10)\n",
    "\n",
    "evaluate_model(cnn_model, test_loader);"
   ]
  },
  {
   "cell_type": "markdown",
   "metadata": {},
   "source": [
    "Итак, при том, что аугментация ведет себя не очень стабильно на дев-датасете, на тесте при разных конфигурациях CNN всегда несколько улучшает метрики"
   ]
  },
  {
   "cell_type": "code",
   "execution_count": 42,
   "metadata": {},
   "outputs": [
    {
     "data": {
      "text/plain": [
       "(7594, 7672)"
      ]
     },
     "execution_count": 42,
     "metadata": {},
     "output_type": "execute_result"
    }
   ],
   "source": [
    "pd_dev.shape[0], pd_test.shape[0]"
   ]
  },
  {
   "cell_type": "code",
   "execution_count": 34,
   "metadata": {},
   "outputs": [
    {
     "data": {
      "image/png": "[encoded data removed]",
      "text/plain": [
       "<Figure size 640x480 with 1 Axes>"
      ]
     },
     "metadata": {},
     "output_type": "display_data"
    }
   ],
   "source": [
    "pd_dev['class'].hist();"
   ]
  },
  {
   "cell_type": "code",
   "execution_count": 43,
   "metadata": {},
   "outputs": [
    {
     "data": {
      "image/png": "[encoded data removed]",
      "text/plain": [
       "<Figure size 640x480 with 1 Axes>"
      ]
     },
     "metadata": {},
     "output_type": "display_data"
    }
   ],
   "source": [
    "pd_test['class'].hist();"
   ]
  },
  {
   "cell_type": "code",
   "execution_count": 32,
   "metadata": {},
   "outputs": [
    {
     "data": {
      "image/png": "[encoded data removed]",
      "text/plain": [
       "<Figure size 640x480 with 1 Axes>"
      ]
     },
     "metadata": {},
     "output_type": "display_data"
    }
   ],
   "source": [
    "pd_train['class'].hist();"
   ]
  },
  {
   "cell_type": "markdown",
   "metadata": {},
   "source": [
    "Можно посмотреть предсказания и долю ошибок на каждом классе и попробовать аугментировать данные прежде всего на слабо представленных в обучающей выборке классах"
   ]
  },
  {
   "cell_type": "markdown",
   "metadata": {},
   "source": [
    "# Часть 4. [0.5 балла] Итоги\n",
    "Напишите краткое резюме проделанной работы. Читали ли вы сами Гарри Поттера или фанфики о нем и помогло ли вам знание предметной области в выполнении домашнего задания?"
   ]
  },
  {
   "cell_type": "markdown",
   "metadata": {},
   "source": [
    "1. Часть I\n",
    "\n",
    "   - Задания по частоте слов: как будто выполнены полностью, результаты совпали с моими априорными представлениями об упоминании героев в оригинальных текстах (а так же насколько мне известно о фанфиках, популярные герои там +/- такие тоже)\n",
    "   - Тк были во время выполнения задания проблемы со скачиванием оригинальных текстов, то работу пришлось строить относительно уже предобработаных \n",
    "\n",
    "2. Часть II\n",
    "   - Обучил модели представления слов по аналогии с семинаров, поэтому все ожидаемо получилось. Word2Vec дает относительно внемяемые результаты на синонимах / исключениях слов / операциях с векторами слов. Но примеры в ноутбуке я оставил по наиболее характерным и популярным словам, понятно, что на других примерах может быть больше шума\n",
    "   - Результаты визуализации порадовали: как минимум, образовались небольшие кластеры для слов с ярко выраженными значениями (не знаю, насколько уместно так говорить, моя интерпретация): время, перемещения, имена героев, речь (например 'said' и 'nodded' оказываются близки по смыслу, хотя синтаксически могут использоваться по-разному)\n",
    "\n",
    "3. Часть III\n",
    "\n",
    "   - fasttext оказался силен (f1 macro: 0.17), особенно после подбора гиперпараметров по сетке (он действительно фаст, поэтому такое с ним делается относительно просто)\n",
    "   - Для работы с NN предобратал данные (опять же по аналогии с семинарами) и сделал dataloader'ы, которые в дальнейшем использовались при обучении и валидации всех реализаций\n",
    "   - Сверточная NN относительно моих ожиданий, навыков в DL и первых результатов получилась неплохой. Поэксперемтировал с количеством фильтров и окнами, но по-хорошему надо еще попробовать использовать другие пулинги. Пока вывод (может быть очевидный для всех) но главный для меня - количество сверток реально решает, все таки нужно несколько разных слоев, для того чтобы улавливать сложные взаимосвязи слов в тексте. Разница между самой дефолтной реализацией и текущей искренне удивила (даже при не оч больших размерностях и кол-ве параметров)\n",
    "   - LSTM так и не удалось заставить учиться. Пробовал все, что смог нагуглить / на чатгптить, но результаты метрик на каждой эпохе либо случайны, либо стагнируют. Почти наверное дело в моем все еще недостаточном понимании того, как они работают. (*Код в RNN представлен дефолтный без пуллинга и попыток в attention, тк откатывал все до +/- стартового состояния, чтобы позже попробовать еще, но по итогу не успеваю)\n",
    "   - Аугментация и CNN так же порадовали, тк даже рандомная замена синонимами (причем сначала рандомная внутри текста, потом рандомный sample из выборки аугментированных текстов) дала ощутимый прирост (0.01 в f1-macro, относительно общих рез-ов, это ощутимо))). В идеале конечно желательно либо (а) прогнать бы ее именно над слабо представленными  классами, чтобы сбалансировать выборку, либо (б) проанализировать ошибки предсказаний модели и поработать над выборками по классам с худшими результатами\n",
    "\n",
    "4. Часть IV\n",
    "    - feci quod potui faciant meliora potentes"
   ]
  }
 ],
 "metadata": {
  "kernelspec": {
   "display_name": "Python 3 (ipykernel)",
   "language": "python",
   "name": "python3"
  },
  "language_info": {
   "codemirror_mode": {
    "name": "ipython",
    "version": 3
   },
   "file_extension": ".py",
   "mimetype": "text/x-python",
   "name": "python",
   "nbconvert_exporter": "python",
   "pygments_lexer": "ipython3",
   "version": "3.10.11"
  }
 },
 "nbformat": 4,
 "nbformat_minor": 4
}
