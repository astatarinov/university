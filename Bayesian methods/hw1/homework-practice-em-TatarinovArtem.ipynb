{
 "cells": [
  {
   "cell_type": "markdown",
   "metadata": {},
   "source": [
    "# Практическое задание 1. EM-алгоритм\n",
    "\n",
    "[Источник практического задания](https://github.com/mmp-mmro-team/mmp_mmro_spring_2024/blob/main/Homework3/homework-practice-09-em.ipynb)\n",
    "\n",
    "## Оценивание и штрафы\n",
    "Каждая из задач имеет определенную «стоимость» (указана в скобках около задачи).\n",
    "\n",
    "Сдавать задание после указанного жёсткого срока сдачи нельзя.\n",
    "\n",
    "Задание выполняется самостоятельно. «Похожие» решения считаются плагиатом и все задействованные студенты (в том числе те, у кого списали) не могут получить за него больше 0 баллов. Если вы нашли решение какого-то из заданий (или его часть) в открытом источнике, необходимо указать ссылку на этот источник в отдельном блоке в конце вашей работы (скорее всего вы будете не единственным, кто это нашел, поэтому чтобы исключить подозрение в плагиате, необходима ссылка на источник).\n",
    "\n",
    "Неэффективная реализация кода может негативно отразиться на оценке.\n",
    "\n",
    "## Формат сдачи !!ВАЖНО!!!\n",
    "Задания сдаются через систему google classroom. Посылка должна содержать:\n",
    "* Ноутбук homework-practice-em-Username.ipynb\n",
    "\n",
    "Username — ваша фамилия и имя на латинице именно в таком порядке"
   ]
  },
  {
   "cell_type": "markdown",
   "metadata": {},
   "source": [
    "<p style=\"color:#de3815;font-size:25px;\">\n",
    "Напоминание об оформлении и выполнении ноутбука\n",
    "</p>"
   ]
  },
  {
   "cell_type": "markdown",
   "metadata": {},
   "source": [
    "* Все строчки должны быть выполнены. Нужно, чтобы output команды можно было увидеть, не запуская ячейки (кроме редких случаев, когда необходимо намеренно скрыть ненужный output, про такие случаи желательно писать пояснения в тексте). **В противном случае -1 балл**\n",
    "* При оформлении ДЗ нужно пользоваться данным файлом в качестве шаблона. Не нужно удалять и видоизменять написанный код и текст, если явно не указана такая возможность. **В противном случае -1 балл**\n",
    "* В anytask обязательно нужно прикреплять отдельно файл с расширением ipynb (не в архиве, а именно отдельно). Если необходимо отправить еще какие-то файлы, то вынесите их в отдельный архив (если файлов много) и пришлите. **В противном случае -0.5 балла**\n",
    "---\n",
    "* Пишите, пожалуйста, выводы и ответы на вопросы в текстовых ячейках/при помощи print в коде. При их отсутствии мы не можем понять, сделали ли вы задание и понимаете, что происходит, и **поэтому будем снижать баллы**\n",
    "* Если алгоритм не сказано реализовывать явно, его всегда можно импортировать из библиотеки.\n",
    "---\n",
    "* Про графики. _Штрафы будут применяться к каждому результату команды отображения графика (plt.show() и др. аналогичные). Исключением являются графики, генерируемые функциями каких-либо сторонних библиотек, если их нельзя кастомизировать_\n",
    "\n",
    "    * должно быть название (plt.title) графика; **В противном случае &ndash; -0.05 балла**\n",
    "    * на графиках должны быть подписаны оси (plt.xlabel, plt.ylabel); **В противном случае &ndash; -0.025 балла за каждую ось**\n",
    "    * должны быть подписаны единицы измерения (если это возможно); **В противном случае &ndash; -0.025 балла за каждую ось**\n",
    "    * все названия должны быть понятны любому человеку, знакомому с терминологией, без заглядывания в код; **В противном случае &ndash; -0.05 балла**\n",
    "    * подписи тиков на осях не должны сливаться как на одной оси, так и между ними; **В противном случае &ndash; -0.025 балла за каждую ось**\n",
    "    * если изображено несколько сущностей на одном холсте (например несколько функций), то необходима поясняющая легенда (plt.legend); **В противном случае &ndash; -0.05 балла**\n",
    "    * все линии на графиках должны быть чётко видны (нет похожих цветов или цветов, сливающихся с фоном); **В противном случае &ndash; -0.05 балла**\n",
    "    * если отображена величина, имеющая очевидный диапазон значений (например, проценты могут быть от 0 до 100), то желательно масштабировать ось на весь диапазон значений (исключением является случай, когда вам необходимо показать малое отличие, которое незаметно в таких масштабах);\n",
    "    * графики должны быть не супер-микро и не супер-макро по размерам, так, чтобы можно было увидеть все, что нужно.\n",
    "    * при необходимости улучшения наглядности графиков, можно пользоваться логарифмической шкалой по осям x/y.\n",
    "    \n",
    "    \n",
    "### А также..\n",
    "\n",
    "* Для удобства поиска вопросов, на которые от вас просят ответа, мы пометили их знаком **(?)**\n",
    "* Знак **(!)** означает, что выполнение замечания необходимо для **возможности получения полного балла**"
   ]
  },
  {
   "cell_type": "markdown",
   "metadata": {},
   "source": [
    "# Generative model of Labels, Abilities, and Difficulties (GLAD)\n",
    "\n",
    "В [семинаре 15](https://github.com/esokolov/ml-course-hse/blob/master/2020-spring/seminars/sem15-em.pdf) мы рассмотрели задачу восстановления истинной разметки по меткам от экспертов (которым мы не можем доверять в полной мере, более того, их предсказания могут расходиться).\n",
    "\n",
    "Рассмотрим следующую вероятностную модель:\n",
    "\n",
    "$$ p(L, Z | \\alpha, \\beta) = \\prod_{i=1}^{n} \\prod_{j=1}^m \\sigma(\\alpha_j\\beta_i)^{[l_{ij}=z_i]}\\sigma(-\\alpha_j\\beta_i)^{1-[l_{ij}=z_i]} p(z_j)$$\n",
    "\n",
    "где $l_{ij} -$ ответ $j$-го эксперта на задачу $i$, $z_j -$ истинная разметка, $\\alpha_j, \\beta_i-$ уровень экспертизы и сложность задачи соответственно. Для более подробного описания модели можно прочитать материалы семинара, а также [оригинальную статью](http://papers.nips.cc/paper/3644-whose-vote-should-count-more-optimal-integration-of-labels-from-labelers-of-unknown-expertise.pdf). Априорное распределение положим равномерным: $p(z_i) = 0.5$."
   ]
  },
  {
   "cell_type": "code",
   "execution_count": 71,
   "metadata": {},
   "outputs": [],
   "source": [
    "import numpy as np\n",
    "from sklearn.metrics import accuracy_score\n",
    "seed = 0xDEADF00D\n",
    "np.random.seed(seed)\n",
    "\n",
    "P_PRIOR = 0.5"
   ]
  },
  {
   "cell_type": "code",
   "execution_count": 3,
   "metadata": {},
   "outputs": [
    {
     "name": "stdout",
     "output_type": "stream",
     "text": [
      "Число задач (n_problems): 2000, число экспертов (n_experts): 20\n"
     ]
    }
   ],
   "source": [
    "L = np.load('L.npy')\n",
    "n, m = L.shape\n",
    "print(f\"Число задач (n_problems): {n}, число экспертов (n_experts): {m}\")"
   ]
  },
  {
   "cell_type": "markdown",
   "metadata": {},
   "source": [
    "---"
   ]
  },
  {
   "cell_type": "markdown",
   "metadata": {},
   "source": [
    "**Задание 1. (2 балла)** Реализуйте EM-алгоритм для заданной выше модели. Вы можете воспользоваться предложенными шаблонами или написать свои. \n",
    "\n",
    "Обратите внимание, что правдоподобие моделирует не вероятность метки $l_{ij}$ принять значение 1 или 0, а вероятность того, что она равна скрытой переменной $z_i$, т.е. $p(l_{ij} = z_j|z_j, \\alpha_j, \\beta_i) \\neq p(l_{ij} = 1|\\alpha_j, \\beta_i) $. При этом заранее неизвестно, какая из скрытых переменных соответствует метке 1. Не забывайте, что параметры $\\beta_i$ должны быть неотрицательными; для этого оптимизируйте $\\log \\beta$. На M-шаге можете использовать как один шаг градиентного спуска, так и несколько: разумные результаты у вас должны получаться вне зависимости от числа итераций.\n",
    "\n",
    "**Подсказки (могут быть актуальны на все задание):**\n",
    "\n",
    "* При работе с вероятностями не забывайте о точности:\n",
    " 1. Используйте логарифмы вероятностей.\n",
    " 2. $\\log \\sigma(a)$ лучше преобразовать в $\\log \\sigma(a) = -\\log(1 + \\exp(-a)) = -\\mathrm{softplus}(-a) $\n",
    " 3. Ещё полезные функции: `scipy.special.expit`, `scipy.special.logsumexp`, `np.log1p`\n",
    "* Для отладки может быть полезно проверить градиенты, возвращаемые функциями `alpha_grad_lb` и `logbeta_grad_lb` с помощью `scipy.optimize.check_grad`.\n",
    "* Размеры возвращаемых значений, указанные в докстринге функций могут помочь вам понять, что необходимо возвращать\n",
    "* Почитайте докстринги, в них есть подсказки и ссылки на формулы из семинара\n",
    "* Если у вас вылезают где-то nan/inf -- попробуйте урезать значения снизу. Например, у вас есть место, где берется log(theta) -- тут имеет смысл урезать theta = max(theta, eps), где eps какое-то маленькое число (например 1e-8)"
   ]
  },
  {
   "cell_type": "markdown",
   "metadata": {},
   "source": [
    "---"
   ]
  },
  {
   "cell_type": "code",
   "execution_count": 132,
   "metadata": {},
   "outputs": [],
   "source": [
    "import numpy as np\n",
    "from scipy.special import softmax, expit\n",
    "\n",
    "P_PRIOR = 0.5\n",
    "\n",
    "def softplus(x):\n",
    "    '''stable version of log(1 + exp(x))'''\n",
    "    c = (x > 20) * 1.\n",
    "    return np.log1p(np.exp(x * (1-c)) * (1-c)) + x * c\n",
    "\n",
    "\n",
    "def log_likelihood(alpha, beta, L, z):\n",
    "    \"\"\" p(l=z|z, \\alpha, \\beta)\n",
    "    Args:\n",
    "        alpha: ndarray of shape (n_experts).\n",
    "        beta: ndarray of shape (n_problems).\n",
    "        L: ndarray of shape (n_problems, n_experts).\n",
    "        z: ndarray of shape (n_problems).\n",
    "    Returns:\n",
    "        ndarray of shape (n_problems,)\n",
    "    Tips:\n",
    "        See page 7 of seminar, the second formula for details\n",
    "    \"\"\"\n",
    "\n",
    "    alpha_beta_product = (alpha[:, np.newaxis] * beta[np.newaxis, :]).T\n",
    "    \n",
    "    mask = L == z[:, np.newaxis]\n",
    "\n",
    "    return (\n",
    "        -softplus(-alpha_beta_product) * mask.astype(float) +\n",
    "        -softplus(alpha_beta_product) * (~mask).astype(float)\n",
    "    )\n",
    "\n",
    "def posterior(alpha, beta, L):\n",
    "    \"\"\" Posterior over true labels z p(z|l, \\alpha, \\beta)\n",
    "    Args:\n",
    "        alpha: ndarray of shape (n_experts).\n",
    "        beta: ndarray of shape (n_problems).\n",
    "        L: ndarray of shape (n_problems, n_experts).\n",
    "    Returns:\n",
    "        ndarray of shape (2, n_problems)\n",
    "        (2 -- for z = 0 and for z = 1, n_problems -- for each problem in data)\n",
    "    Tip:\n",
    "        You may use function log_likelihood here\n",
    "        See page 7 of seminar, the last formula for details\n",
    "    \"\"\"\n",
    "    gamma_0 = (\n",
    "        np.log(P_PRIOR) +\n",
    "        log_likelihood(alpha, beta, L, np.zeros(L.shape[0])).sum(axis=1)\n",
    "    )\n",
    "    gamma_1 = (\n",
    "        np.log(P_PRIOR) +\n",
    "        log_likelihood(alpha, beta, L, np.ones(L.shape[0])).sum(axis=1)\n",
    "    )\n",
    "    \n",
    "    gamma = np.stack([gamma_0.T, gamma_1.T], axis=1)\n",
    "\n",
    "    return softmax(gamma, axis=1).T\n",
    "\n",
    "\n",
    "def alpha_grad_lb(alpha, beta, L, q):\n",
    "    \"\"\" Gradient of lower bound wrt alpha\n",
    "    Args:\n",
    "        alpha: ndarray of shape (n_experts).\n",
    "        beta: ndarray of shape (n_problems).\n",
    "        L: ndarray of shape (n_problems, n_experts).\n",
    "        q: ndarray of shape (2, n_problems).\n",
    "    Returns:\n",
    "        ndarray of shape (n_experts,)\n",
    "    Tips:\n",
    "        See pages 8-9 of seminar for details\n",
    "    \"\"\"\n",
    "    alpha_beta = (alpha[:, np.newaxis] * beta[np.newaxis, :]).T\n",
    "    mask = (L == 0)\n",
    "    \n",
    "    # 2000 x 20\n",
    "    t0 = mask * expit(-alpha_beta) - (~mask).astype(float) * expit(alpha_beta)\n",
    "    t1 = (~mask).astype(float) * expit(-alpha_beta) - mask * expit(alpha_beta)\n",
    "\n",
    "    # 2000 x 20\n",
    "    tq0 = t0 * q[0, :][:, np.newaxis]\n",
    "    tq1 = t1 * q[1, :][:, np.newaxis]\n",
    "\n",
    "    # 2 x 2000 x 20 --> 20\n",
    "    tqb = (np.stack([tq0, tq1]) * beta[:, np.newaxis]).sum(axis=(0, 1))\n",
    "\n",
    "    return tqb\n",
    "    \n",
    "\n",
    "def logbeta_grad_lb(alpha, beta, L, q):\n",
    "    \"\"\" Gradient of lower bound wrt alpha\n",
    "    Args:\n",
    "        alpha: ndarray of shape (n_experts).\n",
    "        beta: ndarray of shape (n_problems).\n",
    "        L: ndarray of shape (n_problems, n_experts).\n",
    "        q: ndarray of shape (2, n_problems).\n",
    "    Returns:\n",
    "        ndarray of shape (n_problems,)\n",
    "    Tips:\n",
    "        See pages 8-9 of seminar for details\n",
    "    \"\"\"\n",
    "    alpha_beta = (alpha[:, np.newaxis] * beta[np.newaxis, :]).T\n",
    "    mask = (L == 0)\n",
    "    \n",
    "    # 2000 x 20\n",
    "    t0 = mask * expit(-alpha_beta) - (~mask).astype(float) * expit(alpha_beta)\n",
    "    t1 = (~mask).astype(float) * expit(-alpha_beta) - mask * expit(alpha_beta)\n",
    "\n",
    "    # 2000 x 20\n",
    "    tq0 = t0 * q[0, :][:, np.newaxis]\n",
    "    tq1 = t1 * q[1, :][:, np.newaxis]\n",
    "\n",
    "    # 2 x 2000 x 20 --> 2000\n",
    "    tqa = (np.stack([tq0, tq1]) * alpha[np.newaxis, :]).sum(axis=(0, 2)) * beta\n",
    "\n",
    "    return tqa\n",
    "\n",
    "\n",
    "def lower_bound(alpha, beta, L, q):\n",
    "    \"\"\" Lower bound\n",
    "    Args:\n",
    "        alpha: ndarray of shape (n_experts).\n",
    "        beta: ndarray of shape (n_problems).\n",
    "        L: ndarray of shape (n_problems, n_experts).\n",
    "        q: ndarray of shape (2, n_problems).\n",
    "    Returns:\n",
    "        single value, number\n",
    "    Tips:\n",
    "        You may use function log_likelihood here\n",
    "        See page 8 of seminar, the fourth formula for details\n",
    "    \"\"\"\n",
    "    n = L.shape[0]\n",
    "    \n",
    "    llh_0 = log_likelihood(alpha, beta, L, np.zeros(n))\n",
    "    llh_1 = log_likelihood(alpha, beta, L, np.ones(n))\n",
    "    \n",
    "    return np.sum(llh_0 * q[np.newaxis, 0].T + llh_1 * q[np.newaxis, 0].T)\n"
   ]
  },
  {
   "cell_type": "markdown",
   "metadata": {},
   "source": [
    "**Подсказка:**\n",
    "* При проверке alpha значения, выдываемые функцией `check_grad` должны быть не более 0.01. Иначе у вас где-то ошибка\n",
    "* При проверке logbeta значения, выдываемые функцией `check_grad` должны быть не более 0.05. Иначе у вас где-то ошибка"
   ]
  },
  {
   "cell_type": "code",
   "execution_count": 133,
   "metadata": {
    "scrolled": true
   },
   "outputs": [
    {
     "data": {
      "text/plain": [
       "0.0013666718199442651"
      ]
     },
     "execution_count": 133,
     "metadata": {},
     "output_type": "execute_result"
    }
   ],
   "source": [
    "from scipy.optimize import check_grad\n",
    "from scipy.special import expit\n",
    "\n",
    "alpha, logbeta = np.random.randn(m), np.random.randn(n)\n",
    "beta = np.exp(logbeta)\n",
    "q = np.ones((2, len(beta))) * 0.5\n",
    "\n",
    "check_grad(\n",
    "    lambda a: lower_bound(a, beta, L, q),\n",
    "    lambda a: alpha_grad_lb(a, beta, L, q),\n",
    "    alpha\n",
    ")"
   ]
  },
  {
   "cell_type": "code",
   "execution_count": 134,
   "metadata": {},
   "outputs": [
    {
     "data": {
      "text/plain": [
       "0.012215181913886123"
      ]
     },
     "execution_count": 134,
     "metadata": {},
     "output_type": "execute_result"
    }
   ],
   "source": [
    "check_grad(\n",
    "    lambda lb: lower_bound(alpha, np.exp(lb), L, q),\n",
    "    lambda lb: logbeta_grad_lb(alpha, np.exp(lb), L, q),\n",
    "    logbeta\n",
    ")"
   ]
  },
  {
   "cell_type": "code",
   "execution_count": 97,
   "metadata": {},
   "outputs": [],
   "source": [
    "from tqdm import tqdm \n",
    "\n",
    "def em(L, n_steps=1000, lr=1e-3, revert_thr=float('-inf')):\n",
    "    # initialize parameters\n",
    "    alpha, logbeta = np.random.randn(m), np.random.randn(n)\n",
    "    q = np.ones((2, len(beta))) * 0.5\n",
    "\n",
    "    # assert np.isnan(alpha).sum() == 0, f'step={step}, alpha contains None'\n",
    "    # assert np.isnan(logbeta).sum() == 0, f'step={step}, logbeta contains None'\n",
    "    # assert np.isnan(q).sum() == 0, f'step={step}, q contains None'\n",
    "\n",
    "    for step in tqdm(range(n_steps)):\n",
    " \n",
    "        # E-step\n",
    "\n",
    "        q = posterior(alpha, np.exp(logbeta), L)\n",
    "\n",
    "        assert np.isnan(q).sum() == 0, f'step={step}, logbeta contains None'\n",
    "    \n",
    "        # M-step\n",
    "        alpha_grad = alpha_grad_lb(alpha, np.exp(logbeta), L, q) \n",
    "        logbeta_grad = logbeta_grad_lb(alpha, np.exp(logbeta), L, q) \n",
    "        \n",
    "        # assert np.isnan(logbeta).sum() == 0, f'step={step}, logbeta contains None, {np.isnan(logbeta).sum()}'\n",
    "        # assert np.isnan(q).sum() == 0, f'step={step}, q contains None, {np.isnan(q).sum()}'\n",
    "\n",
    "        alpha += lr * alpha_grad\n",
    "        logbeta += lr * logbeta_grad\n",
    "\n",
    "    # если нет оснований предполагать, что большинство экспертов неэкспертны\n",
    "    # так не очень правильно делать, оставлял только для отладки на текущей выборке\n",
    "    # чтобы не исправлять метки на расчете accuracy по правильным ответам\n",
    "    major_pred = np.mean(L, axis=1) >= 0.5\n",
    "    em_pred = q.argmax(axis=0)\n",
    "    if accuracy_score(major_pred, em_pred) <= revert_thr:\n",
    "        alpha = -alpha\n",
    "        q = np.array([q[1], q[0]])\n",
    "        \n",
    "    return alpha, np.exp(logbeta), q"
   ]
  },
  {
   "cell_type": "code",
   "execution_count": 135,
   "metadata": {},
   "outputs": [
    {
     "name": "stderr",
     "output_type": "stream",
     "text": [
      "100%|██████████| 1000/1000 [00:03<00:00, 265.43it/s]\n"
     ]
    }
   ],
   "source": [
    "alpha, beta, q = em(L)"
   ]
  },
  {
   "cell_type": "markdown",
   "metadata": {},
   "source": [
    "---"
   ]
  },
  {
   "cell_type": "markdown",
   "metadata": {},
   "source": [
    "**Задание 2. (1 балл)** Загрузите настоящую разметку. Посчитайте `accuracy` разметки, полученной с помощью обычного голосования по большинству среди экспертов, и сравните его с качеством **(?)**, полученным с помощью EM-алгоритма."
   ]
  },
  {
   "cell_type": "markdown",
   "metadata": {},
   "source": [
    "**Разбалловка:**\n",
    "* **0.5 балла** -- качество голосования не менее 0.904\n",
    "* **0.5 балла** -- качестве EM не менее 0.95"
   ]
  },
  {
   "cell_type": "markdown",
   "metadata": {},
   "source": [
    "**Подсказка:**\n",
    "* Помните, что алгоритму не важно, какая метка 0, а какая 1, поэтому если получите качество <0.5, то просто поменяйте метки классов (не забудьте также поменять знак у $\\alpha$). "
   ]
  },
  {
   "cell_type": "markdown",
   "metadata": {},
   "source": [
    "---"
   ]
  },
  {
   "cell_type": "code",
   "execution_count": 136,
   "metadata": {},
   "outputs": [
    {
     "name": "stdout",
     "output_type": "stream",
     "text": [
      "majority:  0.904\n",
      "EM      :  0.9555\n"
     ]
    }
   ],
   "source": [
    "y = np.load('y.npy')\n",
    "\n",
    "major_pred = np.mean(L, axis=1) > 0.5\n",
    "em_pred = q.argmax(axis=0)\n",
    "\n",
    "print(\"majority: \", accuracy_score(y, major_pred))\n",
    "print(\"EM      : \", accuracy_score(y, em_pred))"
   ]
  },
  {
   "cell_type": "markdown",
   "metadata": {},
   "source": [
    "---"
   ]
  },
  {
   "cell_type": "markdown",
   "metadata": {},
   "source": [
    "**Задание 3. (0.5 балла)** **(?)** Попробуйте проинтерпретировать полученные коэфициенты $\\alpha$. **(?)**  Есть ли в выборке эксперты, которые намеренно голосуют неверно? **(?)**  Как это можно понять по альфам? \n",
    "\n",
    "* Продемонстрируйте, что эксперты действительно чаще голосуют за неверный класс. \n",
    "* Отобразите визуализацию зависимости доли врено размеченных экспертом объектов от коэффициента $\\alpha$.\n",
    "* **(?)**  Прокомментируйте результаты и полученную зависимость."
   ]
  },
  {
   "cell_type": "markdown",
   "metadata": {},
   "source": [
    "**Подсказки:**\n",
    "* Если вы отобразили или хотели отобразить зависимость при помощи обычного plot (график), то посмотрите повнимательнее/подумайте, почему это не очень хорошая визуализация. **Для возможности получения полного балла** правильно будет использовать тип отображения scatter plot.\n",
    "*  Также **для возможности получения полного балла** вам необходимо проинтерпретировать смысл зависимости для всех групп альф, которые вы увидите (спойлер: их должно быть 3:)"
   ]
  },
  {
   "cell_type": "markdown",
   "metadata": {},
   "source": [
    "---"
   ]
  },
  {
   "cell_type": "markdown",
   "metadata": {},
   "source": [
    "\"Плохих\" экспертов проверяем по альфам (это было в постановке задачи)"
   ]
  },
  {
   "cell_type": "code",
   "execution_count": 141,
   "metadata": {},
   "outputs": [
    {
     "name": "stdout",
     "output_type": "stream",
     "text": [
      "Доля неэкспертных экспертов:  0.2\n"
     ]
    }
   ],
   "source": [
    "print(\"Доля неэкспертных экспертов: \", np.mean(alpha < 0))"
   ]
  },
  {
   "cell_type": "code",
   "execution_count": 138,
   "metadata": {},
   "outputs": [
    {
     "data": {
      "image/png": "[encoded data removed]",
      "text/plain": [
       "<Figure size 800x400 with 1 Axes>"
      ]
     },
     "metadata": {},
     "output_type": "display_data"
    }
   ],
   "source": [
    "# (∩ᄑ_ᄑ)⊃━☆ﾟ*･｡*\n",
    "\n",
    "import matplotlib.pyplot as plt  \n",
    "  \n",
    "part_correct_problems = (L == y[:, None]).mean(axis=0)  \n",
    "\n",
    "x = np.linspace(alpha.min(), alpha.max(), num=len(alpha))\n",
    "draw_line = expit(x)\n",
    "\n",
    "plt.figure(figsize=(8, 4)) \n",
    "plt.scatter(alpha, part_correct_problems, color='blue', label='Доля верных ответов')\n",
    "plt.plot(x, draw_line, color='red', label='expit(alpha)', linestyle='--')   \n",
    "plt.title(\"Доля верных ответов в зависимости от полученного alpha эксперта\", fontsize=12)\n",
    "plt.xlabel(\"alpha\", fontsize=12)\n",
    "plt.ylabel(\"Доля верных\", fontsize=12)\n",
    "plt.grid(True)\n",
    "plt.legend(loc='upper left')\n",
    "plt.show()  \n"
   ]
  },
  {
   "cell_type": "markdown",
   "metadata": {},
   "source": [
    "1) про три класса спойлер подтвердился, это хорошо\n",
    "\n",
    "2) полученные альфы хорошо ложатся в заданную функциональную зависимость вероятности правильного ответа, это тоже хорошо\n",
    "\n",
    "3) \n",
    "    - доля ответов у экспертов с отрицательными альфами действительно близка к 0 (то, есть эти эксперты должны были намеренно голосовать неправильно)\n",
    "    - обратная ситуация у \"хороших\" экспертов\n",
    "    - и есть так же класс экспертов дающих чуть лучше чем случайные ответы (что так же подразумевалось для alpha~0)\n",
    "\n",
    "4) учитывая маленький разброс альф при одинаковой доле правильных ответов, можем говорить, что альфа может действительно быть интерпретирован, как мера качества экспертов\n",
    "\n",
    "5) особенная ценность, на мой взгляд, заключается в том, что альфы мы получаем вне зависимости от истинной разметки - т. е. можем проверить экспертов без других экспертов (тут как с блокчейном, главное чтобы > половины пользователей были честными))) "
   ]
  },
  {
   "cell_type": "markdown",
   "metadata": {},
   "source": [
    "---"
   ]
  },
  {
   "cell_type": "markdown",
   "metadata": {},
   "source": [
    "**Задание 4. (бонус, 1 балл)**  Как уже было замечено выше, модели не важно, какой класс 1, а какой 0. Скажем, если все эксперты оказались максимально противными и ставят метку с точностью наоборот, то у вас будет полная согласованность между экспертами, при этом невозможно понять правильно они разметили выборку или нет, смотря только на такую разметку. Чтобы избежать этого, можно включать в выборку вопрос с заведомо известным ответом, тогда вы сможете определить, ставит ли эксперт специально неверные метки.\n",
    "\n",
    "Чтобы обощить данную модель на случай заданий с заведомо известной меткой, достоточно не делать для них E-шаг, а всегда полагать апостериорное распределение вырожденным в истинном классе. \n",
    "\n",
    "* Реализуйте данную модель и используйте истинную разметку *для нескольких* задач из обучения. \n",
    "* **(?)**  Сравните модифицированный алгоритм с обычным. \n",
    "* **(?)** Проинтерпретируйте полученные результаты."
   ]
  },
  {
   "cell_type": "markdown",
   "metadata": {},
   "source": [
    "**Подсказка:**\n",
    "* Как можно сравнить, что модифицированный алгоритм действительно \"лучше\" обычного: запускаем обычный и модифицированный много раз (например, 100). Для каждой версии считаем распределение полученных accuracy_score. Если все сделано верно, то в модифицированной версии доля больших значений accuracy должна быть выше, чем низких (это как раз и есть сигнал о перепутывании классов), а в обычной версии -- доли должны быть примерно равны. **Для возможности получения полного балла мы ожидаем от вас какого-то такого или похожего сравнения**"
   ]
  },
  {
   "cell_type": "markdown",
   "metadata": {},
   "source": [
    "---"
   ]
  },
  {
   "cell_type": "markdown",
   "metadata": {},
   "source": [
    "План такой: убираем из L метки перед расчетом постериорного, потом добавляем их обратно с заданным распределением явно указывающим на верный класс"
   ]
  },
  {
   "cell_type": "code",
   "execution_count": 160,
   "metadata": {},
   "outputs": [
    {
     "data": {
      "text/plain": [
       "(10, 2)"
      ]
     },
     "execution_count": 160,
     "metadata": {},
     "output_type": "execute_result"
    }
   ],
   "source": [
    "np.array([[0.95, 0.05] if i==0 else [0.05, 0.95] for i in y[y_true_idx]]).shape"
   ]
  },
  {
   "cell_type": "code",
   "execution_count": 181,
   "metadata": {},
   "outputs": [],
   "source": [
    "# (∩ᄑ_ᄑ)⊃━☆ﾟ*･｡*\n",
    "\n",
    "from tqdm import tqdm \n",
    "\n",
    "def em_with_real_labels(L, n_steps=1000, lr=1e-3, true_labels_num=100):\n",
    "    # initialize parameters\n",
    "    alpha, logbeta = np.random.randn(m), np.random.randn(n)\n",
    "\n",
    "    y_true_idx = np.random.randint(0, L.shape[0], size=true_labels_num)\n",
    "    mask = np.ones(L.shape[0], dtype=bool)  \n",
    "    print({'mask.shape': mask.shape})\n",
    "    mask[y_true_idx] = False  \n",
    "    L_filtered = L[mask]  \n",
    "\n",
    "    print(L_filtered.shape)\n",
    "    \n",
    "\n",
    "    q = np.ones((2, len(beta))) * 0.5\n",
    "    # не уверен, но по опыту: нули подавать в распределение не очень план\n",
    "    q_masked = np.array([[0.95, 0.05] if i==0 else [0.05, 0.95] for i in y[y_true_idx]]).T\n",
    "    print(q_masked.shape)\n",
    "    for step in tqdm(range(n_steps)):\n",
    " \n",
    "        # E-step\n",
    "\n",
    "        q_filtered = posterior(alpha, np.exp(logbeta[mask]), L_filtered)\n",
    "        print(q_filtered.shape)\n",
    "        q = np.concatenate([q_filtered, q_masked], axis=1)\n",
    "        print(q.shape)\n",
    "\n",
    "        assert np.isnan(q).sum() == 0, f'step={step}, logbeta contains None'\n",
    "    \n",
    "        # M-step\n",
    "        q = np.concatenate([L_filtered, L[~mask]], axis=0)\n",
    "        alpha_grad = alpha_grad_lb(alpha, np.exp(logbeta), L, q) \n",
    "        logbeta_grad = logbeta_grad_lb(alpha, np.exp(logbeta), L, q) \n",
    "\n",
    "        alpha += lr * alpha_grad\n",
    "        logbeta += lr * logbeta_grad\n",
    "        \n",
    "    return alpha, np.exp(logbeta), q, mask"
   ]
  },
  {
   "cell_type": "code",
   "execution_count": 183,
   "metadata": {},
   "outputs": [
    {
     "name": "stdout",
     "output_type": "stream",
     "text": [
      "{(2000,): (2000,)}\n",
      "(1901, 20)\n",
      "(2, 100)\n"
     ]
    },
    {
     "name": "stderr",
     "output_type": "stream",
     "text": [
      "  0%|          | 0/1000 [00:00<?, ?it/s]"
     ]
    },
    {
     "name": "stdout",
     "output_type": "stream",
     "text": [
      "(2, 1901)\n",
      "(2, 2001)\n"
     ]
    },
    {
     "name": "stderr",
     "output_type": "stream",
     "text": [
      "\n"
     ]
    },
    {
     "ename": "ValueError",
     "evalue": "operands could not be broadcast together with shapes (2000,20) (20,1) ",
     "output_type": "error",
     "traceback": [
      "\u001b[0;31m---------------------------------------------------------------------------\u001b[0m",
      "\u001b[0;31mValueError\u001b[0m                                Traceback (most recent call last)",
      "Cell \u001b[0;32mIn[183], line 1\u001b[0m\n\u001b[0;32m----> 1\u001b[0m alpha, beta, q, mask \u001b[38;5;241m=\u001b[39m \u001b[43mem_with_real_labels\u001b[49m\u001b[43m(\u001b[49m\u001b[43mL\u001b[49m\u001b[43m)\u001b[49m\n",
      "Cell \u001b[0;32mIn[181], line 35\u001b[0m, in \u001b[0;36mem_with_real_labels\u001b[0;34m(L, n_steps, lr, true_labels_num)\u001b[0m\n\u001b[1;32m     33\u001b[0m \u001b[38;5;66;03m# M-step\u001b[39;00m\n\u001b[1;32m     34\u001b[0m q \u001b[38;5;241m=\u001b[39m np\u001b[38;5;241m.\u001b[39mconcatenate([L_filtered, L[\u001b[38;5;241m~\u001b[39mmask]], axis\u001b[38;5;241m=\u001b[39m\u001b[38;5;241m0\u001b[39m)\n\u001b[0;32m---> 35\u001b[0m alpha_grad \u001b[38;5;241m=\u001b[39m \u001b[43malpha_grad_lb\u001b[49m\u001b[43m(\u001b[49m\u001b[43malpha\u001b[49m\u001b[43m,\u001b[49m\u001b[43m \u001b[49m\u001b[43mnp\u001b[49m\u001b[38;5;241;43m.\u001b[39;49m\u001b[43mexp\u001b[49m\u001b[43m(\u001b[49m\u001b[43mlogbeta\u001b[49m\u001b[43m)\u001b[49m\u001b[43m,\u001b[49m\u001b[43m \u001b[49m\u001b[43mL\u001b[49m\u001b[43m,\u001b[49m\u001b[43m \u001b[49m\u001b[43mq\u001b[49m\u001b[43m)\u001b[49m \n\u001b[1;32m     36\u001b[0m logbeta_grad \u001b[38;5;241m=\u001b[39m logbeta_grad_lb(alpha, np\u001b[38;5;241m.\u001b[39mexp(logbeta), L, q) \n\u001b[1;32m     38\u001b[0m alpha \u001b[38;5;241m+\u001b[39m\u001b[38;5;241m=\u001b[39m lr \u001b[38;5;241m*\u001b[39m alpha_grad\n",
      "Cell \u001b[0;32mIn[132], line 81\u001b[0m, in \u001b[0;36malpha_grad_lb\u001b[0;34m(alpha, beta, L, q)\u001b[0m\n\u001b[1;32m     78\u001b[0m t1 \u001b[38;5;241m=\u001b[39m (\u001b[38;5;241m~\u001b[39mmask)\u001b[38;5;241m.\u001b[39mastype(\u001b[38;5;28mfloat\u001b[39m) \u001b[38;5;241m*\u001b[39m expit(\u001b[38;5;241m-\u001b[39malpha_beta) \u001b[38;5;241m-\u001b[39m mask \u001b[38;5;241m*\u001b[39m expit(alpha_beta)\n\u001b[1;32m     80\u001b[0m \u001b[38;5;66;03m# 2000 x 20\u001b[39;00m\n\u001b[0;32m---> 81\u001b[0m tq0 \u001b[38;5;241m=\u001b[39m \u001b[43mt0\u001b[49m\u001b[43m \u001b[49m\u001b[38;5;241;43m*\u001b[39;49m\u001b[43m \u001b[49m\u001b[43mq\u001b[49m\u001b[43m[\u001b[49m\u001b[38;5;241;43m0\u001b[39;49m\u001b[43m,\u001b[49m\u001b[43m \u001b[49m\u001b[43m:\u001b[49m\u001b[43m]\u001b[49m\u001b[43m[\u001b[49m\u001b[43m:\u001b[49m\u001b[43m,\u001b[49m\u001b[43m \u001b[49m\u001b[43mnp\u001b[49m\u001b[38;5;241;43m.\u001b[39;49m\u001b[43mnewaxis\u001b[49m\u001b[43m]\u001b[49m\n\u001b[1;32m     82\u001b[0m tq1 \u001b[38;5;241m=\u001b[39m t1 \u001b[38;5;241m*\u001b[39m q[\u001b[38;5;241m1\u001b[39m, :][:, np\u001b[38;5;241m.\u001b[39mnewaxis]\n\u001b[1;32m     84\u001b[0m \u001b[38;5;66;03m# 2 x 2000 x 20 --> 20\u001b[39;00m\n",
      "\u001b[0;31mValueError\u001b[0m: operands could not be broadcast together with shapes (2000,20) (20,1) "
     ]
    }
   ],
   "source": [
    "alpha, beta, q, mask = em_with_real_labels(L)"
   ]
  },
  {
   "cell_type": "markdown",
   "metadata": {},
   "source": [
    "где-то накосячил с размерностями ЪУЪ"
   ]
  },
  {
   "cell_type": "markdown",
   "metadata": {},
   "source": [
    "### Картинка для поддержки ваших чувств по этому заданию"
   ]
  },
  {
   "cell_type": "markdown",
   "metadata": {},
   "source": [
    "![](https://a.d-cd.net/RAAAAgCnO-A-960.jpg)"
   ]
  }
 ],
 "metadata": {
  "kernelspec": {
   "display_name": "Python 3 (ipykernel)",
   "language": "python",
   "name": "python3"
  },
  "language_info": {
   "codemirror_mode": {
    "name": "ipython",
    "version": 3
   },
   "file_extension": ".py",
   "mimetype": "text/x-python",
   "name": "python",
   "nbconvert_exporter": "python",
   "pygments_lexer": "ipython3",
   "version": "3.10.11"
  }
 },
 "nbformat": 4,
 "nbformat_minor": 4
}
